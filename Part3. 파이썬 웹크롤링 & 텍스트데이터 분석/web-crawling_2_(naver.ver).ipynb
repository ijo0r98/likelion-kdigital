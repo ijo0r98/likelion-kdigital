{
 "cells": [
  {
   "cell_type": "markdown",
   "metadata": {},
   "source": [
    "## 파이썬 웹 크롤링(2) 네이버 뉴스 기준 추가"
   ]
  },
  {
   "cell_type": "markdown",
   "metadata": {},
   "source": [
    "라이브러리 import"
   ]
  },
  {
   "cell_type": "code",
   "execution_count": 1,
   "metadata": {},
   "outputs": [],
   "source": [
    "from bs4 import BeautifulSoup\n",
    "from urllib.request import urlopen"
   ]
  },
  {
   "cell_type": "code",
   "execution_count": 2,
   "metadata": {},
   "outputs": [],
   "source": [
    "import requests\n",
    "from bs4 import BeautifulSoup\n",
    "import pandas as pd\n",
    "from datetime import datetime\n",
    "import time\n",
    "import re"
   ]
  },
  {
   "cell_type": "markdown",
   "metadata": {},
   "source": [
    "### 단일 뉴스 스크랩"
   ]
  },
  {
   "cell_type": "markdown",
   "metadata": {},
   "source": [
    "http get 요청"
   ]
  },
  {
   "cell_type": "code",
   "execution_count": 181,
   "metadata": {},
   "outputs": [],
   "source": [
    "# url = 'https://entertain.naver.com/read?oid=009&aid=0004758549'\n",
    "# url = 'https://entertain.naver.com/read?oid=009&aid=0004793893'\n",
    "# url = 'https://entertain.naver.com/read?oid=076&aid=0003745366'\n",
    "url = 'https://entertain.naver.com/read?oid=018&aid=0004963324'\n",
    "    \n",
    "# 네이버 연예 뉴스\n",
    "web = requests.get(url).content # get 요청\n",
    "source = BeautifulSoup(web, 'html.parser')"
   ]
  },
  {
   "cell_type": "markdown",
   "metadata": {},
   "source": [
    "- 기사제목"
   ]
  },
  {
   "cell_type": "code",
   "execution_count": 180,
   "metadata": {},
   "outputs": [
    {
     "data": {
      "text/plain": [
       "\"'유 퀴즈' 배우 박정민→윤여정 동생 윤여순 출연\""
      ]
     },
     "execution_count": 180,
     "metadata": {},
     "output_type": "execute_result"
    }
   ],
   "source": [
    "source.find('h2', {'class': 'end_tit'}).get_text().strip()"
   ]
  },
  {
   "cell_type": "markdown",
   "metadata": {},
   "source": [
    "- 본문"
   ]
  },
  {
   "cell_type": "code",
   "execution_count": 143,
   "metadata": {},
   "outputs": [],
   "source": [
    "article = source.find('div', {'id': 'articeBody'}).get_text().strip()"
   ]
  },
  {
   "cell_type": "code",
   "execution_count": 144,
   "metadata": {},
   "outputs": [
    {
     "data": {
      "text/plain": [
       "\"이제훈[이데일리 스타in 김가영 기자] 배우 이제훈이 매니지먼트 컴퍼니온을 설립하며 새로운 시작을 알렸다.컴퍼니온 측은 21일 “배우 이제훈이 새로운 꿈을 이뤄나갈 동반자들과 함께 매니지먼트 컴퍼니온을 설립했다. 배우로서 다양한 영역에서 활약할 수 있도록 최선을 다 할 것”이라고 밝혔다. 컴퍼니온(COMPANY ON)은 ‘따뜻하다’의 온(溫)과 ‘온전하다’의 온(穩), 그리고 ‘켜다’ ON의 의미를 담고 있다. 동행을 뜻하는 ‘컴페니언(COMPANION)’ 발음과 유사한 점에 착안, ‘뜻이 맞는 사람들이 모여 동행하는 곳’이라는 의미도 내포하고 있다.이제훈은 2011년 영화 ‘파수꾼’으로 존재감을 각인시킨 이후 ‘고지전’ ‘건축학개론’ ‘박열’ ‘아이 캔 스피크’ ‘사냥의 시간’, 드라마 ‘시그널’ ‘여우각시별’ 등 다수의 작품을 통해 대중과 평단의 전폭적인 지지와 사랑을 받고 있는 배우다. 최근 인기리에 종영한 SBS ‘모범택시’에 이어 넷플릭스 오리지널 시리즈 ‘무브 투 헤븐: 나는 유품정리사입니다’까지 흥행에 성공하며 그 저력을 다시 한 번 입증했다. 이에 이제훈의 차기 행보에 뜨거운 기대가 쏠리고 있다. 이제훈이 대표 김유경, 감독 양경모와 공동 설립한 영화제작사 하드컷에서는 올해 왓챠 오리지널 시리즈 ‘언프레임드(Unframed)’ 제작, 방영한다. ‘언프레임드’는 배우 박정민, 손석구, 최희서, 이제훈이 각본과 연출에 직접 참여한 프로젝트. 이제훈은 영화 제작과 연출을 시작으로 아티스트로서의 스펙트럼을 넓혀가고 있다.김가영 (kky1209@edaily.co.kr)▶ #24시간 빠른 #미리보는 뉴스 #궁금하냥? 바로오시개!▶ 네이버에서 '이데일리 뉴스'를 만나보세요▶ 빡침해소, 청춘뉘우스 '스냅타임'＜ⓒ함께 만들고 함께 즐기는 엔터테인먼트 포털 스타in - 무단전재 & 재배포 금지＞\""
      ]
     },
     "execution_count": 144,
     "metadata": {},
     "output_type": "execute_result"
    }
   ],
   "source": [
    "article"
   ]
  },
  {
   "cell_type": "markdown",
   "metadata": {},
   "source": [
    "이메일부터 마지막까지 삭제"
   ]
  },
  {
   "cell_type": "code",
   "execution_count": 145,
   "metadata": {},
   "outputs": [
    {
     "name": "stdout",
     "output_type": "stream",
     "text": [
      "<re.Match object; span=(757, 767), match=' (kky1209@'>\n",
      "757\n"
     ]
    }
   ],
   "source": [
    "pattern = re.compile(r'[\\s\\Wa-zA-Z0-9]*@') \n",
    "email_address = pattern.search(article)\n",
    "print(email_address)\n",
    "print(email_address.start())"
   ]
  },
  {
   "cell_type": "code",
   "execution_count": 146,
   "metadata": {},
   "outputs": [
    {
     "name": "stdout",
     "output_type": "stream",
     "text": [
      "(kky1209@edaily.co.kr)▶ #24시간 빠른 #미리보는 뉴스 #궁금하냥? 바로오시개!▶ 네이버에서 '이데일리 뉴스'를 만나보세요▶ 빡침해소, 청춘뉘우스 '스냅타임'＜ⓒ함께 만들고 함께 즐기는 엔터테인먼트 포털 스타in - 무단전재 & 재배포 금지＞\n"
     ]
    }
   ],
   "source": [
    "print(article[email_address.start()+1:]) # 삭제할 부분"
   ]
  },
  {
   "cell_type": "code",
   "execution_count": 147,
   "metadata": {},
   "outputs": [
    {
     "data": {
      "text/plain": [
       "'이제훈[이데일리 스타in 김가영 기자] 배우 이제훈이 매니지먼트 컴퍼니온을 설립하며 새로운 시작을 알렸다.컴퍼니온 측은 21일 “배우 이제훈이 새로운 꿈을 이뤄나갈 동반자들과 함께 매니지먼트 컴퍼니온을 설립했다. 배우로서 다양한 영역에서 활약할 수 있도록 최선을 다 할 것”이라고 밝혔다. 컴퍼니온(COMPANY ON)은 ‘따뜻하다’의 온(溫)과 ‘온전하다’의 온(穩), 그리고 ‘켜다’ ON의 의미를 담고 있다. 동행을 뜻하는 ‘컴페니언(COMPANION)’ 발음과 유사한 점에 착안, ‘뜻이 맞는 사람들이 모여 동행하는 곳’이라는 의미도 내포하고 있다.이제훈은 2011년 영화 ‘파수꾼’으로 존재감을 각인시킨 이후 ‘고지전’ ‘건축학개론’ ‘박열’ ‘아이 캔 스피크’ ‘사냥의 시간’, 드라마 ‘시그널’ ‘여우각시별’ 등 다수의 작품을 통해 대중과 평단의 전폭적인 지지와 사랑을 받고 있는 배우다. 최근 인기리에 종영한 SBS ‘모범택시’에 이어 넷플릭스 오리지널 시리즈 ‘무브 투 헤븐: 나는 유품정리사입니다’까지 흥행에 성공하며 그 저력을 다시 한 번 입증했다. 이에 이제훈의 차기 행보에 뜨거운 기대가 쏠리고 있다. 이제훈이 대표 김유경, 감독 양경모와 공동 설립한 영화제작사 하드컷에서는 올해 왓챠 오리지널 시리즈 ‘언프레임드(Unframed)’ 제작, 방영한다. ‘언프레임드’는 배우 박정민, 손석구, 최희서, 이제훈이 각본과 연출에 직접 참여한 프로젝트. 이제훈은 영화 제작과 연출을 시작으로 아티스트로서의 스펙트럼을 넓혀가고 있다.김가영 '"
      ]
     },
     "execution_count": 147,
     "metadata": {},
     "output_type": "execute_result"
    }
   ],
   "source": [
    "article = article[:email_address.start()+1]\n",
    "article"
   ]
  },
  {
   "cell_type": "markdown",
   "metadata": {},
   "source": [
    "'처음 ~ 기자] ' 삭제"
   ]
  },
  {
   "cell_type": "code",
   "execution_count": 150,
   "metadata": {},
   "outputs": [
    {
     "data": {
      "text/plain": [
       "'이제훈[이데일리 스타in 김가영 기자]'"
      ]
     },
     "execution_count": 150,
     "metadata": {},
     "output_type": "execute_result"
    }
   ],
   "source": [
    "del_index = article.find('기자]')\n",
    "article[:del_index+3] # 삭제할 부분"
   ]
  },
  {
   "cell_type": "code",
   "execution_count": 152,
   "metadata": {
    "scrolled": true
   },
   "outputs": [
    {
     "data": {
      "text/plain": [
       "' 배우 이제훈이 매니지먼트 컴퍼니온을 설립하며 새로운 시작을 알렸다.컴퍼니온 측은 21일 “배우 이제훈이 새로운 꿈을 이뤄나갈 동반자들과 함께 매니지먼트 컴퍼니온을 설립했다. 배우로서 다양한 영역에서 활약할 수 있도록 최선을 다 할 것”이라고 밝혔다. 컴퍼니온(COMPANY ON)은 ‘따뜻하다’의 온(溫)과 ‘온전하다’의 온(穩), 그리고 ‘켜다’ ON의 의미를 담고 있다. 동행을 뜻하는 ‘컴페니언(COMPANION)’ 발음과 유사한 점에 착안, ‘뜻이 맞는 사람들이 모여 동행하는 곳’이라는 의미도 내포하고 있다.이제훈은 2011년 영화 ‘파수꾼’으로 존재감을 각인시킨 이후 ‘고지전’ ‘건축학개론’ ‘박열’ ‘아이 캔 스피크’ ‘사냥의 시간’, 드라마 ‘시그널’ ‘여우각시별’ 등 다수의 작품을 통해 대중과 평단의 전폭적인 지지와 사랑을 받고 있는 배우다. 최근 인기리에 종영한 SBS ‘모범택시’에 이어 넷플릭스 오리지널 시리즈 ‘무브 투 헤븐: 나는 유품정리사입니다’까지 흥행에 성공하며 그 저력을 다시 한 번 입증했다. 이에 이제훈의 차기 행보에 뜨거운 기대가 쏠리고 있다. 이제훈이 대표 김유경, 감독 양경모와 공동 설립한 영화제작사 하드컷에서는 올해 왓챠 오리지널 시리즈 ‘언프레임드(Unframed)’ 제작, 방영한다. ‘언프레임드’는 배우 박정민, 손석구, 최희서, 이제훈이 각본과 연출에 직접 참여한 프로젝트. 이제훈은 영화 제작과 연출을 시작으로 아티스트로서의 스펙트럼을 넓혀가고 있다.김가영 '"
      ]
     },
     "execution_count": 152,
     "metadata": {},
     "output_type": "execute_result"
    }
   ],
   "source": [
    "article = article[del_index+3:]\n",
    "article"
   ]
  },
  {
   "cell_type": "markdown",
   "metadata": {},
   "source": [
    "- 발행 시간"
   ]
  },
  {
   "cell_type": "code",
   "execution_count": 154,
   "metadata": {},
   "outputs": [
    {
     "data": {
      "text/plain": [
       "'2021.06.21. 오전 9:17'"
      ]
     },
     "execution_count": 154,
     "metadata": {},
     "output_type": "execute_result"
    }
   ],
   "source": [
    "source.find('span', {'class': 'author'}).find('em').get_text()"
   ]
  },
  {
   "cell_type": "markdown",
   "metadata": {},
   "source": [
    "- 발행사"
   ]
  },
  {
   "cell_type": "code",
   "execution_count": 156,
   "metadata": {},
   "outputs": [
    {
     "data": {
      "text/plain": [
       "'이데일리'"
      ]
     },
     "execution_count": 156,
     "metadata": {},
     "output_type": "execute_result"
    }
   ],
   "source": [
    "source.find('img')['alt']"
   ]
  },
  {
   "cell_type": "markdown",
   "metadata": {},
   "source": [
    "<br>\n",
    "\n",
    "### 여러 기사 스크랩"
   ]
  },
  {
   "cell_type": "code",
   "execution_count": 159,
   "metadata": {},
   "outputs": [
    {
     "data": {
      "text/plain": [
       "'https://search.naver.com/search.naver?where=news&query=배우 박정민'"
      ]
     },
     "execution_count": 159,
     "metadata": {},
     "output_type": "execute_result"
    }
   ],
   "source": [
    "query = '배우 박정민'\n",
    "url = \"https://search.naver.com/search.naver?where=news&query=\" + query\n",
    "\n",
    "web = requests.get(url).content # get 요청\n",
    "source = BeautifulSoup(web, 'html.parser')\n",
    "\n",
    "url"
   ]
  },
  {
   "cell_type": "code",
   "execution_count": 160,
   "metadata": {},
   "outputs": [
    {
     "data": {
      "text/plain": [
       "['[인터뷰 종합]\"\\'여고괴담\\' 코인 기대해\"…김형서, \\'뮤지션 비비\\'와 배우의 두...',\n",
       " '비비 \"롤모델? 박찬욱 감독…박정민, 내가 대본 쓴 MV에 캐스팅하고파\" [MD인...',\n",
       " '배우 이제훈, 매니지먼트 컴퍼니온 설립 [공식]',\n",
       " '배우 이제훈 매니지먼트 사업 뛰어든다',\n",
       " \"김혜수·조인성·염정아·박정민… 류승완 감독 신작 '밀수' 크랭크인(공식)\",\n",
       " '박정민, 책방 운영 종료…\"언젠가 더 번듯하게\"',\n",
       " '김성철 “어릴 때부터 흥부자, 배우 꿈꿔왔다” [화보]',\n",
       " '박정민, 책방 폐업 결정 \"운영에 어려운 문제 있었다\"',\n",
       " \"'유 퀴즈' 배우 박정민→윤여정 동생 윤여순 출연\",\n",
       " '배우 박정민, 2년 만에 책방 폐점']"
      ]
     },
     "execution_count": 160,
     "metadata": {},
     "output_type": "execute_result"
    }
   ],
   "source": [
    "subjects = source.find_all('a', {'class': 'news_tit'})\n",
    "\n",
    "subjects_list = []\n",
    "\n",
    "for subject in subjects:\n",
    "    subjects_list.append(subject.get_text().strip())\n",
    "    \n",
    "subjects_list"
   ]
  },
  {
   "cell_type": "code",
   "execution_count": 161,
   "metadata": {},
   "outputs": [
    {
     "name": "stdout",
     "output_type": "stream",
     "text": [
      "https://news.naver.com/main/read.nhn?mode=LSD&mid=sec&sid1=106&oid=076&aid=0003745366\n",
      "https://news.naver.com/main/read.nhn?mode=LSD&mid=sec&sid1=106&oid=117&aid=0003509322\n",
      "https://news.naver.com/main/read.nhn?mode=LSD&mid=sec&sid1=106&oid=018&aid=0004963324\n",
      "https://news.naver.com/main/read.nhn?mode=LSD&mid=sec&sid1=106&oid=277&aid=0004923452\n",
      "https://news.naver.com/main/read.nhn?mode=LSD&mid=sec&sid1=106&oid=052&aid=0001599896\n",
      "https://news.naver.com/main/read.nhn?mode=LSD&mid=sec&sid1=103&oid=001&aid=0012442923\n",
      "https://news.naver.com/main/read.nhn?mode=LSD&mid=sec&sid1=106&oid=382&aid=0000917141\n",
      "https://news.naver.com/main/read.nhn?mode=LSD&mid=sec&sid1=106&oid=421&aid=0005399655\n",
      "https://news.naver.com/main/read.nhn?mode=LSD&mid=sec&sid1=106&oid=003&aid=0010529672\n"
     ]
    }
   ],
   "source": [
    "for info in source.find_all('div', {'class': 'info_group'}):\n",
    "    for item in info.find_all('a', {'class': 'info'}):\n",
    "        if item.get_text() == '네이버뉴스':\n",
    "            print(item['href'])"
   ]
  },
  {
   "cell_type": "code",
   "execution_count": 162,
   "metadata": {},
   "outputs": [
    {
     "data": {
      "text/plain": [
       "['https://news.naver.com/main/read.nhn?mode=LSD&mid=sec&sid1=106&oid=076&aid=0003745366',\n",
       " 'https://news.naver.com/main/read.nhn?mode=LSD&mid=sec&sid1=106&oid=117&aid=0003509322',\n",
       " 'https://news.naver.com/main/read.nhn?mode=LSD&mid=sec&sid1=106&oid=018&aid=0004963324',\n",
       " 'https://news.naver.com/main/read.nhn?mode=LSD&mid=sec&sid1=106&oid=277&aid=0004923452',\n",
       " 'https://news.naver.com/main/read.nhn?mode=LSD&mid=sec&sid1=106&oid=052&aid=0001599896',\n",
       " 'https://news.naver.com/main/read.nhn?mode=LSD&mid=sec&sid1=103&oid=001&aid=0012442923',\n",
       " 'https://news.naver.com/main/read.nhn?mode=LSD&mid=sec&sid1=106&oid=382&aid=0000917141',\n",
       " 'https://news.naver.com/main/read.nhn?mode=LSD&mid=sec&sid1=106&oid=421&aid=0005399655',\n",
       " 'https://news.naver.com/main/read.nhn?mode=LSD&mid=sec&sid1=106&oid=003&aid=0010529672']"
      ]
     },
     "execution_count": 162,
     "metadata": {},
     "output_type": "execute_result"
    }
   ],
   "source": [
    "urls_list = []\n",
    "for info in source.find_all('div', {'class': 'info_group'}):\n",
    "    for item in info.find_all('a', {'class': 'info'}):\n",
    "        if item.get_text() == '네이버뉴스':\n",
    "            urls_list.append(item['href'])\n",
    "            \n",
    "urls_list"
   ]
  },
  {
   "cell_type": "markdown",
   "metadata": {},
   "source": [
    "여러 뉴스에서 본문 스크랩"
   ]
  },
  {
   "cell_type": "code",
   "execution_count": 187,
   "metadata": {},
   "outputs": [],
   "source": [
    "titles = [] # 기사 제목\n",
    "dates = [] # 발행 일자와 시간\n",
    "articles = [] # 내용\n",
    "press_companies = [] # 발행사\n",
    "urls = [] # url"
   ]
  },
  {
   "cell_type": "code",
   "execution_count": 188,
   "metadata": {},
   "outputs": [
    {
     "name": "stdout",
     "output_type": "stream",
     "text": [
      "Title: https://news.naver.com/main/read.nhn?mode=LSD&mid=sec&sid1=106&oid=076&aid=0003745366\n",
      "Title: https://news.naver.com/main/read.nhn?mode=LSD&mid=sec&sid1=106&oid=117&aid=0003509322\n",
      "Title: https://news.naver.com/main/read.nhn?mode=LSD&mid=sec&sid1=106&oid=018&aid=0004963324\n",
      "Title: https://news.naver.com/main/read.nhn?mode=LSD&mid=sec&sid1=106&oid=277&aid=0004923452\n",
      "Title: https://news.naver.com/main/read.nhn?mode=LSD&mid=sec&sid1=106&oid=052&aid=0001599896\n",
      "*** error occurred at https://news.naver.com/main/read.nhn?mode=LSD&mid=sec&sid1=103&oid=001&aid=0012442923 ***\n",
      "Title: https://news.naver.com/main/read.nhn?mode=LSD&mid=sec&sid1=106&oid=382&aid=0000917141\n",
      "Title: https://news.naver.com/main/read.nhn?mode=LSD&mid=sec&sid1=106&oid=421&aid=0005399655\n",
      "Title: https://news.naver.com/main/read.nhn?mode=LSD&mid=sec&sid1=106&oid=003&aid=0010529672\n"
     ]
    }
   ],
   "source": [
    "for url in urls_list:\n",
    "    if url.startswith('https://news.naver.com'):\n",
    "        try:\n",
    "            headers = {'User-Agent':'Mozilla/5.0 (Windows NT 6.3; Win64; x64) AppleWebKit/537.36 (KHTML, like Gecko) Chrome/63.0.3239.132 Safari/537.36'}\n",
    "            content = requests.get(url, headers=headers).content\n",
    "            source = BeautifulSoup(content, 'html.parser')\n",
    "\n",
    "            # 기사제목\n",
    "            title = source.find('h2').get_text().strip()\n",
    "\n",
    "            # 기사날짜\n",
    "            date = source.find('span', {'class': 'author'}).find('em').get_text()\n",
    "\n",
    "            # 기사본문\n",
    "            article = source.find('div', {'id': 'articeBody'}).get_text().strip()\n",
    "            pattern = re.compile(r'[\\s\\Wa-zA-Z0-9]*@') \n",
    "            email_address = pattern.search(article)\n",
    "            article = article[:email_address.start()+1]\n",
    "            del_index = article.find('기자]')\n",
    "            article = article[del_index+3:]\n",
    "\n",
    "            # 언론사\n",
    "            press_company = source.find('img')['alt']\n",
    "            \n",
    "            titles.append(title)\n",
    "            dates.append(date)\n",
    "            articles.append(article)\n",
    "            press_companies.append(press_company)\n",
    "            urls.append(url)\n",
    "            print('Title: {}'.format(url))\n",
    "            \n",
    "        except:\n",
    "            print('*** error occurred at {} ***'.format(url))\n",
    "    else:\n",
    "        print('** (네이버뉴스x) Title: {}'.format(url))"
   ]
  },
  {
   "cell_type": "code",
   "execution_count": 190,
   "metadata": {},
   "outputs": [
    {
     "data": {
      "text/html": [
       "<div>\n",
       "<style scoped>\n",
       "    .dataframe tbody tr th:only-of-type {\n",
       "        vertical-align: middle;\n",
       "    }\n",
       "\n",
       "    .dataframe tbody tr th {\n",
       "        vertical-align: top;\n",
       "    }\n",
       "\n",
       "    .dataframe thead th {\n",
       "        text-align: right;\n",
       "    }\n",
       "</style>\n",
       "<table border=\"1\" class=\"dataframe\">\n",
       "  <thead>\n",
       "    <tr style=\"text-align: right;\">\n",
       "      <th></th>\n",
       "      <th>Title</th>\n",
       "      <th>Date</th>\n",
       "      <th>Article</th>\n",
       "      <th>URL</th>\n",
       "      <th>Press Company</th>\n",
       "    </tr>\n",
       "  </thead>\n",
       "  <tbody>\n",
       "    <tr>\n",
       "      <th>0</th>\n",
       "      <td>[인터뷰 종합]\"'여고괴담' 코인 기대해\"…김형서, '뮤지션 비비'와 배우의 두 얼굴</td>\n",
       "      <td>2021.06.22. 오후 3:55</td>\n",
       "      <td>김형서(23)가 '뮤지션 비비'가 아닌 배우 타이틀에 용기 있게 도전했다.기억을 잃...</td>\n",
       "      <td>https://news.naver.com/main/read.nhn?mode=LSD&amp;...</td>\n",
       "      <td>스포츠조선</td>\n",
       "    </tr>\n",
       "    <tr>\n",
       "      <th>1</th>\n",
       "      <td>비비 \"롤모델? 박찬욱 감독…박정민, 내가 대본 쓴 MV에 캐스팅하고파\" [MD인터뷰③]</td>\n",
       "      <td>2021.06.22. 오후 2:29</td>\n",
       "      <td>신예 김형서(활동명 비비(BIBI)·22)가 롤모델로 박찬욱 감독을 지목하며 배우...</td>\n",
       "      <td>https://news.naver.com/main/read.nhn?mode=LSD&amp;...</td>\n",
       "      <td>마이데일리</td>\n",
       "    </tr>\n",
       "    <tr>\n",
       "      <th>2</th>\n",
       "      <td>배우 이제훈, 매니지먼트 컴퍼니온 설립 [공식]</td>\n",
       "      <td>2021.06.21. 오전 9:17</td>\n",
       "      <td>배우 이제훈이 매니지먼트 컴퍼니온을 설립하며 새로운 시작을 알렸다.컴퍼니온 측은 ...</td>\n",
       "      <td>https://news.naver.com/main/read.nhn?mode=LSD&amp;...</td>\n",
       "      <td>이데일리</td>\n",
       "    </tr>\n",
       "    <tr>\n",
       "      <th>3</th>\n",
       "      <td>배우 이제훈 매니지먼트 사업 뛰어든다</td>\n",
       "      <td>2021.06.21. 오전 9:41</td>\n",
       "      <td>니온 설립, 다양한 활동 예고 \\n배우 이제훈이 매니지먼트 사업을 시작한다. 21일...</td>\n",
       "      <td>https://news.naver.com/main/read.nhn?mode=LSD&amp;...</td>\n",
       "      <td>아시아경제</td>\n",
       "    </tr>\n",
       "    <tr>\n",
       "      <th>4</th>\n",
       "      <td>김혜수·조인성·염정아·박정민… 류승완 감독 신작 '밀수' 크랭크인(공식)</td>\n",
       "      <td>2021.06.11. 오전 9:37</td>\n",
       "      <td>은 바다에서 펼쳐지는 위험천만한 밀수 작전을 그려낼 영화 '밀수'가 김혜수, 염정아...</td>\n",
       "      <td>https://news.naver.com/main/read.nhn?mode=LSD&amp;...</td>\n",
       "      <td>YTN</td>\n",
       "    </tr>\n",
       "    <tr>\n",
       "      <th>5</th>\n",
       "      <td>김성철 “어릴 때부터 흥부자, 배우 꿈꿔왔다” [화보]</td>\n",
       "      <td>2021.06.18. 오전 10:47</td>\n",
       "      <td>철 “어릴 때부터 흥부자, 배우 꿈꿔왔다” [화보]드라마 &lt;빈센조&gt;, &lt;라켓소년단&gt;...</td>\n",
       "      <td>https://news.naver.com/main/read.nhn?mode=LSD&amp;...</td>\n",
       "      <td>스포츠동아</td>\n",
       "    </tr>\n",
       "    <tr>\n",
       "      <th>6</th>\n",
       "      <td>박정민, 책방 폐업 결정 \"운영에 어려운 문제 있었다\"</td>\n",
       "      <td>2021.06.08. 오전 8:18</td>\n",
       "      <td>박정민 © News1 김진환 기자(서울=뉴스1) 안태현 기자 = 배우 박정민이 운...</td>\n",
       "      <td>https://news.naver.com/main/read.nhn?mode=LSD&amp;...</td>\n",
       "      <td>뉴스1</td>\n",
       "    </tr>\n",
       "    <tr>\n",
       "      <th>7</th>\n",
       "      <td>'유 퀴즈' 배우 박정민→윤여정 동생 윤여순 출연</td>\n",
       "      <td>2021.06.02. 오후 1:51</td>\n",
       "      <td>울=뉴시스]2일 방송되는 tvN '유 퀴즈 온 더 블럭'. (사진=tvN '유 퀴즈...</td>\n",
       "      <td>https://news.naver.com/main/read.nhn?mode=LSD&amp;...</td>\n",
       "      <td>뉴시스</td>\n",
       "    </tr>\n",
       "  </tbody>\n",
       "</table>\n",
       "</div>"
      ],
      "text/plain": [
       "                                               Title                  Date  \\\n",
       "0    [인터뷰 종합]\"'여고괴담' 코인 기대해\"…김형서, '뮤지션 비비'와 배우의 두 얼굴   2021.06.22. 오후 3:55   \n",
       "1  비비 \"롤모델? 박찬욱 감독…박정민, 내가 대본 쓴 MV에 캐스팅하고파\" [MD인터뷰③]   2021.06.22. 오후 2:29   \n",
       "2                         배우 이제훈, 매니지먼트 컴퍼니온 설립 [공식]   2021.06.21. 오전 9:17   \n",
       "3                               배우 이제훈 매니지먼트 사업 뛰어든다   2021.06.21. 오전 9:41   \n",
       "4           김혜수·조인성·염정아·박정민… 류승완 감독 신작 '밀수' 크랭크인(공식)   2021.06.11. 오전 9:37   \n",
       "5                     김성철 “어릴 때부터 흥부자, 배우 꿈꿔왔다” [화보]  2021.06.18. 오전 10:47   \n",
       "6                     박정민, 책방 폐업 결정 \"운영에 어려운 문제 있었다\"   2021.06.08. 오전 8:18   \n",
       "7                        '유 퀴즈' 배우 박정민→윤여정 동생 윤여순 출연   2021.06.02. 오후 1:51   \n",
       "\n",
       "                                             Article  \\\n",
       "0  김형서(23)가 '뮤지션 비비'가 아닌 배우 타이틀에 용기 있게 도전했다.기억을 잃...   \n",
       "1   신예 김형서(활동명 비비(BIBI)·22)가 롤모델로 박찬욱 감독을 지목하며 배우...   \n",
       "2   배우 이제훈이 매니지먼트 컴퍼니온을 설립하며 새로운 시작을 알렸다.컴퍼니온 측은 ...   \n",
       "3  니온 설립, 다양한 활동 예고 \\n배우 이제훈이 매니지먼트 사업을 시작한다. 21일...   \n",
       "4  은 바다에서 펼쳐지는 위험천만한 밀수 작전을 그려낼 영화 '밀수'가 김혜수, 염정아...   \n",
       "5  철 “어릴 때부터 흥부자, 배우 꿈꿔왔다” [화보]드라마 <빈센조>, <라켓소년단>...   \n",
       "6   박정민 © News1 김진환 기자(서울=뉴스1) 안태현 기자 = 배우 박정민이 운...   \n",
       "7  울=뉴시스]2일 방송되는 tvN '유 퀴즈 온 더 블럭'. (사진=tvN '유 퀴즈...   \n",
       "\n",
       "                                                 URL Press Company  \n",
       "0  https://news.naver.com/main/read.nhn?mode=LSD&...         스포츠조선  \n",
       "1  https://news.naver.com/main/read.nhn?mode=LSD&...         마이데일리  \n",
       "2  https://news.naver.com/main/read.nhn?mode=LSD&...          이데일리  \n",
       "3  https://news.naver.com/main/read.nhn?mode=LSD&...         아시아경제  \n",
       "4  https://news.naver.com/main/read.nhn?mode=LSD&...           YTN  \n",
       "5  https://news.naver.com/main/read.nhn?mode=LSD&...         스포츠동아  \n",
       "6  https://news.naver.com/main/read.nhn?mode=LSD&...           뉴스1  \n",
       "7  https://news.naver.com/main/read.nhn?mode=LSD&...           뉴시스  "
      ]
     },
     "execution_count": 190,
     "metadata": {},
     "output_type": "execute_result"
    }
   ],
   "source": [
    "df_article = pd.DataFrame({'Title': titles, 'Date': dates, 'Article': articles, 'URL': url, 'Press Company': press_companies})\n",
    "df_article"
   ]
  },
  {
   "cell_type": "markdown",
   "metadata": {},
   "source": [
    "<br>\n",
    "\n",
    "### 메서드화"
   ]
  },
  {
   "cell_type": "code",
   "execution_count": 7,
   "metadata": {},
   "outputs": [],
   "source": [
    "def scraping_news(url, titles, dates, articles, press_companies, urls):\n",
    "    if url.startswith('https://news.naver.com'):\n",
    "        try:\n",
    "            # 헤더 설정\n",
    "            headers = {'User-Agent':'Mozilla/5.0 (Windows NT 6.3; Win64; x64) AppleWebKit/537.36 (KHTML, like Gecko) Chrome/63.0.3239.132 Safari/537.36'}\n",
    "            content = requests.get(url, headers=headers).content\n",
    "            source = BeautifulSoup(content, 'html.parser')\n",
    "\n",
    "            # 기사제목\n",
    "            title = source.find('h2').get_text().strip()\n",
    "\n",
    "            # 기사날짜\n",
    "            date = source.find('span', {'class': 'author'}).find('em').get_text()\n",
    "\n",
    "            # 기사본문\n",
    "            article = source.find('div', {'id': 'articeBody'}).get_text().strip()\n",
    "            pattern = re.compile(r'[\\s\\Wa-zA-Z0-9]*@') \n",
    "            email_address = pattern.search(article)\n",
    "            article = article[:email_address.start()+1]\n",
    "            del_index = article.find('기자]')\n",
    "            article = article[del_index+3:]\n",
    "\n",
    "            # 언론사\n",
    "            press_company = source.find('img')['alt']\n",
    "            \n",
    "            titles.append(title)\n",
    "            dates.append(date)\n",
    "            articles.append(article)\n",
    "            press_companies.append(press_company)\n",
    "            urls.append(url)\n",
    "            print('Title: {}'.format(url))\n",
    "            \n",
    "        except:\n",
    "            print('*** error occurred at {} ***'.format(url))\n",
    "    else:\n",
    "        print('** (네이버뉴스x) Title: {}'.format(url))"
   ]
  },
  {
   "cell_type": "code",
   "execution_count": 8,
   "metadata": {},
   "outputs": [],
   "source": [
    "def make_dateframe(titles, dates, articles, urls, presscompanies):\n",
    "    return pd.DataFrame({'Title':titles, \n",
    "                           'Date':dates, \n",
    "                           'Article':articles, \n",
    "                           'URL':urls, \n",
    "                           'PressCompany':presscompanies})"
   ]
  },
  {
   "cell_type": "markdown",
   "metadata": {},
   "source": [
    "<br>\n",
    "\n",
    "### 여러 페이지에 걸쳐 크롤링"
   ]
  },
  {
   "cell_type": "code",
   "execution_count": 17,
   "metadata": {},
   "outputs": [
    {
     "name": "stdout",
     "output_type": "stream",
     "text": [
      "검색할 단어를 입력하세요: 배우 박정민\n",
      "검색할 총 페이지수를 입력하세요: 3\n",
      "\n",
      "1번째 페이지\n",
      "1번째 기사글부터 크롤링을 시작합니다.\n",
      "Title: https://news.naver.com/main/read.nhn?mode=LSD&mid=sec&sid1=106&oid=076&aid=0003745366\n",
      "Title: https://news.naver.com/main/read.nhn?mode=LSD&mid=sec&sid1=106&oid=117&aid=0003509322\n",
      "Title: https://news.naver.com/main/read.nhn?mode=LSD&mid=sec&sid1=106&oid=018&aid=0004963324\n",
      "Title: https://news.naver.com/main/read.nhn?mode=LSD&mid=sec&sid1=106&oid=277&aid=0004923452\n",
      "Title: https://news.naver.com/main/read.nhn?mode=LSD&mid=sec&sid1=106&oid=052&aid=0001599896\n",
      "*** error occurred at https://news.naver.com/main/read.nhn?mode=LSD&mid=sec&sid1=103&oid=001&aid=0012442923 ***\n",
      "Title: https://news.naver.com/main/read.nhn?mode=LSD&mid=sec&sid1=106&oid=382&aid=0000917141\n",
      "Title: https://news.naver.com/main/read.nhn?mode=LSD&mid=sec&sid1=106&oid=421&aid=0005399655\n",
      "Title: https://news.naver.com/main/read.nhn?mode=LSD&mid=sec&sid1=106&oid=003&aid=0010529672\n",
      "\n",
      "2번째 페이지\n",
      "11번째 기사글부터 크롤링을 시작합니다.\n",
      "Title: https://news.naver.com/main/read.nhn?mode=LSD&mid=sec&sid1=106&oid=311&aid=0001309667\n",
      "Title: https://news.naver.com/main/read.nhn?mode=LSD&mid=sec&sid1=106&oid=421&aid=0005389846\n",
      "Title: https://news.naver.com/main/read.nhn?mode=LSD&mid=sec&sid1=106&oid=018&aid=0004946055\n",
      "Title: https://news.naver.com/main/read.nhn?mode=LSD&mid=sec&sid1=106&oid=003&aid=0010532049\n",
      "Title: https://news.naver.com/main/read.nhn?mode=LSD&mid=sec&sid1=106&oid=144&aid=0000740933\n",
      "*** error occurred at https://news.naver.com/main/read.nhn?mode=LSD&mid=sec&sid1=105&oid=030&aid=0002940285 ***\n",
      "Title: https://news.naver.com/main/read.nhn?mode=LSD&mid=sec&sid1=106&oid=421&aid=0005389943\n",
      "Title: https://news.naver.com/main/read.nhn?mode=LSD&mid=sec&sid1=106&oid=018&aid=0004948468\n",
      "\n",
      "3번째 페이지\n",
      "21번째 기사글부터 크롤링을 시작합니다.\n",
      "Title: https://news.naver.com/main/read.nhn?mode=LSD&mid=sec&sid1=106&oid=009&aid=0004803473\n",
      "Title: https://news.naver.com/main/read.nhn?mode=LSD&mid=sec&sid1=106&oid=003&aid=0010467266\n",
      "Title: https://news.naver.com/main/read.nhn?mode=LSD&mid=sec&sid1=106&oid=421&aid=0005300181\n",
      "Title: https://news.naver.com/main/read.nhn?mode=LSD&mid=sec&sid1=106&oid=109&aid=0004417313\n",
      "Title: https://news.naver.com/main/read.nhn?mode=LSD&mid=sec&sid1=106&oid=241&aid=0003123233\n",
      "Title: https://news.naver.com/main/read.nhn?mode=LSD&mid=sec&sid1=106&oid=108&aid=0002960356\n",
      "Title: https://news.naver.com/main/read.nhn?mode=LSD&mid=sec&sid1=106&oid=312&aid=0000483393\n",
      "Title: https://news.naver.com/main/read.nhn?mode=LSD&mid=sec&sid1=106&oid=241&aid=0003115098\n",
      "Title: https://news.naver.com/main/read.nhn?mode=LSD&mid=sec&sid1=106&oid=052&aid=0001580333\n",
      "*** error occurred at https://news.naver.com/main/read.nhn?mode=LSD&mid=sec&sid1=102&oid=421&aid=0005383588 ***\n"
     ]
    }
   ],
   "source": [
    "query = (input('검색할 단어를 입력하세요: '))\n",
    "max_page = (input('검색할 총 페이지수를 입력하세요: '))\n",
    "\n",
    "current = 1\n",
    "last = (int(max_page)-1) * 10 + 1\n",
    "base_url = 'https://search.naver.com/search.naver?where=news&query='\n",
    "\n",
    "\n",
    "titles = []\n",
    "dates = []\n",
    "articles = []\n",
    "press_companies = []\n",
    "urls = []\n",
    "while current <= last:\n",
    "    print('\\n{}번째 페이지'.format((current//10) + 1))\n",
    "    print('{}번째 기사글부터 크롤링을 시작합니다.'.format(current))\n",
    "    \n",
    "    # 페이지 이동\n",
    "    url = base_url + query + '&start=' + str(current)\n",
    "    web = requests.get(url).content\n",
    "    source = BeautifulSoup(web, 'html.parser')\n",
    "    \n",
    "    # 각 페이지 url에서 기사 url 스크랩\n",
    "    urls_list = []\n",
    "    for info in source.find_all('div', {'class': 'info_group'}):\n",
    "        for item in info.find_all('a', {'class': 'info'}):\n",
    "            if item.get_text() == '네이버뉴스':\n",
    "                urls_list.append(item['href'])\n",
    "        \n",
    "    # 각 url에 접속하여 기사 본문 스크랩    \n",
    "    for url in urls_list:\n",
    "        scraping_news(url, titles, dates, articles, press_companies, urls)\n",
    "\n",
    "    # 접속 차단 방지를 위해 몇초간 sleep\n",
    "    time.sleep(5)\n",
    "    current += 10\n",
    "\n",
    "# 데이터프레임 생성\n",
    "df_news = make_dateframe(titles, dates, articles, urls, press_companies)"
   ]
  },
  {
   "cell_type": "code",
   "execution_count": 22,
   "metadata": {},
   "outputs": [
    {
     "data": {
      "text/html": [
       "<div>\n",
       "<style scoped>\n",
       "    .dataframe tbody tr th:only-of-type {\n",
       "        vertical-align: middle;\n",
       "    }\n",
       "\n",
       "    .dataframe tbody tr th {\n",
       "        vertical-align: top;\n",
       "    }\n",
       "\n",
       "    .dataframe thead th {\n",
       "        text-align: right;\n",
       "    }\n",
       "</style>\n",
       "<table border=\"1\" class=\"dataframe\">\n",
       "  <thead>\n",
       "    <tr style=\"text-align: right;\">\n",
       "      <th></th>\n",
       "      <th>Title</th>\n",
       "      <th>Date</th>\n",
       "      <th>Article</th>\n",
       "      <th>URL</th>\n",
       "      <th>PressCompany</th>\n",
       "    </tr>\n",
       "  </thead>\n",
       "  <tbody>\n",
       "    <tr>\n",
       "      <th>0</th>\n",
       "      <td>[인터뷰 종합]\"'여고괴담' 코인 기대해\"…김형서, '뮤지션 비비'와 배우의 두 얼굴</td>\n",
       "      <td>2021.06.22. 오후 3:55</td>\n",
       "      <td>김형서(23)가 '뮤지션 비비'가 아닌 배우 타이틀에 용기 있게 도전했다.기억을 잃...</td>\n",
       "      <td>https://news.naver.com/main/read.nhn?mode=LSD&amp;...</td>\n",
       "      <td>스포츠조선</td>\n",
       "    </tr>\n",
       "    <tr>\n",
       "      <th>1</th>\n",
       "      <td>비비 \"롤모델? 박찬욱 감독…박정민, 내가 대본 쓴 MV에 캐스팅하고파\" [MD인터뷰③]</td>\n",
       "      <td>2021.06.22. 오후 2:29</td>\n",
       "      <td>신예 김형서(활동명 비비(BIBI)·22)가 롤모델로 박찬욱 감독을 지목하며 배우...</td>\n",
       "      <td>https://news.naver.com/main/read.nhn?mode=LSD&amp;...</td>\n",
       "      <td>마이데일리</td>\n",
       "    </tr>\n",
       "    <tr>\n",
       "      <th>2</th>\n",
       "      <td>배우 이제훈, 매니지먼트 컴퍼니온 설립 [공식]</td>\n",
       "      <td>2021.06.21. 오전 9:17</td>\n",
       "      <td>배우 이제훈이 매니지먼트 컴퍼니온을 설립하며 새로운 시작을 알렸다.컴퍼니온 측은 ...</td>\n",
       "      <td>https://news.naver.com/main/read.nhn?mode=LSD&amp;...</td>\n",
       "      <td>이데일리</td>\n",
       "    </tr>\n",
       "    <tr>\n",
       "      <th>3</th>\n",
       "      <td>배우 이제훈 매니지먼트 사업 뛰어든다</td>\n",
       "      <td>2021.06.21. 오전 9:41</td>\n",
       "      <td>니온 설립, 다양한 활동 예고 \\n배우 이제훈이 매니지먼트 사업을 시작한다. 21일...</td>\n",
       "      <td>https://news.naver.com/main/read.nhn?mode=LSD&amp;...</td>\n",
       "      <td>아시아경제</td>\n",
       "    </tr>\n",
       "    <tr>\n",
       "      <th>4</th>\n",
       "      <td>김혜수·조인성·염정아·박정민… 류승완 감독 신작 '밀수' 크랭크인(공식)</td>\n",
       "      <td>2021.06.11. 오전 9:37</td>\n",
       "      <td>은 바다에서 펼쳐지는 위험천만한 밀수 작전을 그려낼 영화 '밀수'가 김혜수, 염정아...</td>\n",
       "      <td>https://news.naver.com/main/read.nhn?mode=LSD&amp;...</td>\n",
       "      <td>YTN</td>\n",
       "    </tr>\n",
       "    <tr>\n",
       "      <th>5</th>\n",
       "      <td>김성철 “어릴 때부터 흥부자, 배우 꿈꿔왔다” [화보]</td>\n",
       "      <td>2021.06.18. 오전 10:47</td>\n",
       "      <td>철 “어릴 때부터 흥부자, 배우 꿈꿔왔다” [화보]드라마 &lt;빈센조&gt;, &lt;라켓소년단&gt;...</td>\n",
       "      <td>https://news.naver.com/main/read.nhn?mode=LSD&amp;...</td>\n",
       "      <td>스포츠동아</td>\n",
       "    </tr>\n",
       "    <tr>\n",
       "      <th>6</th>\n",
       "      <td>박정민, 책방 폐업 결정 \"운영에 어려운 문제 있었다\"</td>\n",
       "      <td>2021.06.08. 오전 8:18</td>\n",
       "      <td>박정민 © News1 김진환 기자(서울=뉴스1) 안태현 기자 = 배우 박정민이 운...</td>\n",
       "      <td>https://news.naver.com/main/read.nhn?mode=LSD&amp;...</td>\n",
       "      <td>뉴스1</td>\n",
       "    </tr>\n",
       "    <tr>\n",
       "      <th>7</th>\n",
       "      <td>'유 퀴즈' 배우 박정민→윤여정 동생 윤여순 출연</td>\n",
       "      <td>2021.06.02. 오후 1:51</td>\n",
       "      <td>울=뉴시스]2일 방송되는 tvN '유 퀴즈 온 더 블럭'. (사진=tvN '유 퀴즈...</td>\n",
       "      <td>https://news.naver.com/main/read.nhn?mode=LSD&amp;...</td>\n",
       "      <td>뉴시스</td>\n",
       "    </tr>\n",
       "    <tr>\n",
       "      <th>8</th>\n",
       "      <td>류승완 감독 '밀수' 김혜수·염정아→조인성·박정민 캐스팅 확정…크랭크인</td>\n",
       "      <td>2021.06.12. 오후 5:00</td>\n",
       "      <td>영화 '밀수'(감독 류승완)가 배우 김혜수, 염정아, 조인성, 박정민, 고민시, ...</td>\n",
       "      <td>https://news.naver.com/main/read.nhn?mode=LSD&amp;...</td>\n",
       "      <td>엑스포츠뉴스</td>\n",
       "    </tr>\n",
       "    <tr>\n",
       "      <th>9</th>\n",
       "      <td>박정민 \"연기 위해 고려대 자퇴…후회는 자주 했다\" 솔직 고백</td>\n",
       "      <td>2021.06.02. 오후 9:07</td>\n",
       "      <td>퀴즈 온 더 블럭' 2일 방송 \\ntvN '유 퀴즈 온 더 블럭' 캡처 © 뉴스1...</td>\n",
       "      <td>https://news.naver.com/main/read.nhn?mode=LSD&amp;...</td>\n",
       "      <td>뉴스1</td>\n",
       "    </tr>\n",
       "    <tr>\n",
       "      <th>10</th>\n",
       "      <td>박정민 \"고려대 자퇴, 한예종 재도전 끝 입학\"</td>\n",
       "      <td>2021.06.03. 오전 7:12</td>\n",
       "      <td>배우 박정민이 꿈을 위해 학교를 옮긴 사연을 털어놨다.박정민은 2일 방송된 tvN...</td>\n",
       "      <td>https://news.naver.com/main/read.nhn?mode=LSD&amp;...</td>\n",
       "      <td>이데일리</td>\n",
       "    </tr>\n",
       "    <tr>\n",
       "      <th>11</th>\n",
       "      <td>'유퀴즈' 박정민, 고려대→한예종 \"나는 '안 될 놈' 같았다\"</td>\n",
       "      <td>2021.06.03. 오후 2:07</td>\n",
       "      <td>울=뉴시스] 배우 박정민. (사진 = tvN '유 퀴즈 온 더 블럭' 캡처)</td>\n",
       "      <td>https://news.naver.com/main/read.nhn?mode=LSD&amp;...</td>\n",
       "      <td>뉴시스</td>\n",
       "    </tr>\n",
       "    <tr>\n",
       "      <th>12</th>\n",
       "      <td>박정민 “자격지심에 빠져 해외 도피 준비도…배우 그만두려 했다”</td>\n",
       "      <td>2021.06.03. 오후 6:18</td>\n",
       "      <td>포츠경향]  \\ntvN ‘유퀴즈’‘충무로 캐스팅 1순위’ 배우 박정민이 자격지심으로...</td>\n",
       "      <td>https://news.naver.com/main/read.nhn?mode=LSD&amp;...</td>\n",
       "      <td>스포츠경향</td>\n",
       "    </tr>\n",
       "    <tr>\n",
       "      <th>13</th>\n",
       "      <td>[RE:TV] 박정민 \"5년의 무명 생활, 연기 그만두고 유학 가려 했다\"</td>\n",
       "      <td>2021.06.03. 오전 5:30</td>\n",
       "      <td>퀴즈 온 더 블럭' 2일 방송 \\ntvN '유 퀴즈 온 더 블럭' 캡처 © 뉴스1...</td>\n",
       "      <td>https://news.naver.com/main/read.nhn?mode=LSD&amp;...</td>\n",
       "      <td>뉴스1</td>\n",
       "    </tr>\n",
       "    <tr>\n",
       "      <th>14</th>\n",
       "      <td>[이주의 1분] '유 퀴즈' 박정민→윤여순, 열정이 가져온 제 2막</td>\n",
       "      <td>2021.06.05. 오전 8:56</td>\n",
       "      <td>배우 박정민부터 대기업 첫 여성 임원 윤여순까지, 포기를 모르는 도전으로 인생의 ...</td>\n",
       "      <td>https://news.naver.com/main/read.nhn?mode=LSD&amp;...</td>\n",
       "      <td>이데일리</td>\n",
       "    </tr>\n",
       "    <tr>\n",
       "      <th>15</th>\n",
       "      <td>‘유퀴즈’ 박정민 “선배 박원상 덕분에 배우 포기 안 해” 고마움 고백</td>\n",
       "      <td>2021.06.03. 오전 9:39</td>\n",
       "      <td>배우 박정민이 선배 박원상에게 감사 인사를 전했다.지난 2일 방송된 tvN 예능 프...</td>\n",
       "      <td>https://news.naver.com/main/read.nhn?mode=LSD&amp;...</td>\n",
       "      <td>매일경제</td>\n",
       "    </tr>\n",
       "    <tr>\n",
       "      <th>16</th>\n",
       "      <td>박정민 \"윤여정 아카데미상 수상...대한민국에 좋은 선물\"</td>\n",
       "      <td>2021.04.26. 오후 4:33</td>\n",
       "      <td>'기적' 온라인 제작보고회 \\n[서울=뉴시스]26일 오후 4시 온라인으로 진행된 ...</td>\n",
       "      <td>https://news.naver.com/main/read.nhn?mode=LSD&amp;...</td>\n",
       "      <td>뉴시스</td>\n",
       "    </tr>\n",
       "    <tr>\n",
       "      <th>17</th>\n",
       "      <td>박정민·임윤아·이성민 '기적', 6월 개봉 확정…훈훈 시너지</td>\n",
       "      <td>2021.04.20. 오전 11:15</td>\n",
       "      <td>적' 포스터 © 뉴스1(서울=뉴스1) 정유진 기자 = 배우 박정민, 이성민, 임윤아...</td>\n",
       "      <td>https://news.naver.com/main/read.nhn?mode=LSD&amp;...</td>\n",
       "      <td>뉴스1</td>\n",
       "    </tr>\n",
       "    <tr>\n",
       "      <th>18</th>\n",
       "      <td>'유퀴즈' 박정민, 고대 말고 한예종 나오길 참 잘했어요 [어저께TV]</td>\n",
       "      <td>2021.06.03. 오전 6:54</td>\n",
       "      <td>5년의 무명 시절을 이겨낸 노력형 천재 배우 박정민이 tvN ‘유 퀴즈 온 더 블...</td>\n",
       "      <td>https://news.naver.com/main/read.nhn?mode=LSD&amp;...</td>\n",
       "      <td>OSEN</td>\n",
       "    </tr>\n",
       "    <tr>\n",
       "      <th>19</th>\n",
       "      <td>'유퀴즈' 박정민 \"박원상 선배 덕분 배우 꿈꿨고 무명시절 버텼다\"</td>\n",
       "      <td>2021.06.02. 오후 9:08</td>\n",
       "      <td>간스포츠 황소영]    \\n'유 퀴즈 온 더 블럭'      배우 박정민이 배우라는...</td>\n",
       "      <td>https://news.naver.com/main/read.nhn?mode=LSD&amp;...</td>\n",
       "      <td>일간스포츠</td>\n",
       "    </tr>\n",
       "    <tr>\n",
       "      <th>20</th>\n",
       "      <td>'유퀴즈' 박정민 \"배우 그만두려 했다..'동주' 터닝포인트\"[별별TV]</td>\n",
       "      <td>2021.06.02. 오후 9:28</td>\n",
       "      <td>\\n/사진= tvN '유퀴즈 온 더 블럭' 방송 화면'유 퀴즈 온 더 블럭'에서...</td>\n",
       "      <td>https://news.naver.com/main/read.nhn?mode=LSD&amp;...</td>\n",
       "      <td>스타뉴스</td>\n",
       "    </tr>\n",
       "    <tr>\n",
       "      <th>21</th>\n",
       "      <td>박정민 \"박원상 선배 조언 덕분에 계속 연기했다\" ('유퀴즈')</td>\n",
       "      <td>2021.06.02. 오후 9:03</td>\n",
       "      <td>\\n'유 퀴즈 온 더 블럭' / 사진 = tvN 영상 캡처'유 퀴즈 온 더 블럭'...</td>\n",
       "      <td>https://news.naver.com/main/read.nhn?mode=LSD&amp;...</td>\n",
       "      <td>텐아시아</td>\n",
       "    </tr>\n",
       "    <tr>\n",
       "      <th>22</th>\n",
       "      <td>'기적', 박정민X이성민X임윤아X이수경의 앙상블</td>\n",
       "      <td>2021.05.10. 오전 7:53</td>\n",
       "      <td>간스포츠 박정선]    \\n'기적'    영화 '기적(이장훈 감독)'이 유쾌한 에너...</td>\n",
       "      <td>https://news.naver.com/main/read.nhn?mode=LSD&amp;...</td>\n",
       "      <td>일간스포츠</td>\n",
       "    </tr>\n",
       "    <tr>\n",
       "      <th>23</th>\n",
       "      <td>박정민·임윤아 '기적'… 꿈에 관한 따뜻하고 유쾌한 이야기(종합)</td>\n",
       "      <td>2021.04.26. 오후 5:12</td>\n",
       "      <td>관한 따뜻하고 유쾌한 이야기 영화 '기적'이 관객들을 찾아온다. 26일 오후 2시...</td>\n",
       "      <td>https://news.naver.com/main/read.nhn?mode=LSD&amp;...</td>\n",
       "      <td>YTN</td>\n",
       "    </tr>\n",
       "  </tbody>\n",
       "</table>\n",
       "</div>"
      ],
      "text/plain": [
       "                                                Title                  Date  \\\n",
       "0     [인터뷰 종합]\"'여고괴담' 코인 기대해\"…김형서, '뮤지션 비비'와 배우의 두 얼굴   2021.06.22. 오후 3:55   \n",
       "1   비비 \"롤모델? 박찬욱 감독…박정민, 내가 대본 쓴 MV에 캐스팅하고파\" [MD인터뷰③]   2021.06.22. 오후 2:29   \n",
       "2                          배우 이제훈, 매니지먼트 컴퍼니온 설립 [공식]   2021.06.21. 오전 9:17   \n",
       "3                                배우 이제훈 매니지먼트 사업 뛰어든다   2021.06.21. 오전 9:41   \n",
       "4            김혜수·조인성·염정아·박정민… 류승완 감독 신작 '밀수' 크랭크인(공식)   2021.06.11. 오전 9:37   \n",
       "5                      김성철 “어릴 때부터 흥부자, 배우 꿈꿔왔다” [화보]  2021.06.18. 오전 10:47   \n",
       "6                      박정민, 책방 폐업 결정 \"운영에 어려운 문제 있었다\"   2021.06.08. 오전 8:18   \n",
       "7                         '유 퀴즈' 배우 박정민→윤여정 동생 윤여순 출연   2021.06.02. 오후 1:51   \n",
       "8             류승완 감독 '밀수' 김혜수·염정아→조인성·박정민 캐스팅 확정…크랭크인   2021.06.12. 오후 5:00   \n",
       "9                  박정민 \"연기 위해 고려대 자퇴…후회는 자주 했다\" 솔직 고백   2021.06.02. 오후 9:07   \n",
       "10                         박정민 \"고려대 자퇴, 한예종 재도전 끝 입학\"   2021.06.03. 오전 7:12   \n",
       "11                '유퀴즈' 박정민, 고려대→한예종 \"나는 '안 될 놈' 같았다\"   2021.06.03. 오후 2:07   \n",
       "12                박정민 “자격지심에 빠져 해외 도피 준비도…배우 그만두려 했다”   2021.06.03. 오후 6:18   \n",
       "13          [RE:TV] 박정민 \"5년의 무명 생활, 연기 그만두고 유학 가려 했다\"   2021.06.03. 오전 5:30   \n",
       "14              [이주의 1분] '유 퀴즈' 박정민→윤여순, 열정이 가져온 제 2막   2021.06.05. 오전 8:56   \n",
       "15            ‘유퀴즈’ 박정민 “선배 박원상 덕분에 배우 포기 안 해” 고마움 고백   2021.06.03. 오전 9:39   \n",
       "16                   박정민 \"윤여정 아카데미상 수상...대한민국에 좋은 선물\"   2021.04.26. 오후 4:33   \n",
       "17                  박정민·임윤아·이성민 '기적', 6월 개봉 확정…훈훈 시너지  2021.04.20. 오전 11:15   \n",
       "18            '유퀴즈' 박정민, 고대 말고 한예종 나오길 참 잘했어요 [어저께TV]   2021.06.03. 오전 6:54   \n",
       "19              '유퀴즈' 박정민 \"박원상 선배 덕분 배우 꿈꿨고 무명시절 버텼다\"   2021.06.02. 오후 9:08   \n",
       "20           '유퀴즈' 박정민 \"배우 그만두려 했다..'동주' 터닝포인트\"[별별TV]   2021.06.02. 오후 9:28   \n",
       "21                박정민 \"박원상 선배 조언 덕분에 계속 연기했다\" ('유퀴즈')   2021.06.02. 오후 9:03   \n",
       "22                         '기적', 박정민X이성민X임윤아X이수경의 앙상블   2021.05.10. 오전 7:53   \n",
       "23               박정민·임윤아 '기적'… 꿈에 관한 따뜻하고 유쾌한 이야기(종합)   2021.04.26. 오후 5:12   \n",
       "\n",
       "                                              Article  \\\n",
       "0   김형서(23)가 '뮤지션 비비'가 아닌 배우 타이틀에 용기 있게 도전했다.기억을 잃...   \n",
       "1    신예 김형서(활동명 비비(BIBI)·22)가 롤모델로 박찬욱 감독을 지목하며 배우...   \n",
       "2    배우 이제훈이 매니지먼트 컴퍼니온을 설립하며 새로운 시작을 알렸다.컴퍼니온 측은 ...   \n",
       "3   니온 설립, 다양한 활동 예고 \\n배우 이제훈이 매니지먼트 사업을 시작한다. 21일...   \n",
       "4   은 바다에서 펼쳐지는 위험천만한 밀수 작전을 그려낼 영화 '밀수'가 김혜수, 염정아...   \n",
       "5   철 “어릴 때부터 흥부자, 배우 꿈꿔왔다” [화보]드라마 <빈센조>, <라켓소년단>...   \n",
       "6    박정민 © News1 김진환 기자(서울=뉴스1) 안태현 기자 = 배우 박정민이 운...   \n",
       "7   울=뉴시스]2일 방송되는 tvN '유 퀴즈 온 더 블럭'. (사진=tvN '유 퀴즈...   \n",
       "8    영화 '밀수'(감독 류승완)가 배우 김혜수, 염정아, 조인성, 박정민, 고민시, ...   \n",
       "9    퀴즈 온 더 블럭' 2일 방송 \\ntvN '유 퀴즈 온 더 블럭' 캡처 © 뉴스1...   \n",
       "10   배우 박정민이 꿈을 위해 학교를 옮긴 사연을 털어놨다.박정민은 2일 방송된 tvN...   \n",
       "11         울=뉴시스] 배우 박정민. (사진 = tvN '유 퀴즈 온 더 블럭' 캡처)   \n",
       "12  포츠경향]  \\ntvN ‘유퀴즈’‘충무로 캐스팅 1순위’ 배우 박정민이 자격지심으로...   \n",
       "13   퀴즈 온 더 블럭' 2일 방송 \\ntvN '유 퀴즈 온 더 블럭' 캡처 © 뉴스1...   \n",
       "14   배우 박정민부터 대기업 첫 여성 임원 윤여순까지, 포기를 모르는 도전으로 인생의 ...   \n",
       "15  배우 박정민이 선배 박원상에게 감사 인사를 전했다.지난 2일 방송된 tvN 예능 프...   \n",
       "16   '기적' 온라인 제작보고회 \\n[서울=뉴시스]26일 오후 4시 온라인으로 진행된 ...   \n",
       "17  적' 포스터 © 뉴스1(서울=뉴스1) 정유진 기자 = 배우 박정민, 이성민, 임윤아...   \n",
       "18   5년의 무명 시절을 이겨낸 노력형 천재 배우 박정민이 tvN ‘유 퀴즈 온 더 블...   \n",
       "19  간스포츠 황소영]    \\n'유 퀴즈 온 더 블럭'      배우 박정민이 배우라는...   \n",
       "20    \\n/사진= tvN '유퀴즈 온 더 블럭' 방송 화면'유 퀴즈 온 더 블럭'에서...   \n",
       "21   \\n'유 퀴즈 온 더 블럭' / 사진 = tvN 영상 캡처'유 퀴즈 온 더 블럭'...   \n",
       "22  간스포츠 박정선]    \\n'기적'    영화 '기적(이장훈 감독)'이 유쾌한 에너...   \n",
       "23   관한 따뜻하고 유쾌한 이야기 영화 '기적'이 관객들을 찾아온다. 26일 오후 2시...   \n",
       "\n",
       "                                                  URL PressCompany  \n",
       "0   https://news.naver.com/main/read.nhn?mode=LSD&...        스포츠조선  \n",
       "1   https://news.naver.com/main/read.nhn?mode=LSD&...        마이데일리  \n",
       "2   https://news.naver.com/main/read.nhn?mode=LSD&...         이데일리  \n",
       "3   https://news.naver.com/main/read.nhn?mode=LSD&...        아시아경제  \n",
       "4   https://news.naver.com/main/read.nhn?mode=LSD&...          YTN  \n",
       "5   https://news.naver.com/main/read.nhn?mode=LSD&...        스포츠동아  \n",
       "6   https://news.naver.com/main/read.nhn?mode=LSD&...          뉴스1  \n",
       "7   https://news.naver.com/main/read.nhn?mode=LSD&...          뉴시스  \n",
       "8   https://news.naver.com/main/read.nhn?mode=LSD&...       엑스포츠뉴스  \n",
       "9   https://news.naver.com/main/read.nhn?mode=LSD&...          뉴스1  \n",
       "10  https://news.naver.com/main/read.nhn?mode=LSD&...         이데일리  \n",
       "11  https://news.naver.com/main/read.nhn?mode=LSD&...          뉴시스  \n",
       "12  https://news.naver.com/main/read.nhn?mode=LSD&...        스포츠경향  \n",
       "13  https://news.naver.com/main/read.nhn?mode=LSD&...          뉴스1  \n",
       "14  https://news.naver.com/main/read.nhn?mode=LSD&...         이데일리  \n",
       "15  https://news.naver.com/main/read.nhn?mode=LSD&...         매일경제  \n",
       "16  https://news.naver.com/main/read.nhn?mode=LSD&...          뉴시스  \n",
       "17  https://news.naver.com/main/read.nhn?mode=LSD&...          뉴스1  \n",
       "18  https://news.naver.com/main/read.nhn?mode=LSD&...         OSEN  \n",
       "19  https://news.naver.com/main/read.nhn?mode=LSD&...        일간스포츠  \n",
       "20  https://news.naver.com/main/read.nhn?mode=LSD&...         스타뉴스  \n",
       "21  https://news.naver.com/main/read.nhn?mode=LSD&...         텐아시아  \n",
       "22  https://news.naver.com/main/read.nhn?mode=LSD&...        일간스포츠  \n",
       "23  https://news.naver.com/main/read.nhn?mode=LSD&...          YTN  "
      ]
     },
     "execution_count": 22,
     "metadata": {},
     "output_type": "execute_result"
    }
   ],
   "source": [
    "df_news"
   ]
  },
  {
   "cell_type": "markdown",
   "metadata": {},
   "source": [
    "엑셀 파일로 저장"
   ]
  },
  {
   "cell_type": "code",
   "execution_count": 23,
   "metadata": {},
   "outputs": [],
   "source": [
    "df_news.to_excel('result_{}.xlsx'.format(datetime.now().strftime('%y%m%d_%H%M')), index=False, encoding='utf-8')"
   ]
  }
 ],
 "metadata": {
  "kernelspec": {
   "display_name": "Python 3",
   "language": "python",
   "name": "python3"
  },
  "language_info": {
   "codemirror_mode": {
    "name": "ipython",
    "version": 3
   },
   "file_extension": ".py",
   "mimetype": "text/x-python",
   "name": "python",
   "nbconvert_exporter": "python",
   "pygments_lexer": "ipython3",
   "version": "3.7.3"
  }
 },
 "nbformat": 4,
 "nbformat_minor": 2
}
