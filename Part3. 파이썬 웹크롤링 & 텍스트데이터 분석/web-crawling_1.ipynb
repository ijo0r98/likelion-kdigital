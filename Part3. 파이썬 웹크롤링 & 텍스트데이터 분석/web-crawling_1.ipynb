{
 "cells": [
  {
   "cell_type": "markdown",
   "metadata": {},
   "source": [
    "## 파이썬 웹 크롤링(1) 뉴스 기사 스크랩"
   ]
  },
  {
   "cell_type": "markdown",
   "metadata": {},
   "source": [
    "라이브러리"
   ]
  },
  {
   "cell_type": "code",
   "execution_count": 2,
   "metadata": {},
   "outputs": [],
   "source": [
    "import requests\n",
    "from bs4 import BeautifulSoup\n",
    "import pandas as pd\n",
    "from datetime import datetime\n",
    "import time\n",
    "import re"
   ]
  },
  {
   "cell_type": "markdown",
   "metadata": {},
   "source": [
    "<br>\n",
    "\n",
    "### 검색 결과에서  뉴스 제목 추려내기"
   ]
  },
  {
   "cell_type": "markdown",
   "metadata": {},
   "source": [
    "네이버 뉴스탭에서 검색"
   ]
  },
  {
   "cell_type": "code",
   "execution_count": 5,
   "metadata": {},
   "outputs": [
    {
     "data": {
      "text/plain": [
       "'https://search.naver.com/search.naver?where=news&query=배우 박정민'"
      ]
     },
     "execution_count": 5,
     "metadata": {},
     "output_type": "execute_result"
    }
   ],
   "source": [
    "query = '배우 박정민'\n",
    "url = \"https://search.naver.com/search.naver?where=news&query=\" + query\n",
    "\n",
    "web = requests.get(url).content # get 요청\n",
    "source = BeautifulSoup(web, 'html.parser')\n",
    "\n",
    "url"
   ]
  },
  {
   "cell_type": "markdown",
   "metadata": {},
   "source": [
    "![news_list](image/newslist.png)"
   ]
  },
  {
   "cell_type": "markdown",
   "metadata": {},
   "source": [
    "뉴스 제목 리스트"
   ]
  },
  {
   "cell_type": "code",
   "execution_count": 6,
   "metadata": {},
   "outputs": [
    {
     "data": {
      "text/plain": [
       "['배우 이제훈, 매니지먼트 컴퍼니온 설립 [공식]',\n",
       " '배우 이제훈 매니지먼트 사업 뛰어든다',\n",
       " \"김혜수·조인성·염정아·박정민… 류승완 감독 신작 '밀수' 크랭크인(공식)\",\n",
       " '박정민, 책방 운영 종료…\"언젠가 더 번듯하게\"',\n",
       " '김성철 “어릴 때부터 흥부자, 배우 꿈꿔왔다” [화보]',\n",
       " '박정민, 책방 폐업 결정 \"운영에 어려운 문제 있었다\"',\n",
       " '배우 박정민, 2년 만에 책방 폐점',\n",
       " \"'유 퀴즈' 배우 박정민→윤여정 동생 윤여순 출연\",\n",
       " \"류승완 감독 '밀수' 김혜수·염정아→조인성·박정민 캐스팅 확정…크랭크인\",\n",
       " '박정민 \"연기 위해 고려대 자퇴…후회는 자주 했다\" 솔직 고백']"
      ]
     },
     "execution_count": 6,
     "metadata": {},
     "output_type": "execute_result"
    }
   ],
   "source": [
    "subjects = source.find_all('a', {'class': 'news_tit'})\n",
    "\n",
    "subjects_list = []\n",
    "\n",
    "for subject in subjects:\n",
    "    subjects_list.append(subject.get_text())\n",
    "    \n",
    "subjects_list"
   ]
  },
  {
   "cell_type": "markdown",
   "metadata": {},
   "source": [
    "뉴스 url 리스트"
   ]
  },
  {
   "cell_type": "code",
   "execution_count": 8,
   "metadata": {},
   "outputs": [
    {
     "name": "stdout",
     "output_type": "stream",
     "text": [
      "http://starin.edaily.co.kr/news/newspath.asp?newsid=01151286629084016\n",
      "https://view.asiae.co.kr/article/2021062109425167742\n",
      "https://star.ytn.co.kr/_sn/0117_202106110937275511\n",
      "http://yna.kr/AKR20210607103700005?did=1195m\n",
      "https://sports.donga.com/article/all/20210618/107500147/1\n",
      "https://www.news1.kr/articles/?4331691\n",
      "http://www.gukjenews.com/news/articleView.html?idxno=2243478\n",
      "http://www.newsis.com/view/?id=NISX20210602_0001462205&cID=10601&pID=10600\n",
      "https://www.xportsnews.com/?ac=article_view&entry_id=1435543\n",
      "https://www.news1.kr/articles/?4326866\n"
     ]
    }
   ],
   "source": [
    "for subject in subjects:\n",
    "    print(subject.attrs['href'])"
   ]
  },
  {
   "cell_type": "code",
   "execution_count": 10,
   "metadata": {},
   "outputs": [
    {
     "data": {
      "text/plain": [
       "['http://starin.edaily.co.kr/news/newspath.asp?newsid=01151286629084016',\n",
       " 'https://view.asiae.co.kr/article/2021062109425167742',\n",
       " 'https://star.ytn.co.kr/_sn/0117_202106110937275511',\n",
       " 'http://yna.kr/AKR20210607103700005?did=1195m',\n",
       " 'https://sports.donga.com/article/all/20210618/107500147/1',\n",
       " 'https://www.news1.kr/articles/?4331691',\n",
       " 'http://www.gukjenews.com/news/articleView.html?idxno=2243478',\n",
       " 'http://www.newsis.com/view/?id=NISX20210602_0001462205&cID=10601&pID=10600',\n",
       " 'https://www.xportsnews.com/?ac=article_view&entry_id=1435543',\n",
       " 'https://www.news1.kr/articles/?4326866']"
      ]
     },
     "execution_count": 10,
     "metadata": {},
     "output_type": "execute_result"
    }
   ],
   "source": [
    "urls_list = []\n",
    "for url in subjects:\n",
    "    urls_list.append(url.attrs['href']) # url['href']\n",
    "    \n",
    "urls_list"
   ]
  },
  {
   "cell_type": "markdown",
   "metadata": {},
   "source": [
    "<br>\n",
    "\n",
    "#### 단일 뉴스 내용 스크랩핑"
   ]
  },
  {
   "cell_type": "code",
   "execution_count": 13,
   "metadata": {},
   "outputs": [
    {
     "data": {
      "text/plain": [
       "'http://www.newsis.com/view/?id=NISX20210602_0001462205&cID=10601&pID=10600'"
      ]
     },
     "execution_count": 13,
     "metadata": {},
     "output_type": "execute_result"
    }
   ],
   "source": [
    "urls_list[7] # 뉴시스 사 기사 기준"
   ]
  },
  {
   "cell_type": "code",
   "execution_count": 15,
   "metadata": {},
   "outputs": [],
   "source": [
    "news_content = requests.get(urls_list[7]).content\n",
    "source = BeautifulSoup(news_content, 'html.parser')"
   ]
  },
  {
   "cell_type": "code",
   "execution_count": 17,
   "metadata": {},
   "outputs": [],
   "source": [
    "# 네이버에 접속이 차단당했을 때\n",
    "\n",
    "headers = {'User-Agent':'Mozilla/5.0 (Windows NT 6.3; Win64; x64) AppleWebKit/537.36 (KHTML, like Gecko) Chrome/63.0.3239.132 Safari/537.36'}\n",
    "news_content = requests.get(urls_list[7], headers=headers).content\n",
    "source = BeautifulSoup(news_content, 'html.parser')"
   ]
  },
  {
   "cell_type": "markdown",
   "metadata": {},
   "source": [
    "- 뉴스 제목"
   ]
  },
  {
   "cell_type": "code",
   "execution_count": 19,
   "metadata": {},
   "outputs": [
    {
     "data": {
      "text/plain": [
       "\"'유 퀴즈' 배우 박정민→윤여정 동생 윤여순 출연\""
      ]
     },
     "execution_count": 19,
     "metadata": {},
     "output_type": "execute_result"
    }
   ],
   "source": [
    "source.find('h1').get_text()"
   ]
  },
  {
   "cell_type": "markdown",
   "metadata": {},
   "source": [
    "- 뉴스 발행시간"
   ]
  },
  {
   "cell_type": "code",
   "execution_count": 24,
   "metadata": {},
   "outputs": [
    {
     "data": {
      "text/plain": [
       "'등록 2021-06-02 13:51:26'"
      ]
     },
     "execution_count": 24,
     "metadata": {},
     "output_type": "execute_result"
    }
   ],
   "source": [
    "date_source = source.find('div', {'class': 'date'}).get_text()\n",
    "date_source"
   ]
  },
  {
   "cell_type": "code",
   "execution_count": 31,
   "metadata": {},
   "outputs": [
    {
     "name": "stdout",
     "output_type": "stream",
     "text": [
      "2021년 06월 02일 13시 51분 26초 발행\n"
     ]
    }
   ],
   "source": [
    "year = date_source[3:7]\n",
    "month = date_source[8:10]\n",
    "day = date_source[11:13]\n",
    "\n",
    "hh = date_source[14:16]\n",
    "mm = date_source[17:19]\n",
    "ss = date_source[20:22]\n",
    "print('{}년 {}월 {}일 {}시 {}분 {}초 발행'.format(year, month, day, hh, mm, ss))"
   ]
  },
  {
   "cell_type": "code",
   "execution_count": 33,
   "metadata": {},
   "outputs": [
    {
     "data": {
      "text/plain": [
       "Timestamp('2021-06-02 13:51:26')"
      ]
     },
     "execution_count": 33,
     "metadata": {},
     "output_type": "execute_result"
    }
   ],
   "source": [
    "press_date = year + month + day + hh + mm + ss\n",
    "press_date_ts = pd.Timestamp(press_date)\n",
    "press_date_ts"
   ]
  },
  {
   "cell_type": "markdown",
   "metadata": {},
   "source": [
    "- 기사본문"
   ]
  },
  {
   "cell_type": "code",
   "execution_count": 88,
   "metadata": {},
   "outputs": [
    {
     "data": {
      "text/plain": [
       "'\\n\\n[서울=뉴시스]2일 방송되는 tvN \\'유 퀴즈 온 더 블럭\\'. (사진=tvN \\'유 퀴즈 온 더 블럭\\' 제공) 2021.06.02. photo@newsis.com[서울=뉴시스] 강진아 기자 = tvN \\'유 퀴즈 온 더 블럭\\'에 배우 박정민과 대기업 첫 여성 임원인 윤여정의 동생 윤여순 등이 출연한다.\\n\\r\\n2일 오후 8시40분에 방송되는 \\'유 퀴즈 온 더 블럭\\' 109회에서는 포기를 모르는 끝판왕 자기님들과 \\'끝날 때까지 끝난 게 아니다\\' 특집을 선보인다.\\n\\r\\n배우 박정민, 대기업 첫 여성 임원 윤여순, 의사 신승건, \\'플랭크\\' 대가 김영달 자기님이 출연해 끝없이 경주하는 인생 이야기를 나눈다.\\n\\r\\n먼저 장르 불문 독보적인 연기력으로 충무로 캐스팅 0순위에 오른 배우 박정민 자기님이 \\'유 퀴즈\\'를 찾는다. \\n\\r\\n오로지 연기에 대한 열정으로 명문대 대신 한예종을 선택한 사연부터 전설로 남은 한예종 면접 비하인드 스토리, 무명시절을 거쳐 지금에 이르기까지 영화보다 더 영화 같은 이야기를 전한다. 백상예술대상 수상자인 박정민과 큰 자기 유재석의 케미스트리도 재미를 더할 전망이다.\\n\\r\\n열정과 추진력으로 대기업 최초 여성 CEO가 된 윤여순 자기님과의 토크도 이어진다. 40대의 나이에 대기업 부장으로 입사, 4년 만에 임원으로 승진한 윤여순은 자신만의 리더십을 밝힐 예정이다. \\n\\r\\n첫 여성 임원이라는 타이틀의 무게감, 항상 사직서를 품고 다녔던 이유, 유일한 여성 임원으로서 겪은 황당한 에피소드는 물론 2014년 퇴임 후 비즈니스 코칭가로 변신한 근황을 솔직하게 전한다. 특히 윤여정 배우의 동생인 윤여순이 들려주는 \\'오스카\\' 수상 뒷이야기도 예고돼 기대감을 높인다.\\n\\r\\n세 번의 심장 수술을 이겨내고 의사가 된 신승건 자기님은 불굴의 도전 정신으로 눈길을 끈다. 수술 전날 밤 병실 창문에 비친 의학도서관의 불빛에 이끌려 의사의 꿈을 갖게 되고, 어려움 속에서도 쉬지 않고 매진한 끝에 꿈을 이뤄낸 이야기를 공개한다. 의사 면허증을 받자마자 제일 먼저 찾아간 예상치 못한 인물에 모두 깜짝 놀랐다고 해 궁금증을 자아낸다.\\n\\r\\n지치지 않는 열정으로 인생 3막을 즐기고 있는 김영달 자기님을 알아가는 시간도 마련된다.\\n\\r\\n86세의 나이에 \\'7분 플랭크(Plank) 운동\\'으로 하루를 시작하는 자기님은 알파벳도 모르던 학생이 영어 소설의 매력에 빠져 미국 대학교수가 된 배경, 학교 운동장을 걷다가 마라톤만 180번 완주한 에피소드, 건강을 유지하는 \\'플랭크맨\\' 비결 등을 생생하게 털어놓는다. 유재석, 조세호에게 플랭크 강습도 하며 현장을 폭소케 했다는 후문이다.\\n\\r\\n연출을 맡은 김민석 PD는 \"오늘 방송에서는 새로운 길을 두려워하지 않고 뛰어든 자기님들과 토크 릴레이를 펼친다. 강한 추진력과 의지로 인생을 개척하는 자기님들의 삶과 그 속에 담긴 지혜가 신선한 자극을 전할 것\"이라고 밝혔다.\\n\\n\\n◎공감언론 뉴시스 akang@newsis.com\\t'"
      ]
     },
     "execution_count": 88,
     "metadata": {},
     "output_type": "execute_result"
    }
   ],
   "source": [
    "article = source.find('div', {'id': 'textBody'}).get_text()\n",
    "article"
   ]
  },
  {
   "cell_type": "code",
   "execution_count": 89,
   "metadata": {},
   "outputs": [
    {
     "name": "stdout",
     "output_type": "stream",
     "text": [
      "\n",
      "\n",
      "[서울=뉴시스]2일 방송되는 tvN '유 퀴즈 온 더 블럭'. (사진=tvN '유 퀴즈 온 더 블럭' 제공) 2021.06.02. photo@newsis.com[서울=뉴시스] 강진아 기자 = tvN '유 퀴즈 온 더 블럭'에 배우 박정민과 대기업 첫 여성 임원인 윤여정의 동생 윤여순 등이 출연한다.\n",
      "\r\n",
      "2일 오후 8시40분에 방송되는 '유 퀴즈 온 더 블럭' 109회에서는 포기를 모르는 끝판왕 자기님들과 '끝날 때까지 끝난 게 아니다' 특집을 선보인다.\n",
      "\r\n",
      "배우 박정민, 대기업 첫 여성 임원 윤여순, 의사 신승건, '플랭크' 대가 김영달 자기님이 출연해 끝없이 경주하는 인생 이야기를 나눈다.\n",
      "\r\n",
      "먼저 장르 불문 독보적인 연기력으로 충무로 캐스팅 0순위에 오른 배우 박정민 자기님이 '유 퀴즈'를 찾는다. \n",
      "\r\n",
      "오로지 연기에 대한 열정으로 명문대 대신 한예종을 선택한 사연부터 전설로 남은 한예종 면접 비하인드 스토리, 무명시절을 거쳐 지금에 이르기까지 영화보다 더 영화 같은 이야기를 전한다. 백상예술대상 수상자인 박정민과 큰 자기 유재석의 케미스트리도 재미를 더할 전망이다.\n",
      "\r\n",
      "열정과 추진력으로 대기업 최초 여성 CEO가 된 윤여순 자기님과의 토크도 이어진다. 40대의 나이에 대기업 부장으로 입사, 4년 만에 임원으로 승진한 윤여순은 자신만의 리더십을 밝힐 예정이다. \n",
      "\r\n",
      "첫 여성 임원이라는 타이틀의 무게감, 항상 사직서를 품고 다녔던 이유, 유일한 여성 임원으로서 겪은 황당한 에피소드는 물론 2014년 퇴임 후 비즈니스 코칭가로 변신한 근황을 솔직하게 전한다. 특히 윤여정 배우의 동생인 윤여순이 들려주는 '오스카' 수상 뒷이야기도 예고돼 기대감을 높인다.\n",
      "\r\n",
      "세 번의 심장 수술을 이겨내고 의사가 된 신승건 자기님은 불굴의 도전 정신으로 눈길을 끈다. 수술 전날 밤 병실 창문에 비친 의학도서관의 불빛에 이끌려 의사의 꿈을 갖게 되고, 어려움 속에서도 쉬지 않고 매진한 끝에 꿈을 이뤄낸 이야기를 공개한다. 의사 면허증을 받자마자 제일 먼저 찾아간 예상치 못한 인물에 모두 깜짝 놀랐다고 해 궁금증을 자아낸다.\n",
      "\r\n",
      "지치지 않는 열정으로 인생 3막을 즐기고 있는 김영달 자기님을 알아가는 시간도 마련된다.\n",
      "\r\n",
      "86세의 나이에 '7분 플랭크(Plank) 운동'으로 하루를 시작하는 자기님은 알파벳도 모르던 학생이 영어 소설의 매력에 빠져 미국 대학교수가 된 배경, 학교 운동장을 걷다가 마라톤만 180번 완주한 에피소드, 건강을 유지하는 '플랭크맨' 비결 등을 생생하게 털어놓는다. 유재석, 조세호에게 플랭크 강습도 하며 현장을 폭소케 했다는 후문이다.\n",
      "\r\n",
      "연출을 맡은 김민석 PD는 \"오늘 방송에서는 새로운 길을 두려워하지 않고 뛰어든 자기님들과 토크 릴레이를 펼친다. 강한 추진력과 의지로 인생을 개척하는 자기님들의 삶과 그 속에 담긴 지혜가 신선한 자극을 전할 것\"이라고 밝혔다.\n",
      "\n",
      "\n",
      "◎공감언론 뉴시스 akang@newsis.com\t\n"
     ]
    }
   ],
   "source": [
    "print(article) # |n -> 줄바꿈"
   ]
  },
  {
   "cell_type": "markdown",
   "metadata": {},
   "source": [
    "기사 본문에서 필요없는 부분 삭제"
   ]
  },
  {
   "cell_type": "code",
   "execution_count": 100,
   "metadata": {},
   "outputs": [],
   "source": [
    "news_content = article.replace('[서울=뉴시스]', '')\n",
    "news_content = news_content.replace('◎공감언론 뉴시스 akang@newsis.com', '')\n",
    "news_content = news_content.replace('\\n\\r\\n', ' ')\n",
    "news_content = news_content.replace('\\n\\n\\n\\t', ' ')"
   ]
  },
  {
   "cell_type": "code",
   "execution_count": 101,
   "metadata": {},
   "outputs": [
    {
     "name": "stdout",
     "output_type": "stream",
     "text": [
      "\n",
      "\n",
      "2일 방송되는 tvN '유 퀴즈 온 더 블럭'. (사진=tvN '유 퀴즈 온 더 블럭' 제공) 2021.06.02. photo@newsis.com 강진아 기자 = tvN '유 퀴즈 온 더 블럭'에 배우 박정민과 대기업 첫 여성 임원인 윤여정의 동생 윤여순 등이 출연한다. 2일 오후 8시40분에 방송되는 '유 퀴즈 온 더 블럭' 109회에서는 포기를 모르는 끝판왕 자기님들과 '끝날 때까지 끝난 게 아니다' 특집을 선보인다. 배우 박정민, 대기업 첫 여성 임원 윤여순, 의사 신승건, '플랭크' 대가 김영달 자기님이 출연해 끝없이 경주하는 인생 이야기를 나눈다. 먼저 장르 불문 독보적인 연기력으로 충무로 캐스팅 0순위에 오른 배우 박정민 자기님이 '유 퀴즈'를 찾는다.  오로지 연기에 대한 열정으로 명문대 대신 한예종을 선택한 사연부터 전설로 남은 한예종 면접 비하인드 스토리, 무명시절을 거쳐 지금에 이르기까지 영화보다 더 영화 같은 이야기를 전한다. 백상예술대상 수상자인 박정민과 큰 자기 유재석의 케미스트리도 재미를 더할 전망이다. 열정과 추진력으로 대기업 최초 여성 CEO가 된 윤여순 자기님과의 토크도 이어진다. 40대의 나이에 대기업 부장으로 입사, 4년 만에 임원으로 승진한 윤여순은 자신만의 리더십을 밝힐 예정이다.  첫 여성 임원이라는 타이틀의 무게감, 항상 사직서를 품고 다녔던 이유, 유일한 여성 임원으로서 겪은 황당한 에피소드는 물론 2014년 퇴임 후 비즈니스 코칭가로 변신한 근황을 솔직하게 전한다. 특히 윤여정 배우의 동생인 윤여순이 들려주는 '오스카' 수상 뒷이야기도 예고돼 기대감을 높인다. 세 번의 심장 수술을 이겨내고 의사가 된 신승건 자기님은 불굴의 도전 정신으로 눈길을 끈다. 수술 전날 밤 병실 창문에 비친 의학도서관의 불빛에 이끌려 의사의 꿈을 갖게 되고, 어려움 속에서도 쉬지 않고 매진한 끝에 꿈을 이뤄낸 이야기를 공개한다. 의사 면허증을 받자마자 제일 먼저 찾아간 예상치 못한 인물에 모두 깜짝 놀랐다고 해 궁금증을 자아낸다. 지치지 않는 열정으로 인생 3막을 즐기고 있는 김영달 자기님을 알아가는 시간도 마련된다. 86세의 나이에 '7분 플랭크(Plank) 운동'으로 하루를 시작하는 자기님은 알파벳도 모르던 학생이 영어 소설의 매력에 빠져 미국 대학교수가 된 배경, 학교 운동장을 걷다가 마라톤만 180번 완주한 에피소드, 건강을 유지하는 '플랭크맨' 비결 등을 생생하게 털어놓는다. 유재석, 조세호에게 플랭크 강습도 하며 현장을 폭소케 했다는 후문이다. 연출을 맡은 김민석 PD는 \"오늘 방송에서는 새로운 길을 두려워하지 않고 뛰어든 자기님들과 토크 릴레이를 펼친다. 강한 추진력과 의지로 인생을 개척하는 자기님들의 삶과 그 속에 담긴 지혜가 신선한 자극을 전할 것\"이라고 밝혔다. \n"
     ]
    }
   ],
   "source": [
    "print(news_content)"
   ]
  },
  {
   "cell_type": "code",
   "execution_count": 102,
   "metadata": {},
   "outputs": [
    {
     "name": "stdout",
     "output_type": "stream",
     "text": [
      "<re.Match object; span=(72, 73), match='@'>\n"
     ]
    }
   ],
   "source": [
    "# 정규식으로 이메일을 찾아 처음부터 '~ 이메일 000 기자 = '까지 삭제\n",
    "pattern = re.compile(r'@') # 처음 등장하는 @ 위치\n",
    "email_address = pattern.search(news_content)\n",
    "print(email_address)"
   ]
  },
  {
   "cell_type": "code",
   "execution_count": 103,
   "metadata": {},
   "outputs": [
    {
     "name": "stdout",
     "output_type": "stream",
     "text": [
      "72\n"
     ]
    }
   ],
   "source": [
    "print(email_address.start()) # 이메일이 시작하는 위치"
   ]
  },
  {
   "cell_type": "code",
   "execution_count": 104,
   "metadata": {},
   "outputs": [
    {
     "data": {
      "text/plain": [
       "'@newsis.com 강진아 기자 = '"
      ]
     },
     "execution_count": 104,
     "metadata": {},
     "output_type": "execute_result"
    }
   ],
   "source": [
    "news_content[email_address.start():email_address.start() + 21]"
   ]
  },
  {
   "cell_type": "code",
   "execution_count": 105,
   "metadata": {},
   "outputs": [
    {
     "data": {
      "text/plain": [
       "'tvN \\'유 퀴즈 온 더 블럭\\'에 배우 박정민과 대기업 첫 여성 임원인 윤여정의 동생 윤여순 등이 출연한다. 2일 오후 8시40분에 방송되는 \\'유 퀴즈 온 더 블럭\\' 109회에서는 포기를 모르는 끝판왕 자기님들과 \\'끝날 때까지 끝난 게 아니다\\' 특집을 선보인다. 배우 박정민, 대기업 첫 여성 임원 윤여순, 의사 신승건, \\'플랭크\\' 대가 김영달 자기님이 출연해 끝없이 경주하는 인생 이야기를 나눈다. 먼저 장르 불문 독보적인 연기력으로 충무로 캐스팅 0순위에 오른 배우 박정민 자기님이 \\'유 퀴즈\\'를 찾는다.  오로지 연기에 대한 열정으로 명문대 대신 한예종을 선택한 사연부터 전설로 남은 한예종 면접 비하인드 스토리, 무명시절을 거쳐 지금에 이르기까지 영화보다 더 영화 같은 이야기를 전한다. 백상예술대상 수상자인 박정민과 큰 자기 유재석의 케미스트리도 재미를 더할 전망이다. 열정과 추진력으로 대기업 최초 여성 CEO가 된 윤여순 자기님과의 토크도 이어진다. 40대의 나이에 대기업 부장으로 입사, 4년 만에 임원으로 승진한 윤여순은 자신만의 리더십을 밝힐 예정이다.  첫 여성 임원이라는 타이틀의 무게감, 항상 사직서를 품고 다녔던 이유, 유일한 여성 임원으로서 겪은 황당한 에피소드는 물론 2014년 퇴임 후 비즈니스 코칭가로 변신한 근황을 솔직하게 전한다. 특히 윤여정 배우의 동생인 윤여순이 들려주는 \\'오스카\\' 수상 뒷이야기도 예고돼 기대감을 높인다. 세 번의 심장 수술을 이겨내고 의사가 된 신승건 자기님은 불굴의 도전 정신으로 눈길을 끈다. 수술 전날 밤 병실 창문에 비친 의학도서관의 불빛에 이끌려 의사의 꿈을 갖게 되고, 어려움 속에서도 쉬지 않고 매진한 끝에 꿈을 이뤄낸 이야기를 공개한다. 의사 면허증을 받자마자 제일 먼저 찾아간 예상치 못한 인물에 모두 깜짝 놀랐다고 해 궁금증을 자아낸다. 지치지 않는 열정으로 인생 3막을 즐기고 있는 김영달 자기님을 알아가는 시간도 마련된다. 86세의 나이에 \\'7분 플랭크(Plank) 운동\\'으로 하루를 시작하는 자기님은 알파벳도 모르던 학생이 영어 소설의 매력에 빠져 미국 대학교수가 된 배경, 학교 운동장을 걷다가 마라톤만 180번 완주한 에피소드, 건강을 유지하는 \\'플랭크맨\\' 비결 등을 생생하게 털어놓는다. 유재석, 조세호에게 플랭크 강습도 하며 현장을 폭소케 했다는 후문이다. 연출을 맡은 김민석 PD는 \"오늘 방송에서는 새로운 길을 두려워하지 않고 뛰어든 자기님들과 토크 릴레이를 펼친다. 강한 추진력과 의지로 인생을 개척하는 자기님들의 삶과 그 속에 담긴 지혜가 신선한 자극을 전할 것\"이라고 밝혔다. '"
      ]
     },
     "execution_count": 105,
     "metadata": {},
     "output_type": "execute_result"
    }
   ],
   "source": [
    "# @ ~ newsis.com 000 기자 = -> 21글자 동일\n",
    "mail_start = email_address.start()\n",
    "news_content = news_content[mail_start + 21:]\n",
    "\n",
    "news_content"
   ]
  },
  {
   "cell_type": "code",
   "execution_count": 106,
   "metadata": {},
   "outputs": [
    {
     "data": {
      "text/plain": [
       "'tvN 유 퀴즈 온 더 블럭에 배우 박정민과 대기업 첫 여성 임원인 윤여정의 동생 윤여순 등이 출연한다. 2일 오후 8시40분에 방송되는 유 퀴즈 온 더 블럭 109회에서는 포기를 모르는 끝판왕 자기님들과 끝날 때까지 끝난 게 아니다 특집을 선보인다. 배우 박정민, 대기업 첫 여성 임원 윤여순, 의사 신승건, 플랭크 대가 김영달 자기님이 출연해 끝없이 경주하는 인생 이야기를 나눈다. 먼저 장르 불문 독보적인 연기력으로 충무로 캐스팅 0순위에 오른 배우 박정민 자기님이 유 퀴즈를 찾는다.  오로지 연기에 대한 열정으로 명문대 대신 한예종을 선택한 사연부터 전설로 남은 한예종 면접 비하인드 스토리, 무명시절을 거쳐 지금에 이르기까지 영화보다 더 영화 같은 이야기를 전한다. 백상예술대상 수상자인 박정민과 큰 자기 유재석의 케미스트리도 재미를 더할 전망이다. 열정과 추진력으로 대기업 최초 여성 CEO가 된 윤여순 자기님과의 토크도 이어진다. 40대의 나이에 대기업 부장으로 입사, 4년 만에 임원으로 승진한 윤여순은 자신만의 리더십을 밝힐 예정이다.  첫 여성 임원이라는 타이틀의 무게감, 항상 사직서를 품고 다녔던 이유, 유일한 여성 임원으로서 겪은 황당한 에피소드는 물론 2014년 퇴임 후 비즈니스 코칭가로 변신한 근황을 솔직하게 전한다. 특히 윤여정 배우의 동생인 윤여순이 들려주는 오스카 수상 뒷이야기도 예고돼 기대감을 높인다. 세 번의 심장 수술을 이겨내고 의사가 된 신승건 자기님은 불굴의 도전 정신으로 눈길을 끈다. 수술 전날 밤 병실 창문에 비친 의학도서관의 불빛에 이끌려 의사의 꿈을 갖게 되고, 어려움 속에서도 쉬지 않고 매진한 끝에 꿈을 이뤄낸 이야기를 공개한다. 의사 면허증을 받자마자 제일 먼저 찾아간 예상치 못한 인물에 모두 깜짝 놀랐다고 해 궁금증을 자아낸다. 지치지 않는 열정으로 인생 3막을 즐기고 있는 김영달 자기님을 알아가는 시간도 마련된다. 86세의 나이에 7분 플랭크(Plank) 운동으로 하루를 시작하는 자기님은 알파벳도 모르던 학생이 영어 소설의 매력에 빠져 미국 대학교수가 된 배경, 학교 운동장을 걷다가 마라톤만 180번 완주한 에피소드, 건강을 유지하는 플랭크맨 비결 등을 생생하게 털어놓는다. 유재석, 조세호에게 플랭크 강습도 하며 현장을 폭소케 했다는 후문이다. 연출을 맡은 김민석 PD는 \"오늘 방송에서는 새로운 길을 두려워하지 않고 뛰어든 자기님들과 토크 릴레이를 펼친다. 강한 추진력과 의지로 인생을 개척하는 자기님들의 삶과 그 속에 담긴 지혜가 신선한 자극을 전할 것\"이라고 밝혔다. '"
      ]
     },
     "execution_count": 106,
     "metadata": {},
     "output_type": "execute_result"
    }
   ],
   "source": [
    "pattern = re.compile(r'\\'')\n",
    "news_content = pattern.sub('', news_content) # substitute\n",
    "news_content"
   ]
  },
  {
   "cell_type": "markdown",
   "metadata": {},
   "source": [
    "- 발행언론사"
   ]
  },
  {
   "cell_type": "code",
   "execution_count": 115,
   "metadata": {},
   "outputs": [
    {
     "data": {
      "text/plain": [
       "'공감언론 뉴시스 akang@newsis.com'"
      ]
     },
     "execution_count": 115,
     "metadata": {},
     "output_type": "execute_result"
    }
   ],
   "source": [
    "article[-26:-1]"
   ]
  },
  {
   "cell_type": "code",
   "execution_count": 118,
   "metadata": {},
   "outputs": [
    {
     "data": {
      "text/plain": [
       "'Copyright © NEWSIS.COM, 무단 전재 및 재배포 금지'"
      ]
     },
     "execution_count": 118,
     "metadata": {},
     "output_type": "execute_result"
    }
   ],
   "source": [
    "source.find('div', {'class': 'copy'}).get_text()"
   ]
  },
  {
   "cell_type": "markdown",
   "metadata": {},
   "source": [
    "<br>\n",
    "\n",
    "### 여러 뉴스 기사 모으기"
   ]
  },
  {
   "cell_type": "code",
   "execution_count": 119,
   "metadata": {},
   "outputs": [
    {
     "data": {
      "text/plain": [
       "['http://starin.edaily.co.kr/news/newspath.asp?newsid=01151286629084016',\n",
       " 'https://view.asiae.co.kr/article/2021062109425167742',\n",
       " 'https://star.ytn.co.kr/_sn/0117_202106110937275511',\n",
       " 'http://yna.kr/AKR20210607103700005?did=1195m',\n",
       " 'https://sports.donga.com/article/all/20210618/107500147/1',\n",
       " 'https://www.news1.kr/articles/?4331691',\n",
       " 'http://www.gukjenews.com/news/articleView.html?idxno=2243478',\n",
       " 'http://www.newsis.com/view/?id=NISX20210602_0001462205&cID=10601&pID=10600',\n",
       " 'https://www.xportsnews.com/?ac=article_view&entry_id=1435543',\n",
       " 'https://www.news1.kr/articles/?4326866']"
      ]
     },
     "execution_count": 119,
     "metadata": {},
     "output_type": "execute_result"
    }
   ],
   "source": [
    "urls_list"
   ]
  },
  {
   "cell_type": "markdown",
   "metadata": {},
   "source": [
    "#### <span style='color:orange;'>언론사마다 뉴스 본문이 들어있는 div가 다르기 때문에 뉴시스 언론사만 기사 본문 스크랩할 예정</span>"
   ]
  },
  {
   "cell_type": "code",
   "execution_count": 143,
   "metadata": {},
   "outputs": [],
   "source": [
    "titles = []\n",
    "dates = []\n",
    "articles = []\n",
    "press_companies = []\n",
    "urls = []"
   ]
  },
  {
   "cell_type": "code",
   "execution_count": 144,
   "metadata": {},
   "outputs": [
    {
     "name": "stdout",
     "output_type": "stream",
     "text": [
      "** (뉴시스x) Title: http://starin.edaily.co.kr/news/newspath.asp?newsid=01151286629084016\n",
      "** (뉴시스x) Title: https://view.asiae.co.kr/article/2021062109425167742\n",
      "** (뉴시스x) Title: https://star.ytn.co.kr/_sn/0117_202106110937275511\n",
      "** (뉴시스x) Title: http://yna.kr/AKR20210607103700005?did=1195m\n",
      "** (뉴시스x) Title: https://sports.donga.com/article/all/20210618/107500147/1\n",
      "** (뉴시스x) Title: https://www.news1.kr/articles/?4331691\n",
      "** (뉴시스x) Title: http://www.gukjenews.com/news/articleView.html?idxno=2243478\n",
      "Title: http://www.newsis.com/view/?id=NISX20210602_0001462205&cID=10601&pID=10600\n",
      "** (뉴시스x) Title: https://www.xportsnews.com/?ac=article_view&entry_id=1435543\n",
      "** (뉴시스x) Title: https://www.news1.kr/articles/?4326866\n"
     ]
    }
   ],
   "source": [
    "for url in urls_list:\n",
    "    if url.startswith('http://www.newsis.com'):\n",
    "        try:\n",
    "            content = requests.get(url).content\n",
    "            source = BeautifulSoup(content, 'html.parser')\n",
    "\n",
    "            # 기사제목\n",
    "            title = source.find('h1').get_text()\n",
    "\n",
    "            # 기사날짜\n",
    "            date = source.find('div', {'class': 'date'}).get_text()[3:]\n",
    "\n",
    "            # 기사본문\n",
    "            article = source.find('div', {'id': 'textBody'}).get_text()\n",
    "            news_content = article.replace('[서울=뉴시스]', '')\n",
    "            news_content = news_content.replace('◎공감언론 뉴시스 akang@newsis.com', '')\n",
    "            news_content = news_content.replace('\\n\\r\\n', ' ')\n",
    "            news_content = news_content.replace('\\n\\n\\n\\t', ' ')\n",
    "            pattern = re.compile(r'@') # 처음 등장하는 @ 위치\n",
    "            email_address = pattern.search(news_content)\n",
    "            mail_start = email_address.start()\n",
    "            news_content = news_content[mail_start + 21:]\n",
    "\n",
    "            # 언론사\n",
    "            press_company = article[-26:-1]\n",
    "            \n",
    "            titles.append(title)\n",
    "            dates.append(date)\n",
    "            articles.append(news_content)\n",
    "            press_companies.append(press_company)\n",
    "            urls.append(url)\n",
    "            print('Title: {}'.format(url))\n",
    "            \n",
    "        except:\n",
    "            print('*** error occurred at {} ***'.format(url))\n",
    "    else:\n",
    "        print('** (뉴시스x) Title: {}'.format(url))"
   ]
  },
  {
   "cell_type": "code",
   "execution_count": 145,
   "metadata": {},
   "outputs": [
    {
     "data": {
      "text/html": [
       "<div>\n",
       "<style scoped>\n",
       "    .dataframe tbody tr th:only-of-type {\n",
       "        vertical-align: middle;\n",
       "    }\n",
       "\n",
       "    .dataframe tbody tr th {\n",
       "        vertical-align: top;\n",
       "    }\n",
       "\n",
       "    .dataframe thead th {\n",
       "        text-align: right;\n",
       "    }\n",
       "</style>\n",
       "<table border=\"1\" class=\"dataframe\">\n",
       "  <thead>\n",
       "    <tr style=\"text-align: right;\">\n",
       "      <th></th>\n",
       "      <th>Title</th>\n",
       "      <th>Date</th>\n",
       "      <th>Article</th>\n",
       "      <th>URL</th>\n",
       "      <th>Press Company</th>\n",
       "    </tr>\n",
       "  </thead>\n",
       "  <tbody>\n",
       "    <tr>\n",
       "      <th>0</th>\n",
       "      <td>'유 퀴즈' 배우 박정민→윤여정 동생 윤여순 출연</td>\n",
       "      <td>2021-06-02 13:51:26</td>\n",
       "      <td>tvN '유 퀴즈 온 더 블럭'에 배우 박정민과 대기업 첫 여성 임원인 윤여정의 동...</td>\n",
       "      <td>https://www.news1.kr/articles/?4326866</td>\n",
       "      <td>공감언론 뉴시스 akang@newsis.com</td>\n",
       "    </tr>\n",
       "  </tbody>\n",
       "</table>\n",
       "</div>"
      ],
      "text/plain": [
       "                         Title                 Date  \\\n",
       "0  '유 퀴즈' 배우 박정민→윤여정 동생 윤여순 출연  2021-06-02 13:51:26   \n",
       "\n",
       "                                             Article  \\\n",
       "0  tvN '유 퀴즈 온 더 블럭'에 배우 박정민과 대기업 첫 여성 임원인 윤여정의 동...   \n",
       "\n",
       "                                      URL              Press Company  \n",
       "0  https://www.news1.kr/articles/?4326866  공감언론 뉴시스 akang@newsis.com  "
      ]
     },
     "execution_count": 145,
     "metadata": {},
     "output_type": "execute_result"
    }
   ],
   "source": [
    "df_article = pd.DataFrame({'Title': titles, 'Date': dates, 'Article': articles, 'URL': url, 'Press Company': press_companies})\n",
    "df_article"
   ]
  },
  {
   "cell_type": "markdown",
   "metadata": {},
   "source": [
    "엑셀 파일로 저장"
   ]
  },
  {
   "cell_type": "code",
   "execution_count": 147,
   "metadata": {},
   "outputs": [],
   "source": [
    "df_article.to_excel('result_{}.xlsx'.format(datetime.now().strftime('%y%m%d_%H%M')), index=False, encoding='utf-8')"
   ]
  },
  {
   "cell_type": "code",
   "execution_count": 149,
   "metadata": {},
   "outputs": [
    {
     "data": {
      "text/html": [
       "<div>\n",
       "<style scoped>\n",
       "    .dataframe tbody tr th:only-of-type {\n",
       "        vertical-align: middle;\n",
       "    }\n",
       "\n",
       "    .dataframe tbody tr th {\n",
       "        vertical-align: top;\n",
       "    }\n",
       "\n",
       "    .dataframe thead th {\n",
       "        text-align: right;\n",
       "    }\n",
       "</style>\n",
       "<table border=\"1\" class=\"dataframe\">\n",
       "  <thead>\n",
       "    <tr style=\"text-align: right;\">\n",
       "      <th></th>\n",
       "      <th>Title</th>\n",
       "      <th>Date</th>\n",
       "      <th>Article</th>\n",
       "      <th>URL</th>\n",
       "      <th>Press Company</th>\n",
       "    </tr>\n",
       "  </thead>\n",
       "  <tbody>\n",
       "    <tr>\n",
       "      <th>0</th>\n",
       "      <td>'유 퀴즈' 배우 박정민→윤여정 동생 윤여순 출연</td>\n",
       "      <td>2021-06-02 13:51:26</td>\n",
       "      <td>tvN '유 퀴즈 온 더 블럭'에 배우 박정민과 대기업 첫 여성 임원인 윤여정의 동...</td>\n",
       "      <td>https://www.news1.kr/articles/?4326866</td>\n",
       "      <td>공감언론 뉴시스 akang@newsis.com</td>\n",
       "    </tr>\n",
       "  </tbody>\n",
       "</table>\n",
       "</div>"
      ],
      "text/plain": [
       "                         Title                 Date  \\\n",
       "0  '유 퀴즈' 배우 박정민→윤여정 동생 윤여순 출연  2021-06-02 13:51:26   \n",
       "\n",
       "                                             Article  \\\n",
       "0  tvN '유 퀴즈 온 더 블럭'에 배우 박정민과 대기업 첫 여성 임원인 윤여정의 동...   \n",
       "\n",
       "                                      URL              Press Company  \n",
       "0  https://www.news1.kr/articles/?4326866  공감언론 뉴시스 akang@newsis.com  "
      ]
     },
     "execution_count": 149,
     "metadata": {},
     "output_type": "execute_result"
    }
   ],
   "source": [
    "df_article_read = pd.read_excel('result_210621_2328.xlsx', encoding='utf-8')\n",
    "df_article.head()"
   ]
  },
  {
   "cell_type": "markdown",
   "metadata": {},
   "source": [
    "<br>\n",
    "\n",
    "### 여러 페이지에 걸쳐 크롤링하기"
   ]
  },
  {
   "cell_type": "markdown",
   "metadata": {},
   "source": [
    "![page_nums](image/pagenums.png)"
   ]
  },
  {
   "cell_type": "markdown",
   "metadata": {},
   "source": [
    "메서드화"
   ]
  },
  {
   "cell_type": "code",
   "execution_count": 3,
   "metadata": {},
   "outputs": [],
   "source": [
    "def scraping_news(url, titles, dates, articles, press_companies, urls):\n",
    "    if url.startswith('http://www.newsis.com'):\n",
    "        try:\n",
    "            content = requests.get(url).content\n",
    "            source = BeautifulSoup(content, 'html.parser')\n",
    "\n",
    "            # 기사제목\n",
    "            title = source.find('h1').get_text()\n",
    "\n",
    "            # 기사날짜\n",
    "            date = source.find('div', {'class': 'date'}).get_text()[3:]\n",
    "\n",
    "            # 기사본문\n",
    "            article = source.find('div', {'id': 'textBody'}).get_text()\n",
    "            news_content = article.replace('[서울=뉴시스]', '')\n",
    "            news_content = news_content.replace('◎공감언론 뉴시스 akang@newsis.com', '')\n",
    "            news_content = news_content.replace('\\n\\r\\n', ' ')\n",
    "            news_content = news_content.replace('\\n\\n\\n\\t', ' ')\n",
    "            pattern = re.compile(r'@') # 처음 등장하는 @ 위치\n",
    "            email_address = pattern.search(news_content)\n",
    "            mail_start = email_address.start()\n",
    "            news_content = news_content[mail_start + 21:]\n",
    "\n",
    "            # 언론사\n",
    "            press_company = article[-26:-1]\n",
    "\n",
    "            titles.append(title)\n",
    "            dates.append(date)\n",
    "            articles.append(news_content)\n",
    "            press_companies.append(press_company)\n",
    "            urls.append(url)\n",
    "            print('Title: {}'.format(url))\n",
    "\n",
    "        except:\n",
    "            print('*** error occurred at {} ***'.format(url))\n",
    "    else:\n",
    "        print('*** (뉴시스x) Title: {} ***'.format(url))"
   ]
  },
  {
   "cell_type": "code",
   "execution_count": 156,
   "metadata": {},
   "outputs": [
    {
     "data": {
      "text/plain": [
       "'https://search.naver.com/search.naver?where=news&query=배우 박정민&start=11'"
      ]
     },
     "execution_count": 156,
     "metadata": {},
     "output_type": "execute_result"
    }
   ],
   "source": [
    "query = '배우 박정민'\n",
    "start = 11 # 2 페이지\n",
    "url = \"https://search.naver.com/search.naver?where=news&query=\" + query + '&start=' + str(start)\n",
    "url"
   ]
  },
  {
   "cell_type": "code",
   "execution_count": 158,
   "metadata": {},
   "outputs": [
    {
     "data": {
      "text/plain": [
       "'https://search.naver.com/search.naver?where=news&query=배우 박정민&start=21'"
      ]
     },
     "execution_count": 158,
     "metadata": {},
     "output_type": "execute_result"
    }
   ],
   "source": [
    "query = '배우 박정민'\n",
    "start = 21 # 3 페이지\n",
    "url = \"https://search.naver.com/search.naver?where=news&query=\" + query + '&start=' + str(start)\n",
    "url"
   ]
  },
  {
   "cell_type": "code",
   "execution_count": 164,
   "metadata": {},
   "outputs": [
    {
     "name": "stdout",
     "output_type": "stream",
     "text": [
      "1\n",
      "11\n",
      "21\n",
      "31\n",
      "41\n"
     ]
    }
   ],
   "source": [
    "max_page = 5\n",
    "starts = []\n",
    "\n",
    "for i in range(1, max_page * 10 + 1, 10):\n",
    "    print(i)"
   ]
  },
  {
   "cell_type": "markdown",
   "metadata": {},
   "source": [
    "원하는 페이지 수 지정하여 각 기사들의 본문 내용 스크랩핑하기"
   ]
  },
  {
   "cell_type": "code",
   "execution_count": 4,
   "metadata": {},
   "outputs": [
    {
     "name": "stdout",
     "output_type": "stream",
     "text": [
      "검색할 단어를 입력하세요: 배우 박정민\n",
      "검색할 총 페이지수를 입력하세요: 3\n",
      "\n",
      "1번째 기사글부터 크롤링을 시작합니다.\n",
      "*** (뉴시스x) Title: http://sports.chosun.com/news/ntype.htm?id=202106230100182070011597&servicedate=20210622 ***\n",
      "*** (뉴시스x) Title: http://www.mydaily.co.kr/new_yk/html/read.php?newsid=202106221310432518&ext=na&utm_campaign=naver_news&utm_source=naver&utm_medium=related_news ***\n",
      "*** (뉴시스x) Title: http://starin.edaily.co.kr/news/newspath.asp?newsid=01151286629084016 ***\n",
      "*** (뉴시스x) Title: https://view.asiae.co.kr/article/2021062109425167742 ***\n",
      "*** (뉴시스x) Title: https://star.ytn.co.kr/_sn/0117_202106110937275511 ***\n",
      "*** (뉴시스x) Title: http://yna.kr/AKR20210607103700005?did=1195m ***\n",
      "*** (뉴시스x) Title: https://sports.donga.com/article/all/20210618/107500147/1 ***\n",
      "*** (뉴시스x) Title: https://www.news1.kr/articles/?4331691 ***\n",
      "Title: http://www.newsis.com/view/?id=NISX20210602_0001462205&cID=10601&pID=10600\n",
      "*** (뉴시스x) Title: http://www.gukjenews.com/news/articleView.html?idxno=2243478 ***\n",
      "\n",
      "11번째 기사글부터 크롤링을 시작합니다.\n",
      "*** (뉴시스x) Title: https://www.xportsnews.com/?ac=article_view&entry_id=1435543 ***\n",
      "*** (뉴시스x) Title: https://www.news1.kr/articles/?4326866 ***\n",
      "*** (뉴시스x) Title: http://starin.edaily.co.kr/news/newspath.asp?newsid=01115206629078112 ***\n",
      "Title: http://www.newsis.com/view/?id=NISX20210603_0001463852&cID=10601&pID=10600\n",
      "*** (뉴시스x) Title: http://sports.khan.co.kr/news/sk_index.html?art_id=202106031817003&sec_id=540201&pt=nv ***\n",
      "*** (뉴시스x) Title: https://www.wikitree.co.kr/articles/658110 ***\n",
      "*** (뉴시스x) Title: http://www.etnews.com/20210420000254 ***\n",
      "*** (뉴시스x) Title: https://www.news1.kr/articles/?4326863 ***\n",
      "*** (뉴시스x) Title: http://starin.edaily.co.kr/news/newspath.asp?newsid=01092246629078768 ***\n",
      "*** (뉴시스x) Title: http://sports.chosun.com/news/ntype.htm?id=202106030100026530001398&servicedate=20210602 ***\n",
      "\n",
      "21번째 기사글부터 크롤링을 시작합니다.\n",
      "*** (뉴시스x) Title: http://star.mk.co.kr/new/view.php?mc=ST&year=2021&no=535175 ***\n",
      "*** (뉴시스x) Title: http://www.osen.co.kr/article/G1111592059 ***\n",
      "*** (뉴시스x) Title: http://isplus.live.joins.com/news/article/article.asp?total_id=24073061 ***\n",
      "Title: http://www.newsis.com/view/?id=NISX20210426_0001420274&cID=10601&pID=10600\n",
      "*** (뉴시스x) Title: http://star.mt.co.kr/stview.php?no=2021060220053511708 ***\n",
      "*** (뉴시스x) Title: https://www.news1.kr/articles/?4280255 ***\n",
      "*** (뉴시스x) Title: https://tenasia.hankyung.com/tv/article/2021060280684 ***\n",
      "*** (뉴시스x) Title: http://isplus.live.joins.com/news/article/article.asp?total_id=24053494 ***\n",
      "*** (뉴시스x) Title: https://www.news1.kr/articles/?4323602 ***\n",
      "*** (뉴시스x) Title: https://star.ytn.co.kr/_sn/0117_202104261712491136 ***\n",
      "\n",
      "31번째 기사글부터 크롤링을 시작합니다.\n",
      "*** (뉴시스x) Title: http://star.mk.co.kr/new/view.php?mc=ST&year=2021&no=464375 ***\n",
      "Title: http://www.newsis.com/view/?id=NISX20210506_0001432189&cID=10601&pID=10600\n",
      "Title: http://www.newsis.com/view/?id=NISX20210426_0001420390&cID=10601&pID=10600\n",
      "Title: http://www.newsis.com/view/?id=NISX20210209_0001335811&cID=10601&pID=10600\n",
      "*** (뉴시스x) Title: https://www.news1.kr/articles/?4281990 ***\n",
      "*** (뉴시스x) Title: http://www.osen.co.kr/article/G1111591932 ***\n",
      "*** (뉴시스x) Title: https://www.news1.kr/articles/?4287099 ***\n",
      "Title: http://www.newsis.com/view/?id=NISX20210513_0001440935&cID=10601&pID=10600\n",
      "*** (뉴시스x) Title: http://www.osen.co.kr/article/G1111592014 ***\n",
      "*** (뉴시스x) Title: http://star.mk.co.kr/new/view.php?mc=ST&year=2021&no=212453 ***\n"
     ]
    }
   ],
   "source": [
    "query = (input('검색할 단어를 입력하세요: '))\n",
    "max_page = (input('검색할 총 페이지수를 입력하세요: '))\n",
    "\n",
    "current = 1\n",
    "last = int(max_page) * 10 + 1\n",
    "base_url = 'https://search.naver.com/search.naver?where=news&query='\n",
    "\n",
    "\n",
    "titles = []\n",
    "dates = []\n",
    "articles = []\n",
    "press_companies = []\n",
    "urls = []\n",
    "while current <= last:\n",
    "    print('\\n{}번째 기사글부터 크롤링을 시작합니다.'.format(current))\n",
    "    \n",
    "    url = base_url + query + '&start=' + str(current)\n",
    "    web = requests.get(url).content\n",
    "    source = BeautifulSoup(web, 'html.parser')\n",
    "    \n",
    "    urls_list = []\n",
    "    for url in source.find_all('a', {'class': 'news_tit'}):\n",
    "        urls_list.append(url['href'])\n",
    "        \n",
    "    for url in urls_list:\n",
    "        scraping_news(url, titles, dates, articles, press_companies, urls)\n",
    "#         if url.startswith('http://www.newsis.com'):\n",
    "#             try:\n",
    "#                 content = requests.get(url).content\n",
    "#                 source = BeautifulSoup(content, 'html.parser')\n",
    "\n",
    "#                 # 기사제목\n",
    "#                 title = source.find('h1').get_text()\n",
    "\n",
    "#                 # 기사날짜\n",
    "#                 date = source.find('div', {'class': 'date'}).get_text()[3:]\n",
    "\n",
    "#                 # 기사본문\n",
    "#                 article = source.find('div', {'id': 'textBody'}).get_text()\n",
    "#                 news_content = article.replace('[서울=뉴시스]', '')\n",
    "#                 news_content = news_content.replace('◎공감언론 뉴시스 akang@newsis.com', '')\n",
    "#                 news_content = news_content.replace('\\n\\r\\n', ' ')\n",
    "#                 news_content = news_content.replace('\\n\\n\\n\\t', ' ')\n",
    "#                 pattern = re.compile(r'@') # 처음 등장하는 @ 위치\n",
    "#                 email_address = pattern.search(news_content)\n",
    "#                 mail_start = email_address.start()\n",
    "#                 news_content = news_content[mail_start + 21:]\n",
    "\n",
    "#                 # 언론사\n",
    "#                 press_company = article[-26:-1]\n",
    "\n",
    "#                 titles.append(title)\n",
    "#                 dates.append(date)\n",
    "#                 articles.append(news_content)\n",
    "#                 press_companies.append(press_company)\n",
    "#                 urls.append(url)\n",
    "#                 print('Title: {}'.format(url))\n",
    "\n",
    "#             except:\n",
    "#                 print('*** error occurred at {} ***'.format(url))\n",
    "#         else:\n",
    "#             print('*** (뉴시스x) Title: {} ***'.format(url))\n",
    "    \n",
    "    time.sleep(5)\n",
    "    current += 10"
   ]
  },
  {
   "cell_type": "code",
   "execution_count": 170,
   "metadata": {},
   "outputs": [
    {
     "data": {
      "text/plain": [
       "[\"'유 퀴즈' 배우 박정민→윤여정 동생 윤여순 출연\",\n",
       " '\\'유퀴즈\\' 박정민, 고려대→한예종 \"나는 \\'안 될 놈\\' 같았다\"',\n",
       " '박정민 \"윤여정 아카데미상 수상...대한민국에 좋은 선물\"',\n",
       " \"'기적' 박정민·이성민·임윤아·이수경, '4色 캐릭터' 예고편 공개\",\n",
       " '박정민 \"\\'기적\\', 출연 고민했는데 감독이 펭수 굿즈 챙겨줘 믿음\"',\n",
       " '박정민, 청룡 남우조연상…트랜스젠더 연기 호평',\n",
       " '[2021 백상]오정세·염혜란·박정민·김선영, 남녀 조연상 ',\n",
       " '故 박지선 향한 박정민의 진심 뭉클...\"괜찮냐고 묻지 못해 미안\" ']"
      ]
     },
     "execution_count": 170,
     "metadata": {},
     "output_type": "execute_result"
    }
   ],
   "source": [
    "titles"
   ]
  },
  {
   "cell_type": "code",
   "execution_count": 171,
   "metadata": {},
   "outputs": [
    {
     "data": {
      "text/plain": [
       "['2021-06-02 13:51:26',\n",
       " '2021-06-03 14:07:02',\n",
       " '2021-04-26 16:33:41',\n",
       " '2021-05-06 16:18:24',\n",
       " '2021-04-26 17:33:57',\n",
       " '2021-02-09 22:23:12',\n",
       " '2021-05-13 23:09:58',\n",
       " '2021-02-10 12:03:03']"
      ]
     },
     "execution_count": 171,
     "metadata": {},
     "output_type": "execute_result"
    }
   ],
   "source": [
    "dates"
   ]
  },
  {
   "cell_type": "markdown",
   "metadata": {},
   "source": [
    "데이터프레임 -> 엑셀파일"
   ]
  },
  {
   "cell_type": "code",
   "execution_count": 173,
   "metadata": {},
   "outputs": [
    {
     "data": {
      "text/html": [
       "<div>\n",
       "<style scoped>\n",
       "    .dataframe tbody tr th:only-of-type {\n",
       "        vertical-align: middle;\n",
       "    }\n",
       "\n",
       "    .dataframe tbody tr th {\n",
       "        vertical-align: top;\n",
       "    }\n",
       "\n",
       "    .dataframe thead th {\n",
       "        text-align: right;\n",
       "    }\n",
       "</style>\n",
       "<table border=\"1\" class=\"dataframe\">\n",
       "  <thead>\n",
       "    <tr style=\"text-align: right;\">\n",
       "      <th></th>\n",
       "      <th>Title</th>\n",
       "      <th>Date</th>\n",
       "      <th>Article</th>\n",
       "      <th>URL</th>\n",
       "      <th>Press Company</th>\n",
       "    </tr>\n",
       "  </thead>\n",
       "  <tbody>\n",
       "    <tr>\n",
       "      <th>0</th>\n",
       "      <td>'유 퀴즈' 배우 박정민→윤여정 동생 윤여순 출연</td>\n",
       "      <td>2021-06-02 13:51:26</td>\n",
       "      <td>tvN '유 퀴즈 온 더 블럭'에 배우 박정민과 대기업 첫 여성 임원인 윤여정의 동...</td>\n",
       "      <td>http://www.newsis.com/view/?id=NISX20210602_00...</td>\n",
       "      <td>공감언론 뉴시스 akang@newsis.com</td>\n",
       "    </tr>\n",
       "    <tr>\n",
       "      <th>1</th>\n",
       "      <td>'유퀴즈' 박정민, 고려대→한예종 \"나는 '안 될 놈' 같았다\"</td>\n",
       "      <td>2021-06-03 14:07:02</td>\n",
       "      <td>금지성유민 인턴 기자 = 배우 박정민이 5년의 무명 시절로 자격지심을 가졌었다고 ...</td>\n",
       "      <td>http://www.newsis.com/view/?id=NISX20210603_00...</td>\n",
       "      <td>감언론 뉴시스 ymsung@newsis.com</td>\n",
       "    </tr>\n",
       "    <tr>\n",
       "      <th>2</th>\n",
       "      <td>박정민 \"윤여정 아카데미상 수상...대한민국에 좋은 선물\"</td>\n",
       "      <td>2021-04-26 16:33:41</td>\n",
       "      <td>= 오는 6월 개봉하는 영화 '기적'의 출연진이 배우 윤여정의 아카데미 여우조연상 ...</td>\n",
       "      <td>http://www.newsis.com/view/?id=NISX20210426_00...</td>\n",
       "      <td>론 뉴시스 jmstal01@newsis.com</td>\n",
       "    </tr>\n",
       "    <tr>\n",
       "      <th>3</th>\n",
       "      <td>'기적' 박정민·이성민·임윤아·이수경, '4色 캐릭터' 예고편 공개</td>\n",
       "      <td>2021-05-06 16:18:24</td>\n",
       "      <td>금지성유민 인턴 기자 = 배우 박정민, 이성민, 임윤아, 이수경의 첫 만남으로 기...</td>\n",
       "      <td>http://www.newsis.com/view/?id=NISX20210506_00...</td>\n",
       "      <td>감언론 뉴시스 ymsung@newsis.com</td>\n",
       "    </tr>\n",
       "    <tr>\n",
       "      <th>4</th>\n",
       "      <td>박정민 \"'기적', 출연 고민했는데 감독이 펭수 굿즈 챙겨줘 믿음\"</td>\n",
       "      <td>2021-04-26 17:33:57</td>\n",
       "      <td>금지\\r\\n 임종명 기자 = 배우 박정민이 영화 '기적'의 출연을 고심하다 이장훈...</td>\n",
       "      <td>http://www.newsis.com/view/?id=NISX20210426_00...</td>\n",
       "      <td>론 뉴시스 jmstal01@newsis.com</td>\n",
       "    </tr>\n",
       "    <tr>\n",
       "      <th>5</th>\n",
       "      <td>박정민, 청룡 남우조연상…트랜스젠더 연기 호평</td>\n",
       "      <td>2021-02-09 22:23:12</td>\n",
       "      <td>= 배우 박정민이 9일 인천 영종도 파라다이스시티에서 열린 제41회 청룡영화상 시상...</td>\n",
       "      <td>http://www.newsis.com/view/?id=NISX20210209_00...</td>\n",
       "      <td>론 뉴시스 jmstal01@newsis.com</td>\n",
       "    </tr>\n",
       "    <tr>\n",
       "      <th>6</th>\n",
       "      <td>[2021 백상]오정세·염혜란·박정민·김선영, 남녀 조연상</td>\n",
       "      <td>2021-05-13 23:09:58</td>\n",
       "      <td>우 오정세·염혜란·박정민·김선영이 '제57회 백상예술대상'에서 조연상을 받았다.  ...</td>\n",
       "      <td>http://www.newsis.com/view/?id=NISX20210513_00...</td>\n",
       "      <td>뉴시스 realpaper7@newsis.com</td>\n",
       "    </tr>\n",
       "    <tr>\n",
       "      <th>7</th>\n",
       "      <td>故 박지선 향한 박정민의 진심 뭉클...\"괜찮냐고 묻지 못해 미안\"</td>\n",
       "      <td>2021-02-10 12:03:03</td>\n",
       "      <td>\"만약에 제가 이 마이크 앞에서 딱 한 사람에게 진심으로 감사의 말을 할 수 있다면...</td>\n",
       "      <td>http://www.newsis.com/view/?id=NISX20210210_00...</td>\n",
       "      <td>스 lovelypsyche@newsis.com</td>\n",
       "    </tr>\n",
       "  </tbody>\n",
       "</table>\n",
       "</div>"
      ],
      "text/plain": [
       "                                    Title                 Date  \\\n",
       "0             '유 퀴즈' 배우 박정민→윤여정 동생 윤여순 출연  2021-06-02 13:51:26   \n",
       "1     '유퀴즈' 박정민, 고려대→한예종 \"나는 '안 될 놈' 같았다\"  2021-06-03 14:07:02   \n",
       "2        박정민 \"윤여정 아카데미상 수상...대한민국에 좋은 선물\"  2021-04-26 16:33:41   \n",
       "3   '기적' 박정민·이성민·임윤아·이수경, '4色 캐릭터' 예고편 공개  2021-05-06 16:18:24   \n",
       "4   박정민 \"'기적', 출연 고민했는데 감독이 펭수 굿즈 챙겨줘 믿음\"  2021-04-26 17:33:57   \n",
       "5               박정민, 청룡 남우조연상…트랜스젠더 연기 호평  2021-02-09 22:23:12   \n",
       "6       [2021 백상]오정세·염혜란·박정민·김선영, 남녀 조연상   2021-05-13 23:09:58   \n",
       "7  故 박지선 향한 박정민의 진심 뭉클...\"괜찮냐고 묻지 못해 미안\"   2021-02-10 12:03:03   \n",
       "\n",
       "                                             Article  \\\n",
       "0  tvN '유 퀴즈 온 더 블럭'에 배우 박정민과 대기업 첫 여성 임원인 윤여정의 동...   \n",
       "1   금지성유민 인턴 기자 = 배우 박정민이 5년의 무명 시절로 자격지심을 가졌었다고 ...   \n",
       "2  = 오는 6월 개봉하는 영화 '기적'의 출연진이 배우 윤여정의 아카데미 여우조연상 ...   \n",
       "3   금지성유민 인턴 기자 = 배우 박정민, 이성민, 임윤아, 이수경의 첫 만남으로 기...   \n",
       "4   금지\\r\\n 임종명 기자 = 배우 박정민이 영화 '기적'의 출연을 고심하다 이장훈...   \n",
       "5  = 배우 박정민이 9일 인천 영종도 파라다이스시티에서 열린 제41회 청룡영화상 시상...   \n",
       "6  우 오정세·염혜란·박정민·김선영이 '제57회 백상예술대상'에서 조연상을 받았다.  ...   \n",
       "7  \"만약에 제가 이 마이크 앞에서 딱 한 사람에게 진심으로 감사의 말을 할 수 있다면...   \n",
       "\n",
       "                                                 URL  \\\n",
       "0  http://www.newsis.com/view/?id=NISX20210602_00...   \n",
       "1  http://www.newsis.com/view/?id=NISX20210603_00...   \n",
       "2  http://www.newsis.com/view/?id=NISX20210426_00...   \n",
       "3  http://www.newsis.com/view/?id=NISX20210506_00...   \n",
       "4  http://www.newsis.com/view/?id=NISX20210426_00...   \n",
       "5  http://www.newsis.com/view/?id=NISX20210209_00...   \n",
       "6  http://www.newsis.com/view/?id=NISX20210513_00...   \n",
       "7  http://www.newsis.com/view/?id=NISX20210210_00...   \n",
       "\n",
       "               Press Company  \n",
       "0  공감언론 뉴시스 akang@newsis.com  \n",
       "1  감언론 뉴시스 ymsung@newsis.com  \n",
       "2  론 뉴시스 jmstal01@newsis.com  \n",
       "3  감언론 뉴시스 ymsung@newsis.com  \n",
       "4  론 뉴시스 jmstal01@newsis.com  \n",
       "5  론 뉴시스 jmstal01@newsis.com  \n",
       "6  뉴시스 realpaper7@newsis.com  \n",
       "7  스 lovelypsyche@newsis.com  "
      ]
     },
     "execution_count": 173,
     "metadata": {},
     "output_type": "execute_result"
    }
   ],
   "source": [
    "df_article = pd.DataFrame({'Title':titles, 'Date':dates, 'Article':articles, 'URL':urls, 'Press Company': press_companies})\n",
    "df_article"
   ]
  },
  {
   "cell_type": "markdown",
   "metadata": {},
   "source": [
    "엑셀 파일로 저장"
   ]
  },
  {
   "cell_type": "code",
   "execution_count": 5,
   "metadata": {},
   "outputs": [
    {
     "data": {
      "text/plain": [
       "datetime.datetime(2021, 6, 23, 0, 17, 11, 785551)"
      ]
     },
     "execution_count": 5,
     "metadata": {},
     "output_type": "execute_result"
    }
   ],
   "source": [
    "datetime.now()"
   ]
  },
  {
   "cell_type": "code",
   "execution_count": 174,
   "metadata": {},
   "outputs": [],
   "source": [
    "df_article.to_excel('resultAll_{}.xlsx'.format(datetime.now().strftime('%y%m%d_%H%M')), index=False, encoding='utf-8')"
   ]
  },
  {
   "cell_type": "code",
   "execution_count": 175,
   "metadata": {},
   "outputs": [
    {
     "data": {
      "text/html": [
       "<div>\n",
       "<style scoped>\n",
       "    .dataframe tbody tr th:only-of-type {\n",
       "        vertical-align: middle;\n",
       "    }\n",
       "\n",
       "    .dataframe tbody tr th {\n",
       "        vertical-align: top;\n",
       "    }\n",
       "\n",
       "    .dataframe thead th {\n",
       "        text-align: right;\n",
       "    }\n",
       "</style>\n",
       "<table border=\"1\" class=\"dataframe\">\n",
       "  <thead>\n",
       "    <tr style=\"text-align: right;\">\n",
       "      <th></th>\n",
       "      <th>Title</th>\n",
       "      <th>Date</th>\n",
       "      <th>Article</th>\n",
       "      <th>URL</th>\n",
       "      <th>Press Company</th>\n",
       "    </tr>\n",
       "  </thead>\n",
       "  <tbody>\n",
       "    <tr>\n",
       "      <th>0</th>\n",
       "      <td>'유 퀴즈' 배우 박정민→윤여정 동생 윤여순 출연</td>\n",
       "      <td>2021-06-02 13:51:26</td>\n",
       "      <td>tvN '유 퀴즈 온 더 블럭'에 배우 박정민과 대기업 첫 여성 임원인 윤여정의 동...</td>\n",
       "      <td>http://www.newsis.com/view/?id=NISX20210602_00...</td>\n",
       "      <td>공감언론 뉴시스 akang@newsis.com</td>\n",
       "    </tr>\n",
       "    <tr>\n",
       "      <th>1</th>\n",
       "      <td>'유퀴즈' 박정민, 고려대→한예종 \"나는 '안 될 놈' 같았다\"</td>\n",
       "      <td>2021-06-03 14:07:02</td>\n",
       "      <td>금지성유민 인턴 기자 = 배우 박정민이 5년의 무명 시절로 자격지심을 가졌었다고 ...</td>\n",
       "      <td>http://www.newsis.com/view/?id=NISX20210603_00...</td>\n",
       "      <td>감언론 뉴시스 ymsung@newsis.com</td>\n",
       "    </tr>\n",
       "    <tr>\n",
       "      <th>2</th>\n",
       "      <td>박정민 \"윤여정 아카데미상 수상...대한민국에 좋은 선물\"</td>\n",
       "      <td>2021-04-26 16:33:41</td>\n",
       "      <td>0</td>\n",
       "      <td>http://www.newsis.com/view/?id=NISX20210426_00...</td>\n",
       "      <td>론 뉴시스 jmstal01@newsis.com</td>\n",
       "    </tr>\n",
       "    <tr>\n",
       "      <th>3</th>\n",
       "      <td>'기적' 박정민·이성민·임윤아·이수경, '4色 캐릭터' 예고편 공개</td>\n",
       "      <td>2021-05-06 16:18:24</td>\n",
       "      <td>금지성유민 인턴 기자 = 배우 박정민, 이성민, 임윤아, 이수경의 첫 만남으로 기...</td>\n",
       "      <td>http://www.newsis.com/view/?id=NISX20210506_00...</td>\n",
       "      <td>감언론 뉴시스 ymsung@newsis.com</td>\n",
       "    </tr>\n",
       "    <tr>\n",
       "      <th>4</th>\n",
       "      <td>박정민 \"'기적', 출연 고민했는데 감독이 펭수 굿즈 챙겨줘 믿음\"</td>\n",
       "      <td>2021-04-26 17:33:57</td>\n",
       "      <td>금지\\r\\n 임종명 기자 = 배우 박정민이 영화 '기적'의 출연을 고심하다 이장훈...</td>\n",
       "      <td>http://www.newsis.com/view/?id=NISX20210426_00...</td>\n",
       "      <td>론 뉴시스 jmstal01@newsis.com</td>\n",
       "    </tr>\n",
       "    <tr>\n",
       "      <th>5</th>\n",
       "      <td>박정민, 청룡 남우조연상…트랜스젠더 연기 호평</td>\n",
       "      <td>2021-02-09 22:23:12</td>\n",
       "      <td>0</td>\n",
       "      <td>http://www.newsis.com/view/?id=NISX20210209_00...</td>\n",
       "      <td>론 뉴시스 jmstal01@newsis.com</td>\n",
       "    </tr>\n",
       "    <tr>\n",
       "      <th>6</th>\n",
       "      <td>[2021 백상]오정세·염혜란·박정민·김선영, 남녀 조연상</td>\n",
       "      <td>2021-05-13 23:09:58</td>\n",
       "      <td>우 오정세·염혜란·박정민·김선영이 '제57회 백상예술대상'에서 조연상을 받았다.  ...</td>\n",
       "      <td>http://www.newsis.com/view/?id=NISX20210513_00...</td>\n",
       "      <td>뉴시스 realpaper7@newsis.com</td>\n",
       "    </tr>\n",
       "    <tr>\n",
       "      <th>7</th>\n",
       "      <td>故 박지선 향한 박정민의 진심 뭉클...\"괜찮냐고 묻지 못해 미안\"</td>\n",
       "      <td>2021-02-10 12:03:03</td>\n",
       "      <td>\"만약에 제가 이 마이크 앞에서 딱 한 사람에게 진심으로 감사의 말을 할 수 있다면...</td>\n",
       "      <td>http://www.newsis.com/view/?id=NISX20210210_00...</td>\n",
       "      <td>스 lovelypsyche@newsis.com</td>\n",
       "    </tr>\n",
       "  </tbody>\n",
       "</table>\n",
       "</div>"
      ],
      "text/plain": [
       "                                    Title                 Date  \\\n",
       "0             '유 퀴즈' 배우 박정민→윤여정 동생 윤여순 출연  2021-06-02 13:51:26   \n",
       "1     '유퀴즈' 박정민, 고려대→한예종 \"나는 '안 될 놈' 같았다\"  2021-06-03 14:07:02   \n",
       "2        박정민 \"윤여정 아카데미상 수상...대한민국에 좋은 선물\"  2021-04-26 16:33:41   \n",
       "3   '기적' 박정민·이성민·임윤아·이수경, '4色 캐릭터' 예고편 공개  2021-05-06 16:18:24   \n",
       "4   박정민 \"'기적', 출연 고민했는데 감독이 펭수 굿즈 챙겨줘 믿음\"  2021-04-26 17:33:57   \n",
       "5               박정민, 청룡 남우조연상…트랜스젠더 연기 호평  2021-02-09 22:23:12   \n",
       "6       [2021 백상]오정세·염혜란·박정민·김선영, 남녀 조연상   2021-05-13 23:09:58   \n",
       "7  故 박지선 향한 박정민의 진심 뭉클...\"괜찮냐고 묻지 못해 미안\"   2021-02-10 12:03:03   \n",
       "\n",
       "                                             Article  \\\n",
       "0  tvN '유 퀴즈 온 더 블럭'에 배우 박정민과 대기업 첫 여성 임원인 윤여정의 동...   \n",
       "1   금지성유민 인턴 기자 = 배우 박정민이 5년의 무명 시절로 자격지심을 가졌었다고 ...   \n",
       "2                                                  0   \n",
       "3   금지성유민 인턴 기자 = 배우 박정민, 이성민, 임윤아, 이수경의 첫 만남으로 기...   \n",
       "4   금지\\r\\n 임종명 기자 = 배우 박정민이 영화 '기적'의 출연을 고심하다 이장훈...   \n",
       "5                                                  0   \n",
       "6  우 오정세·염혜란·박정민·김선영이 '제57회 백상예술대상'에서 조연상을 받았다.  ...   \n",
       "7  \"만약에 제가 이 마이크 앞에서 딱 한 사람에게 진심으로 감사의 말을 할 수 있다면...   \n",
       "\n",
       "                                                 URL  \\\n",
       "0  http://www.newsis.com/view/?id=NISX20210602_00...   \n",
       "1  http://www.newsis.com/view/?id=NISX20210603_00...   \n",
       "2  http://www.newsis.com/view/?id=NISX20210426_00...   \n",
       "3  http://www.newsis.com/view/?id=NISX20210506_00...   \n",
       "4  http://www.newsis.com/view/?id=NISX20210426_00...   \n",
       "5  http://www.newsis.com/view/?id=NISX20210209_00...   \n",
       "6  http://www.newsis.com/view/?id=NISX20210513_00...   \n",
       "7  http://www.newsis.com/view/?id=NISX20210210_00...   \n",
       "\n",
       "               Press Company  \n",
       "0  공감언론 뉴시스 akang@newsis.com  \n",
       "1  감언론 뉴시스 ymsung@newsis.com  \n",
       "2  론 뉴시스 jmstal01@newsis.com  \n",
       "3  감언론 뉴시스 ymsung@newsis.com  \n",
       "4  론 뉴시스 jmstal01@newsis.com  \n",
       "5  론 뉴시스 jmstal01@newsis.com  \n",
       "6  뉴시스 realpaper7@newsis.com  \n",
       "7  스 lovelypsyche@newsis.com  "
      ]
     },
     "execution_count": 175,
     "metadata": {},
     "output_type": "execute_result"
    }
   ],
   "source": [
    "df_read = pd.read_excel('resultAll_210621_2356.xlsx', encoding='utf-8')\n",
    "df_read"
   ]
  },
  {
   "cell_type": "markdown",
   "metadata": {},
   "source": [
    "<br>\n",
    "\n",
    "### 날짜 지정하여 검색"
   ]
  },
  {
   "cell_type": "code",
   "execution_count": 1,
   "metadata": {},
   "outputs": [],
   "source": [
    "# 메서드\n",
    "def scraping_news(url, titles, dates, articles, press_companies, urls):\n",
    "    if url.startswith('http://www.newsis.com'):\n",
    "        try:\n",
    "            content = requests.get(url).content\n",
    "            source = BeautifulSoup(content, 'html.parser')\n",
    "\n",
    "            # 기사제목\n",
    "            title = source.find('h1').get_text()\n",
    "\n",
    "            # 기사날짜\n",
    "            date = source.find('div', {'class': 'date'}).get_text()[3:]\n",
    "\n",
    "            # 기사본문\n",
    "            article = source.find('div', {'id': 'textBody'}).get_text()\n",
    "            news_content = article.replace('[서울=뉴시스]', '')\n",
    "            news_content = news_content.replace('◎공감언론 뉴시스 akang@newsis.com', '')\n",
    "            news_content = news_content.replace('\\n\\r\\n', ' ')\n",
    "            news_content = news_content.replace('\\n\\n\\n\\t', ' ')\n",
    "            pattern = re.compile(r'@') # 처음 등장하는 @ 위치\n",
    "            email_address = pattern.search(news_content)\n",
    "            mail_start = email_address.start()\n",
    "            news_content = news_content[mail_start + 21:]\n",
    "\n",
    "            # 언론사\n",
    "            press_company = article[-26:-1]\n",
    "\n",
    "            titles.append(title)\n",
    "            dates.append(date)\n",
    "            articles.append(news_content)\n",
    "            press_companies.append(press_company)\n",
    "            urls.append(url)\n",
    "            print('Title: {}'.format(url))\n",
    "\n",
    "        except:\n",
    "            print('*** error occurred at {} ***'.format(url))\n",
    "    else:\n",
    "        print('*** (뉴시스x) Title: {} ***'.format(url))"
   ]
  },
  {
   "cell_type": "code",
   "execution_count": 189,
   "metadata": {},
   "outputs": [
    {
     "name": "stdout",
     "output_type": "stream",
     "text": [
      "검색할 단어를 입력하세요: 10cm\n",
      "크롤링을 시작합니다.\n",
      "*** (뉴시스x) Title: http://news.mk.co.kr/newsRead.php?no=540986&year=2021 ***\n",
      "*** (뉴시스x) Title: http://www.mydaily.co.kr/new_yk/html/read.php?newsid=202106141656466696&ext=na&utm_campaign=naver_news&utm_source=naver&utm_medium=related_news ***\n",
      "*** (뉴시스x) Title: https://www.xportsnews.com/?ac=article_view&entry_id=1435237 ***\n",
      "*** (뉴시스x) Title: http://www.inews24.com/view/1372945 ***\n",
      "*** (뉴시스x) Title: https://www.news1.kr/articles/?4305233 ***\n",
      "Title: http://www.newsis.com/view/?id=NISX20210507_0001433069&cID=10601&pID=10600\n",
      "*** (뉴시스x) Title: http://sports.khan.co.kr/news/sk_index.html?art_id=202105141304003&sec_id=540301&pt=nv ***\n",
      "*** (뉴시스x) Title: https://biz.chosun.com/site/data/html_dir/2021/03/05/2021030501092.html?utm_source=naver&utm_medium=original&utm_campaign=biz ***\n",
      "*** (뉴시스x) Title: http://news.mt.co.kr/mtview.php?no=2021020313454174795 ***\n",
      "*** (뉴시스x) Title: http://www.fnnews.com/news/202106021434103152 ***\n"
     ]
    }
   ],
   "source": [
    "query = (input('검색할 단어를 입력하세요: '))\n",
    "\n",
    "start_date = '2021-06-22'.replace('.','')\n",
    "end_date='2021-06-20'.replace('.','')\n",
    "\n",
    "current = 1\n",
    "last = int(max_page) * 10 + 1\n",
    "base_url = 'https://search.naver.com/search.naver?where=news&query='\n",
    "\n",
    "\n",
    "titles = []\n",
    "dates = []\n",
    "articles = []\n",
    "press_companies = []\n",
    "urls = []\n",
    "# while current <= last:\n",
    "print('크롤링을 시작합니다.')\n",
    "\n",
    "url = base_url + query + '&nso=so%3Ar%2Cp%3Afrom' + start_date + 'to' + end_date +  '%2Ca%3A&start=1'\n",
    "web = requests.get(url).content\n",
    "source = BeautifulSoup(web, 'html.parser')\n",
    "\n",
    "urls_list = []\n",
    "for url in source.find_all('a', {'class': 'news_tit'}):\n",
    "    urls_list.append(url['href'])\n",
    "\n",
    "for url in urls_list:\n",
    "    scraping_news(url, titles, dates, articles, press_companies, urls)\n",
    "#     if url.startswith('http://www.newsis.com'):\n",
    "#         try:\n",
    "#             content = requests.get(url).content\n",
    "#             source = BeautifulSoup(content, 'html.parser')\n",
    "\n",
    "#             # 기사제목\n",
    "#             title = source.find('h1').get_text()\n",
    "\n",
    "#             # 기사날짜\n",
    "#             date = source.find('div', {'class': 'date'}).get_text()[3:]\n",
    "\n",
    "#             # 기사본문\n",
    "#             article = source.find('div', {'id': 'textBody'}).get_text()\n",
    "#             news_content = article.replace('[서울=뉴시스]', '')\n",
    "#             news_content = news_content.replace('◎공감언론 뉴시스 akang@newsis.com', '')\n",
    "#             news_content = news_content.replace('\\n\\r\\n', ' ')\n",
    "#             news_content = news_content.replace('\\n\\n\\n\\t', ' ')\n",
    "#             pattern = re.compile(r'@') # 처음 등장하는 @ 위치\n",
    "#             email_address = pattern.search(news_content)\n",
    "#             mail_start = email_address.start()\n",
    "#             news_content = news_content[mail_start + 21:]\n",
    "\n",
    "#             # 언론사\n",
    "#             press_company = article[-26:-1]\n",
    "\n",
    "#             titles.append(title)\n",
    "#             dates.append(date)\n",
    "#             articles.append(news_content)\n",
    "#             press_companies.append(press_company)\n",
    "#             urls.append(url)\n",
    "#             print('Title: {}'.format(url))\n",
    "\n",
    "#         except:\n",
    "#             print('*** error occurred at {} ***'.format(url))\n",
    "#     else:\n",
    "#         print('*** (뉴시스x) Title: {} ***'.format(url))"
   ]
  },
  {
   "cell_type": "code",
   "execution_count": 190,
   "metadata": {},
   "outputs": [],
   "source": [
    "def make_dateframe(titles, dates, articles, urls, presscompanies):\n",
    "    return pd.DataFrame({'Title':titles, \n",
    "                           'Date':dates, \n",
    "                           'Article':articles, \n",
    "                           'URL':urls, \n",
    "                           'PressCompany':presscompanies})"
   ]
  },
  {
   "cell_type": "code",
   "execution_count": 193,
   "metadata": {},
   "outputs": [
    {
     "data": {
      "text/html": [
       "<div>\n",
       "<style scoped>\n",
       "    .dataframe tbody tr th:only-of-type {\n",
       "        vertical-align: middle;\n",
       "    }\n",
       "\n",
       "    .dataframe tbody tr th {\n",
       "        vertical-align: top;\n",
       "    }\n",
       "\n",
       "    .dataframe thead th {\n",
       "        text-align: right;\n",
       "    }\n",
       "</style>\n",
       "<table border=\"1\" class=\"dataframe\">\n",
       "  <thead>\n",
       "    <tr style=\"text-align: right;\">\n",
       "      <th></th>\n",
       "      <th>Title</th>\n",
       "      <th>Date</th>\n",
       "      <th>Article</th>\n",
       "      <th>URL</th>\n",
       "      <th>PressCompany</th>\n",
       "    </tr>\n",
       "  </thead>\n",
       "  <tbody>\n",
       "    <tr>\n",
       "      <th>0</th>\n",
       "      <td>10CM, 신곡 '서울의 잠 못 이루는 밤' 13일 발매</td>\n",
       "      <td>2021-05-07 11:43:04</td>\n",
       "      <td>금지\\r\\n 남정현 기자 = 가수 10CM(십센치)가 신곡 '서울의 잠 못 이루는...</td>\n",
       "      <td>http://www.newsis.com/view/?id=NISX20210507_00...</td>\n",
       "      <td>감언론 뉴시스 nam_jh@newsis.com</td>\n",
       "    </tr>\n",
       "  </tbody>\n",
       "</table>\n",
       "</div>"
      ],
      "text/plain": [
       "                             Title                 Date  \\\n",
       "0  10CM, 신곡 '서울의 잠 못 이루는 밤' 13일 발매  2021-05-07 11:43:04   \n",
       "\n",
       "                                             Article  \\\n",
       "0   금지\\r\\n 남정현 기자 = 가수 10CM(십센치)가 신곡 '서울의 잠 못 이루는...   \n",
       "\n",
       "                                                 URL  \\\n",
       "0  http://www.newsis.com/view/?id=NISX20210507_00...   \n",
       "\n",
       "                PressCompany  \n",
       "0  감언론 뉴시스 nam_jh@newsis.com  "
      ]
     },
     "execution_count": 193,
     "metadata": {},
     "output_type": "execute_result"
    }
   ],
   "source": [
    "df_10cm = make_dateframe(titles, dates, articles, urls, press_companies)\n",
    "df_10cm"
   ]
  },
  {
   "cell_type": "markdown",
   "metadata": {},
   "source": [
    "<br>\n",
    "\n",
    "### 정렬 순서 지정하여 크롤링하기"
   ]
  },
  {
   "cell_type": "code",
   "execution_count": null,
   "metadata": {},
   "outputs": [],
   "source": [
    "query = (input('검색할 단어를 입력하세요: '))\n",
    "max_page = (input('검색할 총 페이지수를 입력하세요: '))\n",
    "sort_type = (input('정렬 순서를 입력하세요(0:관련도순, 1:최신순, 2:오래된순: '))\n",
    "\n",
    "current = 1\n",
    "last = int(max_page) * 10 + 1\n",
    "base_url = 'https://search.naver.com/search.naver?where=news&query='\n",
    "\n",
    "\n",
    "titles = []\n",
    "dates = []\n",
    "articles = []\n",
    "press_companies = []\n",
    "urls = []\n",
    "\n",
    "while current <= last:\n",
    "    print('\\n{}번째 기사글부터 크롤링을 시작합니다.'.format(current))\n",
    "    \n",
    "    url = base_url + query + \"&sort=\" + str(sort_type) + \"&start=\" + str(current)\n",
    "    web = requests.get(url).content\n",
    "    source = BeautifulSoup(web, 'html.parser')\n",
    "    \n",
    "    urls_list = []\n",
    "    for item in source.find_all('a', {'class': 'news_tit'}):\n",
    "        urls_list.append(item['href'])\n",
    "    \n",
    "    for url in urls_list:\n",
    "        scraping_news(url, titles, dates, articles, press_companies, urls)\n",
    "    \n",
    "    time.sleep(5)\n",
    "    current += 10"
   ]
  },
  {
   "cell_type": "code",
   "execution_count": null,
   "metadata": {},
   "outputs": [],
   "source": [
    "df = make_dateframe(titles, dates, articles, urls, press_companies)\n",
    "df"
   ]
  }
 ],
 "metadata": {
  "kernelspec": {
   "display_name": "Python 3",
   "language": "python",
   "name": "python3"
  },
  "language_info": {
   "codemirror_mode": {
    "name": "ipython",
    "version": 3
   },
   "file_extension": ".py",
   "mimetype": "text/x-python",
   "name": "python",
   "nbconvert_exporter": "python",
   "pygments_lexer": "ipython3",
   "version": "3.7.3"
  }
 },
 "nbformat": 4,
 "nbformat_minor": 2
}
