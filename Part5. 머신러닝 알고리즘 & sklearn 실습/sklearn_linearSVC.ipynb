{
 "cells": [
  {
   "cell_type": "markdown",
   "metadata": {},
   "source": [
    "## SVM (Support Vector Machine)"
   ]
  },
  {
   "cell_type": "markdown",
   "metadata": {},
   "source": [
    "라이브러리"
   ]
  },
  {
   "cell_type": "code",
   "execution_count": 2,
   "metadata": {},
   "outputs": [],
   "source": [
    "import numpy as np\n",
    "import pandas as pd\n",
    "import matplotlib.pyplot as plt\n",
    "from matplotlib.colors import ListedColormap\n",
    "\n",
    "# import mglearn\n",
    "from library import custom_mglearn # library / custom_mglearn\n",
    "from sklearn.datasets import make_blobs\n",
    "from sklearn.datasets import load_breast_cancer\n",
    "from sklearn.model_selection import train_test_split\n",
    "\n",
    "from sklearn.svm import SVC\n",
    "from sklearn.svm import LinearSVC"
   ]
  },
  {
   "cell_type": "markdown",
   "metadata": {},
   "source": [
    "<br>\n",
    "\n",
    "### 1) 가상데이터 "
   ]
  },
  {
   "cell_type": "markdown",
   "metadata": {},
   "source": [
    "데이터 준비"
   ]
  },
  {
   "cell_type": "code",
   "execution_count": 3,
   "metadata": {},
   "outputs": [
    {
     "data": {
      "text/plain": [
       "array([[ -1.72161036,  -1.48033142],\n",
       "       [ -3.6573384 ,  -9.5482383 ],\n",
       "       [  7.0778163 ,   0.99508772],\n",
       "       [ -1.36579859,  -0.3148625 ],\n",
       "       [ -2.66521206,  -3.12591651],\n",
       "       [  7.63027116,   8.69797933],\n",
       "       [ -5.27144331, -12.11880698],\n",
       "       [  7.91767139,   1.41547387],\n",
       "       [ -1.41284184,   0.11296348],\n",
       "       [ -1.01519039,  -1.03318203]])"
      ]
     },
     "execution_count": 3,
     "metadata": {},
     "output_type": "execute_result"
    }
   ],
   "source": [
    "# 샘플 데이터, 가상의 클러스터 생성\n",
    "X, y = make_blobs(centers=4, random_state=8) # Generate isotropic Gaussian blobs for clustering.\n",
    "X[:10]"
   ]
  },
  {
   "cell_type": "code",
   "execution_count": 5,
   "metadata": {},
   "outputs": [
    {
     "data": {
      "text/plain": [
       "array([3, 2, 1, 3, 3, 0, 2, 1, 3, 3, 0, 0, 3, 1, 1, 2, 2, 3, 3, 0, 0, 1,\n",
       "       0, 0, 3, 0, 0, 3, 2, 1, 1, 3, 1, 3, 0, 2, 3, 0, 1, 2, 1, 3, 2, 2,\n",
       "       0, 2, 1, 0, 1, 1, 1, 2, 0, 0, 3, 2, 2, 2, 0, 3, 3, 2, 1, 2, 0, 1,\n",
       "       3, 1, 0, 0, 1, 2, 0, 1, 0, 0, 3, 2, 3, 1, 2, 0, 3, 2, 3, 2, 0, 2,\n",
       "       2, 3, 1, 0, 3, 2, 2, 1, 1, 3, 1, 1])"
      ]
     },
     "execution_count": 5,
     "metadata": {},
     "output_type": "execute_result"
    }
   ],
   "source": [
    "y"
   ]
  },
  {
   "cell_type": "code",
   "execution_count": 6,
   "metadata": {},
   "outputs": [
    {
     "data": {
      "text/plain": [
       "array([1, 0, 1, 1, 1, 0, 0, 1, 1, 1, 0, 0, 1, 1, 1, 0, 0, 1, 1, 0, 0, 1,\n",
       "       0, 0, 1, 0, 0, 1, 0, 1, 1, 1, 1, 1, 0, 0, 1, 0, 1, 0, 1, 1, 0, 0,\n",
       "       0, 0, 1, 0, 1, 1, 1, 0, 0, 0, 1, 0, 0, 0, 0, 1, 1, 0, 1, 0, 0, 1,\n",
       "       1, 1, 0, 0, 1, 0, 0, 1, 0, 0, 1, 0, 1, 1, 0, 0, 1, 0, 1, 0, 0, 0,\n",
       "       0, 1, 1, 0, 1, 0, 0, 1, 1, 1, 1, 1], dtype=int32)"
      ]
     },
     "execution_count": 6,
     "metadata": {},
     "output_type": "execute_result"
    }
   ],
   "source": [
    "y = y % 2 # label 0,1,2,3 -> label 0,1\n",
    "y"
   ]
  },
  {
   "cell_type": "markdown",
   "metadata": {},
   "source": [
    "모델 생성, 학습"
   ]
  },
  {
   "cell_type": "code",
   "execution_count": 7,
   "metadata": {},
   "outputs": [
    {
     "name": "stderr",
     "output_type": "stream",
     "text": [
      "C:\\ProgramData\\Anaconda3\\lib\\site-packages\\sklearn\\svm\\base.py:931: ConvergenceWarning: Liblinear failed to converge, increase the number of iterations.\n",
      "  \"the number of iterations.\", ConvergenceWarning)\n"
     ]
    }
   ],
   "source": [
    "linear_svm = LinearSVC().fit(X, y)"
   ]
  },
  {
   "cell_type": "markdown",
   "metadata": {},
   "source": [
    "모델 시각화 (2차원)"
   ]
  },
  {
   "cell_type": "code",
   "execution_count": 8,
   "metadata": {},
   "outputs": [
    {
     "data": {
      "image/png": "[encoded data removed]",
      "text/plain": [
       "<Figure size 432x288 with 1 Axes>"
      ]
     },
     "metadata": {},
     "output_type": "display_data"
    }
   ],
   "source": [
    "# 선형 경계\n",
    "custom_mglearn.plot_2d_separator(linear_svm, X)\n",
    "custom_mglearn.discrete_scatter(X[:, 0], X[:, 1], y)\n",
    "\n",
    "plt.xlabel(\"Feature 0\")\n",
    "plt.ylabel(\"Feature 1\")\n",
    "plt.show()"
   ]
  },
  {
   "cell_type": "markdown",
   "metadata": {},
   "source": [
    "새로운 Feature 추가 (2차원 -> 3차원) - 두번째 열 제곱"
   ]
  },
  {
   "cell_type": "code",
   "execution_count": 10,
   "metadata": {},
   "outputs": [
    {
     "data": {
      "text/plain": [
       "array([[-1.72161036e+00, -1.48033142e+00,  2.19138111e+00],\n",
       "       [-3.65733840e+00, -9.54823830e+00,  9.11688546e+01],\n",
       "       [ 7.07781630e+00,  9.95087718e-01,  9.90199567e-01],\n",
       "       [-1.36579859e+00, -3.14862498e-01,  9.91383928e-02],\n",
       "       [-2.66521206e+00, -3.12591651e+00,  9.77135405e+00],\n",
       "       [ 7.63027116e+00,  8.69797933e+00,  7.56548444e+01],\n",
       "       [-5.27144331e+00, -1.21188070e+01,  1.46865483e+02],\n",
       "       [ 7.91767139e+00,  1.41547387e+00,  2.00356628e+00],\n",
       "       [-1.41284184e+00,  1.12963480e-01,  1.27607478e-02],\n",
       "       [-1.01519039e+00, -1.03318203e+00,  1.06746511e+00],\n",
       "       [ 8.26341570e+00,  1.03472344e+01,  1.07065259e+02],\n",
       "       [ 6.96767867e+00,  8.96225230e+00,  8.03219662e+01],\n",
       "       [-8.47792492e-01, -2.12185612e+00,  4.50227339e+00],\n",
       "       [ 7.48006237e+00,  2.49392925e+00,  6.21968311e+00],\n",
       "       [ 7.71454967e+00,  1.84207010e+00,  3.39322225e+00],\n",
       "       [-7.74064658e+00, -8.61800744e+00,  7.42700522e+01],\n",
       "       [-5.41087235e+00, -8.71941280e+00,  7.60281596e+01],\n",
       "       [-2.27579204e+00, -2.89699926e+00,  8.39260472e+00],\n",
       "       [-1.25668449e+00, -2.33416219e+00,  5.44831313e+00],\n",
       "       [ 7.61227907e+00,  9.44636270e+00,  8.92337682e+01],\n",
       "       [ 8.81545663e+00,  8.76386046e+00,  7.68052501e+01],\n",
       "       [ 7.18953540e+00,  4.30900484e-01,  1.85675227e-01],\n",
       "       [ 7.40292703e+00,  9.16217702e+00,  8.39454878e+01],\n",
       "       [ 5.17209648e+00,  1.17806476e+01,  1.38783657e+02],\n",
       "       [-2.10476115e+00, -1.57846672e+00,  2.49155720e+00],\n",
       "       [ 6.53423970e+00,  9.45532341e+00,  8.94031408e+01],\n",
       "       [ 7.59635095e+00,  8.01979550e+00,  6.43171198e+01],\n",
       "       [-6.56050095e-01,  6.89970125e-01,  4.76058774e-01],\n",
       "       [-4.86090778e+00, -1.07738605e+01,  1.16076071e+02],\n",
       "       [ 8.90864428e+00,  9.77649680e-01,  9.55798896e-01],\n",
       "       [ 8.09770696e+00, -5.83699648e-01,  3.40705279e-01],\n",
       "       [-7.97570908e-01, -2.88641638e+00,  8.33139951e+00],\n",
       "       [ 9.92897802e+00,  1.76719511e+00,  3.12297855e+00],\n",
       "       [-1.36106796e+00, -2.02701586e+00,  4.10879331e+00],\n",
       "       [ 5.59878870e+00,  7.59170022e+00,  5.76339122e+01],\n",
       "       [-4.98457333e+00, -9.51656559e+00,  9.05650206e+01],\n",
       "       [-5.70940739e-01, -6.06478021e-01,  3.67815590e-01],\n",
       "       [ 6.28516091e+00,  1.12871769e+01,  1.27400362e+02],\n",
       "       [ 7.46833627e+00,  3.10336163e+00,  9.63085338e+00],\n",
       "       [-5.54704895e+00, -9.27237881e+00,  8.59770088e+01],\n",
       "       [ 7.71891403e+00,  9.91913219e-01,  9.83891834e-01],\n",
       "       [-3.58717079e-01, -2.20230750e+00,  4.85015834e+00],\n",
       "       [-3.71313291e+00, -9.99476306e+00,  9.98952886e+01],\n",
       "       [-5.73423505e+00, -1.13285597e+01,  1.28336265e+02],\n",
       "       [ 7.29433984e+00,  9.79486468e+00,  9.59393740e+01],\n",
       "       [-5.91698308e+00, -1.11620271e+01,  1.24590849e+02],\n",
       "       [ 8.23775366e+00,  9.24492533e-01,  8.54686443e-01],\n",
       "       [ 8.91111219e+00,  9.14933265e+00,  8.37102879e+01],\n",
       "       [ 7.31164869e+00,  1.48266164e-01,  2.19828553e-02],\n",
       "       [ 7.49954000e+00,  1.94754445e+00,  3.79292940e+00],\n",
       "       [ 7.15741276e+00, -1.26863071e+00,  1.60942388e+00],\n",
       "       [-5.24568764e+00, -9.81840408e+00,  9.64010587e+01],\n",
       "       [ 7.40565933e+00,  8.82924480e+00,  7.79555637e+01],\n",
       "       [ 8.32813617e+00,  9.14002426e+00,  8.35400435e+01],\n",
       "       [-5.91902601e-02, -2.78055085e+00,  7.73146301e+00],\n",
       "       [-5.85599690e+00, -9.94359106e+00,  9.88750031e+01],\n",
       "       [-5.92323260e+00, -8.52984815e+00,  7.27583095e+01],\n",
       "       [-6.65506667e+00, -1.04407503e+01,  1.09009267e+02],\n",
       "       [ 7.49985237e+00,  9.55274284e+00,  9.12548959e+01],\n",
       "       [-2.04751119e+00, -4.39744753e-01,  1.93375448e-01],\n",
       "       [-3.57485395e+00, -1.15406220e+00,  1.33185957e+00],\n",
       "       [-5.89890454e+00, -1.04947133e+01,  1.10139008e+02],\n",
       "       [ 9.85640178e+00,  4.70257244e-01,  2.21141875e-01],\n",
       "       [-6.78464252e+00, -8.82309660e+00,  7.78470337e+01],\n",
       "       [ 6.34526126e+00,  8.70677779e+00,  7.58079794e+01],\n",
       "       [ 6.77299778e+00,  1.54735986e+00,  2.39432255e+00],\n",
       "       [-1.45137298e+00, -4.38745523e+00,  1.92497634e+01],\n",
       "       [ 7.88011867e+00, -7.14552838e-01,  5.10585758e-01],\n",
       "       [ 9.19642422e+00,  1.15753695e+01,  1.33989180e+02],\n",
       "       [ 7.94310647e+00,  8.20622208e+00,  6.73420809e+01],\n",
       "       [ 6.57242965e+00, -1.02613710e+00,  1.05295734e+00],\n",
       "       [-6.87196564e+00, -8.63515384e+00,  7.45658819e+01],\n",
       "       [ 7.31294296e+00,  9.92166331e+00,  9.84394029e+01],\n",
       "       [ 5.19332032e+00,  1.81041766e-01,  3.27761212e-02],\n",
       "       [ 7.09022949e+00,  8.57919798e+00,  7.36026381e+01],\n",
       "       [ 9.17061801e+00,  1.03769070e+01,  1.07680198e+02],\n",
       "       [-1.34457765e+00, -1.18271017e+00,  1.39880335e+00],\n",
       "       [-5.59306958e+00, -1.10773930e+01,  1.22708636e+02],\n",
       "       [-2.76538887e+00, -1.94334158e+00,  3.77657651e+00],\n",
       "       [ 7.38527197e+00, -3.04346196e-01,  9.26266069e-02],\n",
       "       [-6.55585067e+00, -9.34778240e+00,  8.73810358e+01],\n",
       "       [ 5.82259795e+00,  8.88727231e+00,  7.89836090e+01],\n",
       "       [-1.33424725e-01, -9.76869273e-01,  9.54273576e-01],\n",
       "       [-6.25582944e+00, -1.02949048e+01,  1.05985065e+02],\n",
       "       [-7.78865642e-01, -1.29531228e+00,  1.67783391e+00],\n",
       "       [-5.66388829e+00, -9.61389782e+00,  9.24270312e+01],\n",
       "       [ 4.33366829e+00,  1.05103468e+01,  1.10467389e+02],\n",
       "       [-7.18598198e+00, -9.36698274e+00,  8.77403657e+01],\n",
       "       [-3.91937544e+00, -8.84477320e+00,  7.82300130e+01],\n",
       "       [-3.35967956e+00, -2.27994112e+00,  5.19813150e+00],\n",
       "       [ 8.93785800e+00,  1.31407958e+00,  1.72680515e+00],\n",
       "       [ 8.00405631e+00,  1.05369537e+01,  1.11027394e+02],\n",
       "       [-1.96692264e+00, -2.71744313e+00,  7.38449714e+00],\n",
       "       [-4.00405937e+00, -7.24066707e+00,  5.24272596e+01],\n",
       "       [-5.52677154e+00, -1.15218392e+01,  1.32752778e+02],\n",
       "       [ 7.49348552e+00,  8.32592903e-01,  6.93210942e-01],\n",
       "       [ 7.74040382e+00, -3.35046764e-01,  1.12256334e-01],\n",
       "       [ 5.44319110e-01, -3.22786507e+00,  1.04191129e+01],\n",
       "       [ 7.81296089e+00, -5.34151785e-01,  2.85318129e-01],\n",
       "       [ 7.53581859e+00,  6.17748717e-01,  3.81613477e-01]])"
      ]
     },
     "execution_count": 10,
     "metadata": {},
     "output_type": "execute_result"
    }
   ],
   "source": [
    "X_new = np.hstack([X, X[:, 1:] ** 2])\n",
    "X_new"
   ]
  },
  {
   "cell_type": "markdown",
   "metadata": {},
   "source": [
    "모델 시각화 (3차원)"
   ]
  },
  {
   "cell_type": "code",
   "execution_count": 11,
   "metadata": {},
   "outputs": [
    {
     "data": {
      "image/png": "[encoded data removed]",
      "text/plain": [
       "<Figure size 432x288 with 1 Axes>"
      ]
     },
     "metadata": {
      "needs_background": "light"
     },
     "output_type": "display_data"
    }
   ],
   "source": [
    "from mpl_toolkits.mplot3d import Axes3D, axes3d\n",
    "\n",
    "figure = plt.figure()\n",
    "\n",
    "# 3차원 그래프\n",
    "ax = Axes3D(figure, elev=-152, azim=-26)\n",
    "\n",
    "mask = y == 0 # 일종의 slicing, array([False,  True, False, False, False, ... ]\n",
    "ax.scatter(X_new[mask, 0], X_new[mask, 1], X_new[mask, 2], c='b',\n",
    "           cmap=ListedColormap(['#0000aa', '#ff2020']), s=60, edgecolor='k')\n",
    "ax.scatter(X_new[~mask, 0], X_new[~mask, 1], X_new[~mask, 2], c='r', marker='^',\n",
    "           cmap=ListedColormap(['#0000aa', '#ff2020']), s=60, edgecolor='k')\n",
    "\n",
    "ax.set_xlabel(\"Feature 0\")\n",
    "ax.set_ylabel(\"Feature 1\")\n",
    "ax.set_zlabel(\"Feature 1 ** 2\")\n",
    "plt.show()"
   ]
  },
  {
   "cell_type": "markdown",
   "metadata": {},
   "source": [
    "새로운 열 추가한 데이터로 모델 학습"
   ]
  },
  {
   "cell_type": "code",
   "execution_count": 12,
   "metadata": {},
   "outputs": [
    {
     "name": "stderr",
     "output_type": "stream",
     "text": [
      "C:\\ProgramData\\Anaconda3\\lib\\site-packages\\sklearn\\svm\\base.py:931: ConvergenceWarning: Liblinear failed to converge, increase the number of iterations.\n",
      "  \"the number of iterations.\", ConvergenceWarning)\n"
     ]
    }
   ],
   "source": [
    "linear_svm_3d = LinearSVC().fit(X_new, y)"
   ]
  },
  {
   "cell_type": "markdown",
   "metadata": {},
   "source": [
    "3D 모델 시각화"
   ]
  },
  {
   "cell_type": "code",
   "execution_count": 13,
   "metadata": {},
   "outputs": [
    {
     "data": {
      "image/png": "[encoded data removed]",
      "text/plain": [
       "<Figure size 432x288 with 1 Axes>"
      ]
     },
     "metadata": {
      "needs_background": "light"
     },
     "output_type": "display_data"
    }
   ],
   "source": [
    "# 선형 결정 경계면 그리기\n",
    "\n",
    "figure = plt.figure()\n",
    "ax = Axes3D(figure, elev=-152, azim=-26)\n",
    "\n",
    "# 좌표계 생성\n",
    "xx = np.linspace(X_new[:, 0].min() - 2, X_new[:, 0].max() + 2, 50)\n",
    "yy = np.linspace(X_new[:, 1].min() - 2, X_new[:, 1].max() + 2, 50)\n",
    "XX, YY = np.meshgrid(xx, yy)\n",
    "\n",
    "# 선형 결정 경계 \n",
    "coef, intercept = linear_svm_3d.coef_.ravel(), linear_svm_3d.intercept_\n",
    "ZZ = (coef[0] * XX + coef[1] * YY + intercept) / -coef[2]\n",
    "ax.plot_surface(XX, YY, ZZ, rstride=8, cstride=8, alpha=0.3)\n",
    "\n",
    "ax.scatter(X_new[mask, 0], X_new[mask, 1], X_new[mask, 2], c='b',\n",
    "           cmap=ListedColormap(['#0000aa', '#ff2020']), s=60, edgecolor='k')\n",
    "ax.scatter(X_new[~mask, 0], X_new[~mask, 1], X_new[~mask, 2], c='r', marker='^',\n",
    "           cmap=ListedColormap(['#0000aa', '#ff2020']), s=60, edgecolor='k')\n",
    "\n",
    "ax.set_xlabel(\"Feature 0\")\n",
    "ax.set_ylabel(\"Feature 1\")\n",
    "ax.set_zlabel(\"Feature 1 ** 2\")\n",
    "plt.show()"
   ]
  },
  {
   "cell_type": "markdown",
   "metadata": {},
   "source": [
    "결정 경계 그린 후 기존의 좌표계로 복귀 (3차원 -> 2차원)"
   ]
  },
  {
   "cell_type": "code",
   "execution_count": 14,
   "metadata": {},
   "outputs": [
    {
     "data": {
      "image/png": "[encoded data removed]",
      "text/plain": [
       "<Figure size 432x288 with 1 Axes>"
      ]
     },
     "metadata": {
      "needs_background": "light"
     },
     "output_type": "display_data"
    }
   ],
   "source": [
    "ZZ = YY ** 2\n",
    "dec = linear_svm_3d.decision_function(np.c_[XX.ravel(), YY.ravel(), ZZ.ravel()])\n",
    "plt.contourf(XX, YY, dec.reshape(XX.shape), levels=[dec.min(), 0, dec.max()],\n",
    "             cmap=ListedColormap(['#0000aa', '#ff2020']), alpha=0.5)\n",
    "\n",
    "custom_mglearn.discrete_scatter(X[:, 0], X[:, 1], y)\n",
    "plt.xlabel(\"Feature 0\")\n",
    "plt.ylabel(\"Feature 1\")\n",
    "plt.show()"
   ]
  },
  {
   "cell_type": "markdown",
   "metadata": {},
   "source": [
    "#### 자주 사용되는 kernel function\n",
    "\n",
    "- 다항 커널 (기존의 열들을 바탕으로 가능한 조합을 특정한 차수까지 기존의 데이터에 추가\n",
    "- 가우시안 커널 (rbf, radial basis function)"
   ]
  },
  {
   "cell_type": "markdown",
   "metadata": {},
   "source": [
    "kernel function 이용하여 모델 학습"
   ]
  },
  {
   "cell_type": "code",
   "execution_count": 15,
   "metadata": {},
   "outputs": [],
   "source": [
    "X, y = custom_mglearn.make_handcrafted_dataset()\n",
    "svm = SVC(kernel='rbf', C=10, gamma=0.1).fit(X, y) "
   ]
  },
  {
   "cell_type": "markdown",
   "metadata": {},
   "source": [
    "모델 시각화"
   ]
  },
  {
   "cell_type": "code",
   "execution_count": 16,
   "metadata": {},
   "outputs": [
    {
     "data": {
      "image/png": "[encoded data removed]",
      "text/plain": [
       "<Figure size 432x288 with 1 Axes>"
      ]
     },
     "metadata": {},
     "output_type": "display_data"
    }
   ],
   "source": [
    "custom_mglearn.plot_2d_separator(svm, X, eps=.5) # eps : 그래프의 확대/축소\n",
    "custom_mglearn.discrete_scatter(X[:, 0], X[:, 1], y)\n",
    "\n",
    "# Gray Border @ support vectors\n",
    "sv = svm.support_vectors_\n",
    "sv_labels = svm.dual_coef_.ravel() > 0\n",
    "custom_mglearn.discrete_scatter(sv[:, 0], sv[:, 1], sv_labels, s=15, markeredgewidth=3)\n",
    "\n",
    "plt.xlabel(\"Feature 0\")\n",
    "plt.ylabel(\"Feature 1\")\n",
    "plt.show()"
   ]
  },
  {
   "cell_type": "markdown",
   "metadata": {},
   "source": [
    "Hyper-parameter C, gamma에 따른 결정경계 변화"
   ]
  },
  {
   "cell_type": "code",
   "execution_count": 17,
   "metadata": {},
   "outputs": [
    {
     "data": {
      "image/png": "[encoded data removed]",
      "text/plain": [
       "<Figure size 1080x720 with 9 Axes>"
      ]
     },
     "metadata": {},
     "output_type": "display_data"
    }
   ],
   "source": [
    "fig, axes = plt.subplots(3, 3, figsize=(15, 10))\n",
    "\n",
    "for ax, C in zip(axes, [-1, 0, 3]): # log[-1,0,3] == 0.1, 1, 1000 == C\n",
    "    for a, gamma in zip(ax, range(-1, 2)): # log[-1, 2] == 0.1, 10 == Gamma\n",
    "        custom_mglearn.plot_svm(log_C=C, log_gamma=gamma, ax=a)\n",
    "\n",
    "axes[0, 0].legend([\"Class 0\", \"Class 1\", \"Class 0 SupportVector\", \"Class 1 SupportVector\"], ncol=4, loc=(.9, 1.2))\n",
    "plt.show()"
   ]
  },
  {
   "cell_type": "markdown",
   "metadata": {},
   "source": [
    "- C가 커질수록 **overfitting**\n",
    "- gamma 커질수록 **overfitting**"
   ]
  },
  {
   "cell_type": "markdown",
   "metadata": {},
   "source": [
    "---\n",
    "\n",
    "<br>\n",
    "\n",
    "### 2) Breast Cancer Dataset"
   ]
  },
  {
   "cell_type": "markdown",
   "metadata": {},
   "source": [
    "데이터 준비"
   ]
  },
  {
   "cell_type": "code",
   "execution_count": 43,
   "metadata": {},
   "outputs": [],
   "source": [
    "cancer = load_breast_cancer()"
   ]
  },
  {
   "cell_type": "markdown",
   "metadata": {},
   "source": [
    "train data 75% / test data 25% (default)"
   ]
  },
  {
   "cell_type": "code",
   "execution_count": 44,
   "metadata": {},
   "outputs": [],
   "source": [
    "X_train, X_test, y_train, y_test = train_test_split(cancer.data, cancer.target, random_state=0) "
   ]
  },
  {
   "cell_type": "markdown",
   "metadata": {},
   "source": [
    "모델 생성, 학습"
   ]
  },
  {
   "cell_type": "code",
   "execution_count": 20,
   "metadata": {},
   "outputs": [
    {
     "name": "stderr",
     "output_type": "stream",
     "text": [
      "C:\\ProgramData\\Anaconda3\\lib\\site-packages\\sklearn\\svm\\base.py:196: FutureWarning: The default value of gamma will change from 'auto' to 'scale' in version 0.22 to account better for unscaled features. Set gamma explicitly to 'auto' or 'scale' to avoid this warning.\n",
      "  \"avoid this warning.\", FutureWarning)\n"
     ]
    },
    {
     "data": {
      "text/plain": [
       "SVC(C=1.0, cache_size=200, class_weight=None, coef0=0.0,\n",
       "  decision_function_shape='ovr', degree=3, gamma='auto_deprecated',\n",
       "  kernel='rbf', max_iter=-1, probability=False, random_state=None,\n",
       "  shrinking=True, tol=0.001, verbose=False)"
      ]
     },
     "execution_count": 20,
     "metadata": {},
     "output_type": "execute_result"
    }
   ],
   "source": [
    "svc = SVC()\n",
    "svc.fit(X_train, y_train)"
   ]
  },
  {
   "cell_type": "markdown",
   "metadata": {},
   "source": [
    "Accuracy"
   ]
  },
  {
   "cell_type": "code",
   "execution_count": 21,
   "metadata": {},
   "outputs": [
    {
     "name": "stdout",
     "output_type": "stream",
     "text": [
      "Accuracy on Training set: 1.000\n",
      "Accuracy on Test set: 0.629\n"
     ]
    }
   ],
   "source": [
    "print(\"Accuracy on Training set: {:.3f}\".format(svc.score(X_train, y_train)))\n",
    "print(\"Accuracy on Test set: {:.3f}\".format(svc.score(X_test, y_test)))"
   ]
  },
  {
   "cell_type": "markdown",
   "metadata": {},
   "source": [
    "train data에 대한 정확도 100% -> overfitting(과적합) 발생"
   ]
  },
  {
   "cell_type": "markdown",
   "metadata": {},
   "source": [
    "boxplot으로 각 열의 데이터 분포 확인"
   ]
  },
  {
   "cell_type": "code",
   "execution_count": 22,
   "metadata": {},
   "outputs": [
    {
     "data": {
      "image/png": "[encoded data removed]",
      "text/plain": [
       "<Figure size 720x504 with 1 Axes>"
      ]
     },
     "metadata": {
      "needs_background": "light"
     },
     "output_type": "display_data"
    }
   ],
   "source": [
    "plt.figure(figsize=(10,7))\n",
    "plt.boxplot(X_train, manage_xticks=False)\n",
    "\n",
    "plt.yscale(\"symlog\")\n",
    "plt.xlabel(\"Feature list\")\n",
    "plt.ylabel(\"Feature size\")\n",
    "plt.show()"
   ]
  },
  {
   "cell_type": "markdown",
   "metadata": {},
   "source": [
    "-> 데이터의 각 열마다 scale이 다름을 알 수 있음, 데이터 스케일링(전처리) 필요"
   ]
  },
  {
   "cell_type": "markdown",
   "metadata": {},
   "source": [
    "#### 데이터 전처리(feature scaling)\n",
    "\n",
    ": 열 마다 데이터 범위가 비슷해지도록 조정"
   ]
  },
  {
   "cell_type": "markdown",
   "metadata": {},
   "source": [
    "- Min-max scaling : 최대 1, 최소 0"
   ]
  },
  {
   "cell_type": "code",
   "execution_count": 23,
   "metadata": {},
   "outputs": [
    {
     "name": "stdout",
     "output_type": "stream",
     "text": [
      "열마다의 최소값\n",
      "[0. 0. 0. 0. 0. 0. 0. 0. 0. 0. 0. 0. 0. 0. 0. 0. 0. 0. 0. 0. 0. 0. 0. 0.\n",
      " 0. 0. 0. 0. 0. 0.]\n",
      "열마다의 최대값\n",
      " [1. 1. 1. 1. 1. 1. 1. 1. 1. 1. 1. 1. 1. 1. 1. 1. 1. 1. 1. 1. 1. 1. 1. 1.\n",
      " 1. 1. 1. 1. 1. 1.]\n"
     ]
    }
   ],
   "source": [
    "min_on_training = X_train.min(axis=0) # 열마다의 최소값 계산\n",
    "\n",
    "range_on_training = (X_train - min_on_training).max(axis=0) # 분모에 해당 \n",
    "X_train_scaled = (X_train - min_on_training) / range_on_training # Min-max scaling (0~1)\n",
    "\n",
    "print(\"열마다의 최소값\\n{}\".format(X_train_scaled.min(axis=0)))\n",
    "print(\"열마다의 최대값\\n {}\".format(X_train_scaled.max(axis=0)))"
   ]
  },
  {
   "cell_type": "code",
   "execution_count": 24,
   "metadata": {},
   "outputs": [],
   "source": [
    "# test data\n",
    "X_test_scaled = (X_test - min_on_training) / range_on_training"
   ]
  },
  {
   "cell_type": "code",
   "execution_count": 35,
   "metadata": {},
   "outputs": [
    {
     "data": {
      "text/html": [
       "<div>\n",
       "<style scoped>\n",
       "    .dataframe tbody tr th:only-of-type {\n",
       "        vertical-align: middle;\n",
       "    }\n",
       "\n",
       "    .dataframe tbody tr th {\n",
       "        vertical-align: top;\n",
       "    }\n",
       "\n",
       "    .dataframe thead th {\n",
       "        text-align: right;\n",
       "    }\n",
       "</style>\n",
       "<table border=\"1\" class=\"dataframe\">\n",
       "  <thead>\n",
       "    <tr style=\"text-align: right;\">\n",
       "      <th></th>\n",
       "      <th>0</th>\n",
       "      <th>1</th>\n",
       "      <th>2</th>\n",
       "      <th>3</th>\n",
       "      <th>4</th>\n",
       "      <th>5</th>\n",
       "      <th>6</th>\n",
       "      <th>7</th>\n",
       "      <th>8</th>\n",
       "      <th>9</th>\n",
       "      <th>...</th>\n",
       "      <th>20</th>\n",
       "      <th>21</th>\n",
       "      <th>22</th>\n",
       "      <th>23</th>\n",
       "      <th>24</th>\n",
       "      <th>25</th>\n",
       "      <th>26</th>\n",
       "      <th>27</th>\n",
       "      <th>28</th>\n",
       "      <th>29</th>\n",
       "    </tr>\n",
       "  </thead>\n",
       "  <tbody>\n",
       "    <tr>\n",
       "      <th>count</th>\n",
       "      <td>426.000000</td>\n",
       "      <td>426.000000</td>\n",
       "      <td>426.000000</td>\n",
       "      <td>426.000000</td>\n",
       "      <td>426.000000</td>\n",
       "      <td>426.000000</td>\n",
       "      <td>426.000000</td>\n",
       "      <td>426.000000</td>\n",
       "      <td>426.000000</td>\n",
       "      <td>426.000000</td>\n",
       "      <td>...</td>\n",
       "      <td>426.000000</td>\n",
       "      <td>426.000000</td>\n",
       "      <td>426.000000</td>\n",
       "      <td>426.000000</td>\n",
       "      <td>426.000000</td>\n",
       "      <td>426.000000</td>\n",
       "      <td>426.000000</td>\n",
       "      <td>426.000000</td>\n",
       "      <td>426.000000</td>\n",
       "      <td>426.000000</td>\n",
       "    </tr>\n",
       "    <tr>\n",
       "      <th>mean</th>\n",
       "      <td>0.339731</td>\n",
       "      <td>0.395145</td>\n",
       "      <td>0.334143</td>\n",
       "      <td>0.218416</td>\n",
       "      <td>0.475030</td>\n",
       "      <td>0.288643</td>\n",
       "      <td>0.207709</td>\n",
       "      <td>0.244255</td>\n",
       "      <td>0.376127</td>\n",
       "      <td>0.266575</td>\n",
       "      <td>...</td>\n",
       "      <td>0.298357</td>\n",
       "      <td>0.362953</td>\n",
       "      <td>0.284123</td>\n",
       "      <td>0.172643</td>\n",
       "      <td>0.405028</td>\n",
       "      <td>0.218826</td>\n",
       "      <td>0.215241</td>\n",
       "      <td>0.397104</td>\n",
       "      <td>0.262467</td>\n",
       "      <td>0.186936</td>\n",
       "    </tr>\n",
       "    <tr>\n",
       "      <th>std</th>\n",
       "      <td>0.168128</td>\n",
       "      <td>0.171063</td>\n",
       "      <td>0.168871</td>\n",
       "      <td>0.152884</td>\n",
       "      <td>0.150482</td>\n",
       "      <td>0.173560</td>\n",
       "      <td>0.183968</td>\n",
       "      <td>0.192935</td>\n",
       "      <td>0.139861</td>\n",
       "      <td>0.144320</td>\n",
       "      <td>...</td>\n",
       "      <td>0.174130</td>\n",
       "      <td>0.161638</td>\n",
       "      <td>0.169157</td>\n",
       "      <td>0.144110</td>\n",
       "      <td>0.151426</td>\n",
       "      <td>0.147373</td>\n",
       "      <td>0.158433</td>\n",
       "      <td>0.226037</td>\n",
       "      <td>0.124762</td>\n",
       "      <td>0.116721</td>\n",
       "    </tr>\n",
       "    <tr>\n",
       "      <th>min</th>\n",
       "      <td>0.000000</td>\n",
       "      <td>0.000000</td>\n",
       "      <td>0.000000</td>\n",
       "      <td>0.000000</td>\n",
       "      <td>0.000000</td>\n",
       "      <td>0.000000</td>\n",
       "      <td>0.000000</td>\n",
       "      <td>0.000000</td>\n",
       "      <td>0.000000</td>\n",
       "      <td>0.000000</td>\n",
       "      <td>...</td>\n",
       "      <td>0.000000</td>\n",
       "      <td>0.000000</td>\n",
       "      <td>0.000000</td>\n",
       "      <td>0.000000</td>\n",
       "      <td>0.000000</td>\n",
       "      <td>0.000000</td>\n",
       "      <td>0.000000</td>\n",
       "      <td>0.000000</td>\n",
       "      <td>0.000000</td>\n",
       "      <td>0.000000</td>\n",
       "    </tr>\n",
       "    <tr>\n",
       "      <th>25%</th>\n",
       "      <td>0.224171</td>\n",
       "      <td>0.268050</td>\n",
       "      <td>0.218903</td>\n",
       "      <td>0.117752</td>\n",
       "      <td>0.369339</td>\n",
       "      <td>0.161085</td>\n",
       "      <td>0.070501</td>\n",
       "      <td>0.102932</td>\n",
       "      <td>0.280303</td>\n",
       "      <td>0.162279</td>\n",
       "      <td>...</td>\n",
       "      <td>0.182497</td>\n",
       "      <td>0.248467</td>\n",
       "      <td>0.169119</td>\n",
       "      <td>0.081504</td>\n",
       "      <td>0.294889</td>\n",
       "      <td>0.117405</td>\n",
       "      <td>0.093550</td>\n",
       "      <td>0.224096</td>\n",
       "      <td>0.180465</td>\n",
       "      <td>0.106766</td>\n",
       "    </tr>\n",
       "    <tr>\n",
       "      <th>50%</th>\n",
       "      <td>0.302617</td>\n",
       "      <td>0.377593</td>\n",
       "      <td>0.293691</td>\n",
       "      <td>0.173531</td>\n",
       "      <td>0.470566</td>\n",
       "      <td>0.255650</td>\n",
       "      <td>0.144517</td>\n",
       "      <td>0.167843</td>\n",
       "      <td>0.367677</td>\n",
       "      <td>0.245893</td>\n",
       "      <td>...</td>\n",
       "      <td>0.250267</td>\n",
       "      <td>0.351946</td>\n",
       "      <td>0.234947</td>\n",
       "      <td>0.122727</td>\n",
       "      <td>0.403355</td>\n",
       "      <td>0.183087</td>\n",
       "      <td>0.183746</td>\n",
       "      <td>0.340527</td>\n",
       "      <td>0.245614</td>\n",
       "      <td>0.163256</td>\n",
       "    </tr>\n",
       "    <tr>\n",
       "      <th>75%</th>\n",
       "      <td>0.415022</td>\n",
       "      <td>0.492946</td>\n",
       "      <td>0.414519</td>\n",
       "      <td>0.266501</td>\n",
       "      <td>0.573151</td>\n",
       "      <td>0.375813</td>\n",
       "      <td>0.297739</td>\n",
       "      <td>0.372875</td>\n",
       "      <td>0.451010</td>\n",
       "      <td>0.332666</td>\n",
       "      <td>...</td>\n",
       "      <td>0.393988</td>\n",
       "      <td>0.463486</td>\n",
       "      <td>0.375342</td>\n",
       "      <td>0.221638</td>\n",
       "      <td>0.493000</td>\n",
       "      <td>0.303102</td>\n",
       "      <td>0.302736</td>\n",
       "      <td>0.555890</td>\n",
       "      <td>0.319732</td>\n",
       "      <td>0.240063</td>\n",
       "    </tr>\n",
       "    <tr>\n",
       "      <th>max</th>\n",
       "      <td>1.000000</td>\n",
       "      <td>1.000000</td>\n",
       "      <td>1.000000</td>\n",
       "      <td>1.000000</td>\n",
       "      <td>1.000000</td>\n",
       "      <td>1.000000</td>\n",
       "      <td>1.000000</td>\n",
       "      <td>1.000000</td>\n",
       "      <td>1.000000</td>\n",
       "      <td>1.000000</td>\n",
       "      <td>...</td>\n",
       "      <td>1.000000</td>\n",
       "      <td>1.000000</td>\n",
       "      <td>1.000000</td>\n",
       "      <td>1.000000</td>\n",
       "      <td>1.000000</td>\n",
       "      <td>1.000000</td>\n",
       "      <td>1.000000</td>\n",
       "      <td>1.000000</td>\n",
       "      <td>1.000000</td>\n",
       "      <td>1.000000</td>\n",
       "    </tr>\n",
       "  </tbody>\n",
       "</table>\n",
       "<p>8 rows × 30 columns</p>\n",
       "</div>"
      ],
      "text/plain": [
       "               0           1           2           3           4           5   \\\n",
       "count  426.000000  426.000000  426.000000  426.000000  426.000000  426.000000   \n",
       "mean     0.339731    0.395145    0.334143    0.218416    0.475030    0.288643   \n",
       "std      0.168128    0.171063    0.168871    0.152884    0.150482    0.173560   \n",
       "min      0.000000    0.000000    0.000000    0.000000    0.000000    0.000000   \n",
       "25%      0.224171    0.268050    0.218903    0.117752    0.369339    0.161085   \n",
       "50%      0.302617    0.377593    0.293691    0.173531    0.470566    0.255650   \n",
       "75%      0.415022    0.492946    0.414519    0.266501    0.573151    0.375813   \n",
       "max      1.000000    1.000000    1.000000    1.000000    1.000000    1.000000   \n",
       "\n",
       "               6           7           8           9   ...          20  \\\n",
       "count  426.000000  426.000000  426.000000  426.000000  ...  426.000000   \n",
       "mean     0.207709    0.244255    0.376127    0.266575  ...    0.298357   \n",
       "std      0.183968    0.192935    0.139861    0.144320  ...    0.174130   \n",
       "min      0.000000    0.000000    0.000000    0.000000  ...    0.000000   \n",
       "25%      0.070501    0.102932    0.280303    0.162279  ...    0.182497   \n",
       "50%      0.144517    0.167843    0.367677    0.245893  ...    0.250267   \n",
       "75%      0.297739    0.372875    0.451010    0.332666  ...    0.393988   \n",
       "max      1.000000    1.000000    1.000000    1.000000  ...    1.000000   \n",
       "\n",
       "               21          22          23          24          25          26  \\\n",
       "count  426.000000  426.000000  426.000000  426.000000  426.000000  426.000000   \n",
       "mean     0.362953    0.284123    0.172643    0.405028    0.218826    0.215241   \n",
       "std      0.161638    0.169157    0.144110    0.151426    0.147373    0.158433   \n",
       "min      0.000000    0.000000    0.000000    0.000000    0.000000    0.000000   \n",
       "25%      0.248467    0.169119    0.081504    0.294889    0.117405    0.093550   \n",
       "50%      0.351946    0.234947    0.122727    0.403355    0.183087    0.183746   \n",
       "75%      0.463486    0.375342    0.221638    0.493000    0.303102    0.302736   \n",
       "max      1.000000    1.000000    1.000000    1.000000    1.000000    1.000000   \n",
       "\n",
       "               27          28          29  \n",
       "count  426.000000  426.000000  426.000000  \n",
       "mean     0.397104    0.262467    0.186936  \n",
       "std      0.226037    0.124762    0.116721  \n",
       "min      0.000000    0.000000    0.000000  \n",
       "25%      0.224096    0.180465    0.106766  \n",
       "50%      0.340527    0.245614    0.163256  \n",
       "75%      0.555890    0.319732    0.240063  \n",
       "max      1.000000    1.000000    1.000000  \n",
       "\n",
       "[8 rows x 30 columns]"
      ]
     },
     "execution_count": 35,
     "metadata": {},
     "output_type": "execute_result"
    }
   ],
   "source": [
    "# sklearn 라이브러리 이용\n",
    "from sklearn.preprocessing import MinMaxScaler \n",
    "\n",
    "sc_minmax = MinMaxScaler()\n",
    "sc_minmax.fit(X_train) \n",
    "\n",
    "# As with all the transformations, it is important to fit the scalers to the training data only, not to the full dataset (including the test set).\n",
    "X_train_scaled_minmax = sc_minmax.transform(X_train)\n",
    "X_test_scaled_minmax = sc_minmax.transform(X_test)\n",
    "# new_data_minmax = sc_minmax.transform(np.array([[1, 2, 3, ... ]])) # 새로운 데이터 scaling\n",
    "\n",
    "df = pd.DataFrame(X_train_scaled_minmax)\n",
    "df.describe()"
   ]
  },
  {
   "cell_type": "markdown",
   "metadata": {},
   "source": [
    "- Standardization : 평균 0, 표준편차 1"
   ]
  },
  {
   "cell_type": "code",
   "execution_count": 49,
   "metadata": {},
   "outputs": [
    {
     "data": {
      "text/html": [
       "<div>\n",
       "<style scoped>\n",
       "    .dataframe tbody tr th:only-of-type {\n",
       "        vertical-align: middle;\n",
       "    }\n",
       "\n",
       "    .dataframe tbody tr th {\n",
       "        vertical-align: top;\n",
       "    }\n",
       "\n",
       "    .dataframe thead th {\n",
       "        text-align: right;\n",
       "    }\n",
       "</style>\n",
       "<table border=\"1\" class=\"dataframe\">\n",
       "  <thead>\n",
       "    <tr style=\"text-align: right;\">\n",
       "      <th></th>\n",
       "      <th>0</th>\n",
       "      <th>1</th>\n",
       "      <th>2</th>\n",
       "      <th>3</th>\n",
       "      <th>4</th>\n",
       "      <th>5</th>\n",
       "      <th>6</th>\n",
       "      <th>7</th>\n",
       "      <th>8</th>\n",
       "      <th>9</th>\n",
       "      <th>...</th>\n",
       "      <th>20</th>\n",
       "      <th>21</th>\n",
       "      <th>22</th>\n",
       "      <th>23</th>\n",
       "      <th>24</th>\n",
       "      <th>25</th>\n",
       "      <th>26</th>\n",
       "      <th>27</th>\n",
       "      <th>28</th>\n",
       "      <th>29</th>\n",
       "    </tr>\n",
       "  </thead>\n",
       "  <tbody>\n",
       "    <tr>\n",
       "      <th>count</th>\n",
       "      <td>426.000000</td>\n",
       "      <td>426.000000</td>\n",
       "      <td>426.000000</td>\n",
       "      <td>426.000000</td>\n",
       "      <td>426.000000</td>\n",
       "      <td>426.000000</td>\n",
       "      <td>426.000000</td>\n",
       "      <td>426.000000</td>\n",
       "      <td>426.000000</td>\n",
       "      <td>426.000000</td>\n",
       "      <td>...</td>\n",
       "      <td>426.000000</td>\n",
       "      <td>426.000000</td>\n",
       "      <td>426.000000</td>\n",
       "      <td>426.000000</td>\n",
       "      <td>426.000000</td>\n",
       "      <td>426.000000</td>\n",
       "      <td>426.000000</td>\n",
       "      <td>426.000000</td>\n",
       "      <td>426.000000</td>\n",
       "      <td>426.000000</td>\n",
       "    </tr>\n",
       "    <tr>\n",
       "      <th>mean</th>\n",
       "      <td>14.159171</td>\n",
       "      <td>19.233005</td>\n",
       "      <td>92.143897</td>\n",
       "      <td>658.415023</td>\n",
       "      <td>0.096366</td>\n",
       "      <td>0.103670</td>\n",
       "      <td>0.088650</td>\n",
       "      <td>0.049144</td>\n",
       "      <td>0.180473</td>\n",
       "      <td>0.062617</td>\n",
       "      <td>...</td>\n",
       "      <td>16.316817</td>\n",
       "      <td>25.637981</td>\n",
       "      <td>107.459131</td>\n",
       "      <td>887.647887</td>\n",
       "      <td>0.132503</td>\n",
       "      <td>0.252836</td>\n",
       "      <td>0.269481</td>\n",
       "      <td>0.115279</td>\n",
       "      <td>0.289649</td>\n",
       "      <td>0.083540</td>\n",
       "    </tr>\n",
       "    <tr>\n",
       "      <th>std</th>\n",
       "      <td>3.552381</td>\n",
       "      <td>4.122619</td>\n",
       "      <td>24.437275</td>\n",
       "      <td>360.425054</td>\n",
       "      <td>0.013855</td>\n",
       "      <td>0.050683</td>\n",
       "      <td>0.078517</td>\n",
       "      <td>0.038819</td>\n",
       "      <td>0.027692</td>\n",
       "      <td>0.006852</td>\n",
       "      <td>...</td>\n",
       "      <td>4.894808</td>\n",
       "      <td>6.064671</td>\n",
       "      <td>33.965066</td>\n",
       "      <td>586.352988</td>\n",
       "      <td>0.022930</td>\n",
       "      <td>0.151899</td>\n",
       "      <td>0.198358</td>\n",
       "      <td>0.065619</td>\n",
       "      <td>0.063292</td>\n",
       "      <td>0.017795</td>\n",
       "    </tr>\n",
       "    <tr>\n",
       "      <th>min</th>\n",
       "      <td>6.981000</td>\n",
       "      <td>9.710000</td>\n",
       "      <td>43.790000</td>\n",
       "      <td>143.500000</td>\n",
       "      <td>0.052630</td>\n",
       "      <td>0.019380</td>\n",
       "      <td>0.000000</td>\n",
       "      <td>0.000000</td>\n",
       "      <td>0.106000</td>\n",
       "      <td>0.049960</td>\n",
       "      <td>...</td>\n",
       "      <td>7.930000</td>\n",
       "      <td>12.020000</td>\n",
       "      <td>50.410000</td>\n",
       "      <td>185.200000</td>\n",
       "      <td>0.071170</td>\n",
       "      <td>0.027290</td>\n",
       "      <td>0.000000</td>\n",
       "      <td>0.000000</td>\n",
       "      <td>0.156500</td>\n",
       "      <td>0.055040</td>\n",
       "    </tr>\n",
       "    <tr>\n",
       "      <th>25%</th>\n",
       "      <td>11.717500</td>\n",
       "      <td>16.170000</td>\n",
       "      <td>75.467500</td>\n",
       "      <td>421.100000</td>\n",
       "      <td>0.086635</td>\n",
       "      <td>0.066420</td>\n",
       "      <td>0.030090</td>\n",
       "      <td>0.020710</td>\n",
       "      <td>0.161500</td>\n",
       "      <td>0.057665</td>\n",
       "      <td>...</td>\n",
       "      <td>13.060000</td>\n",
       "      <td>21.342500</td>\n",
       "      <td>84.367500</td>\n",
       "      <td>516.825000</td>\n",
       "      <td>0.115825</td>\n",
       "      <td>0.148300</td>\n",
       "      <td>0.117125</td>\n",
       "      <td>0.065055</td>\n",
       "      <td>0.248050</td>\n",
       "      <td>0.071318</td>\n",
       "    </tr>\n",
       "    <tr>\n",
       "      <th>50%</th>\n",
       "      <td>13.375000</td>\n",
       "      <td>18.810000</td>\n",
       "      <td>86.290000</td>\n",
       "      <td>552.600000</td>\n",
       "      <td>0.095955</td>\n",
       "      <td>0.094035</td>\n",
       "      <td>0.061680</td>\n",
       "      <td>0.033770</td>\n",
       "      <td>0.178800</td>\n",
       "      <td>0.061635</td>\n",
       "      <td>...</td>\n",
       "      <td>14.965000</td>\n",
       "      <td>25.225000</td>\n",
       "      <td>97.585000</td>\n",
       "      <td>684.550000</td>\n",
       "      <td>0.132250</td>\n",
       "      <td>0.216000</td>\n",
       "      <td>0.230050</td>\n",
       "      <td>0.098855</td>\n",
       "      <td>0.281100</td>\n",
       "      <td>0.079930</td>\n",
       "    </tr>\n",
       "    <tr>\n",
       "      <th>75%</th>\n",
       "      <td>15.750000</td>\n",
       "      <td>21.590000</td>\n",
       "      <td>103.775000</td>\n",
       "      <td>771.775000</td>\n",
       "      <td>0.105400</td>\n",
       "      <td>0.129125</td>\n",
       "      <td>0.127075</td>\n",
       "      <td>0.075022</td>\n",
       "      <td>0.195300</td>\n",
       "      <td>0.065755</td>\n",
       "      <td>...</td>\n",
       "      <td>19.005000</td>\n",
       "      <td>29.410000</td>\n",
       "      <td>125.775000</td>\n",
       "      <td>1087.000000</td>\n",
       "      <td>0.145825</td>\n",
       "      <td>0.339700</td>\n",
       "      <td>0.379025</td>\n",
       "      <td>0.161375</td>\n",
       "      <td>0.318700</td>\n",
       "      <td>0.091640</td>\n",
       "    </tr>\n",
       "    <tr>\n",
       "      <th>max</th>\n",
       "      <td>28.110000</td>\n",
       "      <td>33.810000</td>\n",
       "      <td>188.500000</td>\n",
       "      <td>2501.000000</td>\n",
       "      <td>0.144700</td>\n",
       "      <td>0.311400</td>\n",
       "      <td>0.426800</td>\n",
       "      <td>0.201200</td>\n",
       "      <td>0.304000</td>\n",
       "      <td>0.097440</td>\n",
       "      <td>...</td>\n",
       "      <td>36.040000</td>\n",
       "      <td>49.540000</td>\n",
       "      <td>251.200000</td>\n",
       "      <td>4254.000000</td>\n",
       "      <td>0.222600</td>\n",
       "      <td>1.058000</td>\n",
       "      <td>1.252000</td>\n",
       "      <td>0.290300</td>\n",
       "      <td>0.663800</td>\n",
       "      <td>0.207500</td>\n",
       "    </tr>\n",
       "  </tbody>\n",
       "</table>\n",
       "<p>8 rows × 30 columns</p>\n",
       "</div>"
      ],
      "text/plain": [
       "               0           1           2            3           4   \\\n",
       "count  426.000000  426.000000  426.000000   426.000000  426.000000   \n",
       "mean    14.159171   19.233005   92.143897   658.415023    0.096366   \n",
       "std      3.552381    4.122619   24.437275   360.425054    0.013855   \n",
       "min      6.981000    9.710000   43.790000   143.500000    0.052630   \n",
       "25%     11.717500   16.170000   75.467500   421.100000    0.086635   \n",
       "50%     13.375000   18.810000   86.290000   552.600000    0.095955   \n",
       "75%     15.750000   21.590000  103.775000   771.775000    0.105400   \n",
       "max     28.110000   33.810000  188.500000  2501.000000    0.144700   \n",
       "\n",
       "               5           6           7           8           9   ...  \\\n",
       "count  426.000000  426.000000  426.000000  426.000000  426.000000  ...   \n",
       "mean     0.103670    0.088650    0.049144    0.180473    0.062617  ...   \n",
       "std      0.050683    0.078517    0.038819    0.027692    0.006852  ...   \n",
       "min      0.019380    0.000000    0.000000    0.106000    0.049960  ...   \n",
       "25%      0.066420    0.030090    0.020710    0.161500    0.057665  ...   \n",
       "50%      0.094035    0.061680    0.033770    0.178800    0.061635  ...   \n",
       "75%      0.129125    0.127075    0.075022    0.195300    0.065755  ...   \n",
       "max      0.311400    0.426800    0.201200    0.304000    0.097440  ...   \n",
       "\n",
       "               20          21          22           23          24  \\\n",
       "count  426.000000  426.000000  426.000000   426.000000  426.000000   \n",
       "mean    16.316817   25.637981  107.459131   887.647887    0.132503   \n",
       "std      4.894808    6.064671   33.965066   586.352988    0.022930   \n",
       "min      7.930000   12.020000   50.410000   185.200000    0.071170   \n",
       "25%     13.060000   21.342500   84.367500   516.825000    0.115825   \n",
       "50%     14.965000   25.225000   97.585000   684.550000    0.132250   \n",
       "75%     19.005000   29.410000  125.775000  1087.000000    0.145825   \n",
       "max     36.040000   49.540000  251.200000  4254.000000    0.222600   \n",
       "\n",
       "               25          26          27          28          29  \n",
       "count  426.000000  426.000000  426.000000  426.000000  426.000000  \n",
       "mean     0.252836    0.269481    0.115279    0.289649    0.083540  \n",
       "std      0.151899    0.198358    0.065619    0.063292    0.017795  \n",
       "min      0.027290    0.000000    0.000000    0.156500    0.055040  \n",
       "25%      0.148300    0.117125    0.065055    0.248050    0.071318  \n",
       "50%      0.216000    0.230050    0.098855    0.281100    0.079930  \n",
       "75%      0.339700    0.379025    0.161375    0.318700    0.091640  \n",
       "max      1.058000    1.252000    0.290300    0.663800    0.207500  \n",
       "\n",
       "[8 rows x 30 columns]"
      ]
     },
     "execution_count": 49,
     "metadata": {},
     "output_type": "execute_result"
    }
   ],
   "source": [
    "pd.DataFrame(X_train).describe()"
   ]
  },
  {
   "cell_type": "code",
   "execution_count": 51,
   "metadata": {},
   "outputs": [
    {
     "data": {
      "text/html": [
       "<div>\n",
       "<style scoped>\n",
       "    .dataframe tbody tr th:only-of-type {\n",
       "        vertical-align: middle;\n",
       "    }\n",
       "\n",
       "    .dataframe tbody tr th {\n",
       "        vertical-align: top;\n",
       "    }\n",
       "\n",
       "    .dataframe thead th {\n",
       "        text-align: right;\n",
       "    }\n",
       "</style>\n",
       "<table border=\"1\" class=\"dataframe\">\n",
       "  <thead>\n",
       "    <tr style=\"text-align: right;\">\n",
       "      <th></th>\n",
       "      <th>0</th>\n",
       "      <th>1</th>\n",
       "      <th>2</th>\n",
       "      <th>3</th>\n",
       "      <th>4</th>\n",
       "      <th>5</th>\n",
       "      <th>6</th>\n",
       "      <th>7</th>\n",
       "      <th>8</th>\n",
       "      <th>9</th>\n",
       "      <th>...</th>\n",
       "      <th>20</th>\n",
       "      <th>21</th>\n",
       "      <th>22</th>\n",
       "      <th>23</th>\n",
       "      <th>24</th>\n",
       "      <th>25</th>\n",
       "      <th>26</th>\n",
       "      <th>27</th>\n",
       "      <th>28</th>\n",
       "      <th>29</th>\n",
       "    </tr>\n",
       "  </thead>\n",
       "  <tbody>\n",
       "    <tr>\n",
       "      <th>count</th>\n",
       "      <td>4.260000e+02</td>\n",
       "      <td>4.260000e+02</td>\n",
       "      <td>4.260000e+02</td>\n",
       "      <td>4.260000e+02</td>\n",
       "      <td>4.260000e+02</td>\n",
       "      <td>4.260000e+02</td>\n",
       "      <td>4.260000e+02</td>\n",
       "      <td>4.260000e+02</td>\n",
       "      <td>4.260000e+02</td>\n",
       "      <td>4.260000e+02</td>\n",
       "      <td>...</td>\n",
       "      <td>4.260000e+02</td>\n",
       "      <td>4.260000e+02</td>\n",
       "      <td>4.260000e+02</td>\n",
       "      <td>4.260000e+02</td>\n",
       "      <td>4.260000e+02</td>\n",
       "      <td>4.260000e+02</td>\n",
       "      <td>4.260000e+02</td>\n",
       "      <td>4.260000e+02</td>\n",
       "      <td>4.260000e+02</td>\n",
       "      <td>4.260000e+02</td>\n",
       "    </tr>\n",
       "    <tr>\n",
       "      <th>mean</th>\n",
       "      <td>-3.385138e-15</td>\n",
       "      <td>-1.095107e-15</td>\n",
       "      <td>4.192786e-15</td>\n",
       "      <td>-1.504274e-15</td>\n",
       "      <td>-2.205461e-15</td>\n",
       "      <td>-3.778032e-16</td>\n",
       "      <td>1.139673e-15</td>\n",
       "      <td>4.940623e-16</td>\n",
       "      <td>-4.089061e-15</td>\n",
       "      <td>-2.028372e-15</td>\n",
       "      <td>...</td>\n",
       "      <td>-7.557856e-17</td>\n",
       "      <td>-6.515393e-17</td>\n",
       "      <td>-1.223070e-15</td>\n",
       "      <td>-2.658280e-17</td>\n",
       "      <td>4.438644e-15</td>\n",
       "      <td>-1.110229e-15</td>\n",
       "      <td>-5.054642e-16</td>\n",
       "      <td>1.107617e-17</td>\n",
       "      <td>-2.450830e-15</td>\n",
       "      <td>2.719395e-15</td>\n",
       "    </tr>\n",
       "    <tr>\n",
       "      <th>std</th>\n",
       "      <td>1.001176e+00</td>\n",
       "      <td>1.001176e+00</td>\n",
       "      <td>1.001176e+00</td>\n",
       "      <td>1.001176e+00</td>\n",
       "      <td>1.001176e+00</td>\n",
       "      <td>1.001176e+00</td>\n",
       "      <td>1.001176e+00</td>\n",
       "      <td>1.001176e+00</td>\n",
       "      <td>1.001176e+00</td>\n",
       "      <td>1.001176e+00</td>\n",
       "      <td>...</td>\n",
       "      <td>1.001176e+00</td>\n",
       "      <td>1.001176e+00</td>\n",
       "      <td>1.001176e+00</td>\n",
       "      <td>1.001176e+00</td>\n",
       "      <td>1.001176e+00</td>\n",
       "      <td>1.001176e+00</td>\n",
       "      <td>1.001176e+00</td>\n",
       "      <td>1.001176e+00</td>\n",
       "      <td>1.001176e+00</td>\n",
       "      <td>1.001176e+00</td>\n",
       "    </tr>\n",
       "    <tr>\n",
       "      <th>min</th>\n",
       "      <td>-2.023041e+00</td>\n",
       "      <td>-2.312656e+00</td>\n",
       "      <td>-1.981021e+00</td>\n",
       "      <td>-1.430312e+00</td>\n",
       "      <td>-3.160432e+00</td>\n",
       "      <td>-1.665026e+00</td>\n",
       "      <td>-1.130378e+00</td>\n",
       "      <td>-1.267483e+00</td>\n",
       "      <td>-2.692455e+00</td>\n",
       "      <td>-1.849288e+00</td>\n",
       "      <td>...</td>\n",
       "      <td>-1.715425e+00</td>\n",
       "      <td>-2.248101e+00</td>\n",
       "      <td>-1.681616e+00</td>\n",
       "      <td>-1.199403e+00</td>\n",
       "      <td>-2.677913e+00</td>\n",
       "      <td>-1.486588e+00</td>\n",
       "      <td>-1.360156e+00</td>\n",
       "      <td>-1.758873e+00</td>\n",
       "      <td>-2.106216e+00</td>\n",
       "      <td>-1.603450e+00</td>\n",
       "    </tr>\n",
       "    <tr>\n",
       "      <th>25%</th>\n",
       "      <td>-6.881418e-01</td>\n",
       "      <td>-7.438490e-01</td>\n",
       "      <td>-6.832187e-01</td>\n",
       "      <td>-6.592052e-01</td>\n",
       "      <td>-7.031765e-01</td>\n",
       "      <td>-7.358151e-01</td>\n",
       "      <td>-7.467001e-01</td>\n",
       "      <td>-7.333480e-01</td>\n",
       "      <td>-6.859458e-01</td>\n",
       "      <td>-7.235262e-01</td>\n",
       "      <td>...</td>\n",
       "      <td>-6.661438e-01</td>\n",
       "      <td>-7.091121e-01</td>\n",
       "      <td>-6.806635e-01</td>\n",
       "      <td>-6.331662e-01</td>\n",
       "      <td>-7.282053e-01</td>\n",
       "      <td>-6.890046e-01</td>\n",
       "      <td>-7.689892e-01</td>\n",
       "      <td>-7.662973e-01</td>\n",
       "      <td>-6.580365e-01</td>\n",
       "      <td>-6.876632e-01</td>\n",
       "    </tr>\n",
       "    <tr>\n",
       "      <th>50%</th>\n",
       "      <td>-2.210048e-01</td>\n",
       "      <td>-1.027265e-01</td>\n",
       "      <td>-2.398295e-01</td>\n",
       "      <td>-2.939292e-01</td>\n",
       "      <td>-2.969849e-02</td>\n",
       "      <td>-1.903184e-01</td>\n",
       "      <td>-3.438961e-01</td>\n",
       "      <td>-3.965152e-01</td>\n",
       "      <td>-6.049317e-02</td>\n",
       "      <td>-1.434774e-01</td>\n",
       "      <td>...</td>\n",
       "      <td>-2.764983e-01</td>\n",
       "      <td>-6.817629e-02</td>\n",
       "      <td>-2.910562e-01</td>\n",
       "      <td>-3.467820e-01</td>\n",
       "      <td>-1.106401e-02</td>\n",
       "      <td>-2.427903e-01</td>\n",
       "      <td>-1.990212e-01</td>\n",
       "      <td>-2.505942e-01</td>\n",
       "      <td>-1.352366e-01</td>\n",
       "      <td>-2.031163e-01</td>\n",
       "    </tr>\n",
       "    <tr>\n",
       "      <th>75%</th>\n",
       "      <td>4.483469e-01</td>\n",
       "      <td>5.723950e-01</td>\n",
       "      <td>4.765171e-01</td>\n",
       "      <td>3.148873e-01</td>\n",
       "      <td>6.528122e-01</td>\n",
       "      <td>5.028367e-01</td>\n",
       "      <td>4.899554e-01</td>\n",
       "      <td>6.674355e-01</td>\n",
       "      <td>5.360367e-01</td>\n",
       "      <td>4.584876e-01</td>\n",
       "      <td>...</td>\n",
       "      <td>5.498364e-01</td>\n",
       "      <td>6.226972e-01</td>\n",
       "      <td>5.398901e-01</td>\n",
       "      <td>3.403863e-01</td>\n",
       "      <td>5.816418e-01</td>\n",
       "      <td>5.725231e-01</td>\n",
       "      <td>5.529024e-01</td>\n",
       "      <td>7.033039e-01</td>\n",
       "      <td>4.595372e-01</td>\n",
       "      <td>4.556986e-01</td>\n",
       "    </tr>\n",
       "    <tr>\n",
       "      <th>max</th>\n",
       "      <td>3.931794e+00</td>\n",
       "      <td>3.540015e+00</td>\n",
       "      <td>3.947633e+00</td>\n",
       "      <td>5.118266e+00</td>\n",
       "      <td>3.492692e+00</td>\n",
       "      <td>4.103431e+00</td>\n",
       "      <td>4.311748e+00</td>\n",
       "      <td>3.921702e+00</td>\n",
       "      <td>4.465904e+00</td>\n",
       "      <td>5.087920e+00</td>\n",
       "      <td>...</td>\n",
       "      <td>4.034146e+00</td>\n",
       "      <td>3.945823e+00</td>\n",
       "      <td>4.236997e+00</td>\n",
       "      <td>5.747920e+00</td>\n",
       "      <td>3.933759e+00</td>\n",
       "      <td>5.306877e+00</td>\n",
       "      <td>4.959081e+00</td>\n",
       "      <td>2.670375e+00</td>\n",
       "      <td>5.918486e+00</td>\n",
       "      <td>6.974084e+00</td>\n",
       "    </tr>\n",
       "  </tbody>\n",
       "</table>\n",
       "<p>8 rows × 30 columns</p>\n",
       "</div>"
      ],
      "text/plain": [
       "                 0             1             2             3             4   \\\n",
       "count  4.260000e+02  4.260000e+02  4.260000e+02  4.260000e+02  4.260000e+02   \n",
       "mean  -3.385138e-15 -1.095107e-15  4.192786e-15 -1.504274e-15 -2.205461e-15   \n",
       "std    1.001176e+00  1.001176e+00  1.001176e+00  1.001176e+00  1.001176e+00   \n",
       "min   -2.023041e+00 -2.312656e+00 -1.981021e+00 -1.430312e+00 -3.160432e+00   \n",
       "25%   -6.881418e-01 -7.438490e-01 -6.832187e-01 -6.592052e-01 -7.031765e-01   \n",
       "50%   -2.210048e-01 -1.027265e-01 -2.398295e-01 -2.939292e-01 -2.969849e-02   \n",
       "75%    4.483469e-01  5.723950e-01  4.765171e-01  3.148873e-01  6.528122e-01   \n",
       "max    3.931794e+00  3.540015e+00  3.947633e+00  5.118266e+00  3.492692e+00   \n",
       "\n",
       "                 5             6             7             8             9   \\\n",
       "count  4.260000e+02  4.260000e+02  4.260000e+02  4.260000e+02  4.260000e+02   \n",
       "mean  -3.778032e-16  1.139673e-15  4.940623e-16 -4.089061e-15 -2.028372e-15   \n",
       "std    1.001176e+00  1.001176e+00  1.001176e+00  1.001176e+00  1.001176e+00   \n",
       "min   -1.665026e+00 -1.130378e+00 -1.267483e+00 -2.692455e+00 -1.849288e+00   \n",
       "25%   -7.358151e-01 -7.467001e-01 -7.333480e-01 -6.859458e-01 -7.235262e-01   \n",
       "50%   -1.903184e-01 -3.438961e-01 -3.965152e-01 -6.049317e-02 -1.434774e-01   \n",
       "75%    5.028367e-01  4.899554e-01  6.674355e-01  5.360367e-01  4.584876e-01   \n",
       "max    4.103431e+00  4.311748e+00  3.921702e+00  4.465904e+00  5.087920e+00   \n",
       "\n",
       "       ...            20            21            22            23  \\\n",
       "count  ...  4.260000e+02  4.260000e+02  4.260000e+02  4.260000e+02   \n",
       "mean   ... -7.557856e-17 -6.515393e-17 -1.223070e-15 -2.658280e-17   \n",
       "std    ...  1.001176e+00  1.001176e+00  1.001176e+00  1.001176e+00   \n",
       "min    ... -1.715425e+00 -2.248101e+00 -1.681616e+00 -1.199403e+00   \n",
       "25%    ... -6.661438e-01 -7.091121e-01 -6.806635e-01 -6.331662e-01   \n",
       "50%    ... -2.764983e-01 -6.817629e-02 -2.910562e-01 -3.467820e-01   \n",
       "75%    ...  5.498364e-01  6.226972e-01  5.398901e-01  3.403863e-01   \n",
       "max    ...  4.034146e+00  3.945823e+00  4.236997e+00  5.747920e+00   \n",
       "\n",
       "                 24            25            26            27            28  \\\n",
       "count  4.260000e+02  4.260000e+02  4.260000e+02  4.260000e+02  4.260000e+02   \n",
       "mean   4.438644e-15 -1.110229e-15 -5.054642e-16  1.107617e-17 -2.450830e-15   \n",
       "std    1.001176e+00  1.001176e+00  1.001176e+00  1.001176e+00  1.001176e+00   \n",
       "min   -2.677913e+00 -1.486588e+00 -1.360156e+00 -1.758873e+00 -2.106216e+00   \n",
       "25%   -7.282053e-01 -6.890046e-01 -7.689892e-01 -7.662973e-01 -6.580365e-01   \n",
       "50%   -1.106401e-02 -2.427903e-01 -1.990212e-01 -2.505942e-01 -1.352366e-01   \n",
       "75%    5.816418e-01  5.725231e-01  5.529024e-01  7.033039e-01  4.595372e-01   \n",
       "max    3.933759e+00  5.306877e+00  4.959081e+00  2.670375e+00  5.918486e+00   \n",
       "\n",
       "                 29  \n",
       "count  4.260000e+02  \n",
       "mean   2.719395e-15  \n",
       "std    1.001176e+00  \n",
       "min   -1.603450e+00  \n",
       "25%   -6.876632e-01  \n",
       "50%   -2.031163e-01  \n",
       "75%    4.556986e-01  \n",
       "max    6.974084e+00  \n",
       "\n",
       "[8 rows x 30 columns]"
      ]
     },
     "execution_count": 51,
     "metadata": {},
     "output_type": "execute_result"
    }
   ],
   "source": [
    "# sklearn.preprocessing 데이터 전처리에 필요한 메서드, 객체\n",
    "from sklearn.preprocessing import StandardScaler  # (sklearn.preprocessing.MinMaxScaler is also available)\n",
    "\n",
    "sc_std = StandardScaler()\n",
    "sc_std.fit(X_train) # X_train 의 평균과 표준편차를 구함\n",
    "\n",
    "# As with all the transformations, it is important to fit the scalers to the training data only, not to the full dataset (including the test set).\n",
    "X_train_scaled_std = sc_std.transform(X_train)\n",
    "X_test_scaled_std = sc_std.transform(X_test)\n",
    "# new_data_std = sc_std.transform(np.array([[1, 2, 3, ... ]])) # 새로운 데이터 scaling\n",
    "\n",
    "df = pd.DataFrame(X_train_scaled_std)\n",
    "df.describe()"
   ]
  },
  {
   "cell_type": "markdown",
   "metadata": {},
   "source": [
    "모델 생성, 학습, Accuray 확인"
   ]
  },
  {
   "cell_type": "markdown",
   "metadata": {},
   "source": [
    "<br>\n",
    "\n",
    "#### min-max scaling"
   ]
  },
  {
   "cell_type": "code",
   "execution_count": 36,
   "metadata": {},
   "outputs": [
    {
     "name": "stdout",
     "output_type": "stream",
     "text": [
      "Accuracy on Training set: 0.948\n",
      "Accuracy on Test set: 0.951\n"
     ]
    },
    {
     "name": "stderr",
     "output_type": "stream",
     "text": [
      "C:\\ProgramData\\Anaconda3\\lib\\site-packages\\sklearn\\svm\\base.py:196: FutureWarning: The default value of gamma will change from 'auto' to 'scale' in version 0.22 to account better for unscaled features. Set gamma explicitly to 'auto' or 'scale' to avoid this warning.\n",
      "  \"avoid this warning.\", FutureWarning)\n"
     ]
    }
   ],
   "source": [
    "svc = SVC()\n",
    "svc.fit(X_train_scaled_minmax, y_train)\n",
    "\n",
    "print(\"Accuracy on Training set: {:.3f}\".format(svc.score(X_train_scaled_minmax, y_train)))\n",
    "print(\"Accuracy on Test set: {:.3f}\".format(svc.score(X_test_scaled_minmax, y_test)))"
   ]
  },
  {
   "cell_type": "code",
   "execution_count": 53,
   "metadata": {},
   "outputs": [
    {
     "name": "stdout",
     "output_type": "stream",
     "text": [
      "Accuracy on Training set: 0.986\n",
      "Accuracy on Test set: 0.965\n"
     ]
    }
   ],
   "source": [
    "svc = SVC()\n",
    "svc.fit(X_train_scaled_std, y_train)\n",
    "\n",
    "print(\"Accuracy on Training set: {:.3f}\".format(svc.score(X_train_scaled_std, y_train)))\n",
    "print(\"Accuracy on Test set: {:.3f}\".format(svc.score(X_test_scaled_std, y_test)))"
   ]
  },
  {
   "cell_type": "markdown",
   "metadata": {},
   "source": [
    "- c 증가시켜 더 복잡한 모델 생성"
   ]
  },
  {
   "cell_type": "code",
   "execution_count": 57,
   "metadata": {},
   "outputs": [
    {
     "name": "stdout",
     "output_type": "stream",
     "text": [
      "---MinMax---\n",
      "Accuracy on Training set: 0.988\n",
      "Accuracy on Test set: 0.972\n"
     ]
    },
    {
     "name": "stderr",
     "output_type": "stream",
     "text": [
      "C:\\ProgramData\\Anaconda3\\lib\\site-packages\\sklearn\\svm\\base.py:196: FutureWarning: The default value of gamma will change from 'auto' to 'scale' in version 0.22 to account better for unscaled features. Set gamma explicitly to 'auto' or 'scale' to avoid this warning.\n",
      "  \"avoid this warning.\", FutureWarning)\n"
     ]
    }
   ],
   "source": [
    "# min-max ver\n",
    "svc = SVC(C=1000) \n",
    "svc.fit(X_train_scaled_minmax, y_train)\n",
    "\n",
    "print('---MinMax---')\n",
    "print(\"Accuracy on Training set: {:.3f}\".format(svc.score(X_train_scaled_minmax, y_train)))\n",
    "print(\"Accuracy on Test set: {:.3f}\".format(svc.score(X_test_scaled_minmax, y_test)))"
   ]
  },
  {
   "cell_type": "markdown",
   "metadata": {},
   "source": [
    "- c, gamma 증가했을 때"
   ]
  },
  {
   "cell_type": "code",
   "execution_count": 58,
   "metadata": {},
   "outputs": [
    {
     "name": "stdout",
     "output_type": "stream",
     "text": [
      "Accuracy on Training set: 0.995\n",
      "Accuracy on Test set: 0.951\n"
     ]
    }
   ],
   "source": [
    "svc = SVC(C=1000, gamma=0.1)\n",
    "svc.fit(X_train_scaled_minmax, y_train)\n",
    "\n",
    "print(\"Accuracy on Training set: {:.3f}\".format(svc.score(X_train_scaled_minmax, y_train)))\n",
    "print(\"Accuracy on Test set: {:.3f}\".format(svc.score(X_test_scaled_minmax, y_test)))"
   ]
  },
  {
   "cell_type": "markdown",
   "metadata": {},
   "source": [
    "---\n",
    "\n",
    "<br>\n",
    "\n",
    "### Hyper parameter(c, gamma) 최적화"
   ]
  },
  {
   "cell_type": "markdown",
   "metadata": {},
   "source": [
    "AutoMl\n",
    "\n",
    "- Automated feature-engineering\n",
    "- Automated model-selection\n",
    "- Automated HPO\n",
    "\n",
    "HPO\n",
    "\n",
    ": Hyper-prameter Optimization (초매개변수 최적화)\n",
    "\n",
    "- Grid-search 기법\n",
    "- Randomized-search 기법"
   ]
  },
  {
   "cell_type": "markdown",
   "metadata": {},
   "source": [
    "#### Grid-Search"
   ]
  },
  {
   "cell_type": "code",
   "execution_count": 60,
   "metadata": {},
   "outputs": [
    {
     "name": "stderr",
     "output_type": "stream",
     "text": [
      "C:\\ProgramData\\Anaconda3\\lib\\site-packages\\sklearn\\model_selection\\_split.py:2053: FutureWarning: You should specify a value for 'cv' instead of relying on the default value. The default value will change from 3 to 5 in version 0.22.\n",
      "  warnings.warn(CV_WARNING, FutureWarning)\n",
      "[Parallel(n_jobs=1)]: Using backend SequentialBackend with 1 concurrent workers.\n"
     ]
    },
    {
     "name": "stdout",
     "output_type": "stream",
     "text": [
      "Fitting 3 folds for each of 25 candidates, totalling 75 fits\n",
      "The best parameters are  {'C': 10, 'gamma': 0.01, 'kernel': 'rbf'}\n"
     ]
    },
    {
     "name": "stderr",
     "output_type": "stream",
     "text": [
      "[Parallel(n_jobs=1)]: Done  75 out of  75 | elapsed:    0.4s finished\n"
     ]
    }
   ],
   "source": [
    "from sklearn.model_selection import GridSearchCV\n",
    "\n",
    "# 아래 param_grid dict 의 C & gamma 에 후보 Hyper-params 값들을 리스트업합니다.\n",
    "param_grid = {'C' : [0.1, 1, 10, 100, 1000], \n",
    "             'gamma' : [1, 0.1, 0.01, 0.001, 0.0001],\n",
    "             'kernel' : ['rbf']}\n",
    "\n",
    "grid = GridSearchCV(SVC(), param_grid, refit=True, verbose=1)\n",
    "# SVC()가 호출되면 SVC Class의 객체 변수가 만들어지고 해당 객체 변수가 GridSearchCV\n",
    "\n",
    "# refit : 찾아진 가장 좋은 params로 estimator를 setting할 지 여부 (setting해줘야 곧바로 predict가 가능)\n",
    "# verbose : 설명의 자세한 정도 (verbose를 3과 같이 바꿔보시면 더 자세하게 매 param set 마다의 결과를 확인할 수 있습니다.)\n",
    "\n",
    "grid.fit(X_train_scaled, y_train)\n",
    "print('The best parameters are ', grid.best_params_)"
   ]
  },
  {
   "cell_type": "markdown",
   "metadata": {},
   "source": [
    "#### Precision, Recall, F1-score 등 확인 (classification report)"
   ]
  },
  {
   "cell_type": "code",
   "execution_count": 61,
   "metadata": {},
   "outputs": [
    {
     "name": "stdout",
     "output_type": "stream",
     "text": [
      "              precision    recall  f1-score   support\n",
      "\n",
      "           0       0.98      0.96      0.97        53\n",
      "           1       0.98      0.99      0.98        90\n",
      "\n",
      "   micro avg       0.98      0.98      0.98       143\n",
      "   macro avg       0.98      0.98      0.98       143\n",
      "weighted avg       0.98      0.98      0.98       143\n",
      "\n",
      "Accuracy on Training set: 0.986\n",
      "Accuracy on Test set: 0.979\n"
     ]
    }
   ],
   "source": [
    "from sklearn.metrics import classification_report\n",
    "\n",
    "grid_predictions = grid.predict(X_test_scaled)\n",
    "print(classification_report(y_test, grid_predictions))\n",
    "\n",
    "print(\"Accuracy on Training set: {:.3f}\".format(grid.score(X_train_scaled, y_train)))\n",
    "print(\"Accuracy on Test set: {:.3f}\".format(grid.score(X_test_scaled, y_test)))"
   ]
  }
 ],
 "metadata": {
  "kernelspec": {
   "display_name": "Python 3",
   "language": "python",
   "name": "python3"
  },
  "language_info": {
   "codemirror_mode": {
    "name": "ipython",
    "version": 3
   },
   "file_extension": ".py",
   "mimetype": "text/x-python",
   "name": "python",
   "nbconvert_exporter": "python",
   "pygments_lexer": "ipython3",
   "version": "3.7.3"
  }
 },
 "nbformat": 4,
 "nbformat_minor": 2
}
