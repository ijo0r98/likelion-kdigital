{
 "cells": [
  {
   "cell_type": "code",
   "execution_count": 1,
   "metadata": {},
   "outputs": [],
   "source": [
    "import tensorflow as tf\n",
    "import numpy as np\n",
    "import pandas as pd"
   ]
  },
  {
   "cell_type": "code",
   "execution_count": 4,
   "metadata": {},
   "outputs": [],
   "source": [
    "import matplotlib.pyplot as plt\n",
    "from sklearn import datasets"
   ]
  },
  {
   "cell_type": "code",
   "execution_count": 12,
   "metadata": {},
   "outputs": [
    {
     "data": {
      "text/plain": [
       "'1.13.1'"
      ]
     },
     "execution_count": 12,
     "metadata": {},
     "output_type": "execute_result"
    }
   ],
   "source": [
    "tf.__version__"
   ]
  },
  {
   "cell_type": "markdown",
   "metadata": {},
   "source": [
    "### 텐서플로우 기본"
   ]
  },
  {
   "cell_type": "code",
   "execution_count": 42,
   "metadata": {},
   "outputs": [
    {
     "name": "stdout",
     "output_type": "stream",
     "text": [
      "Tensor(\"Add_1:0\", shape=(), dtype=int32)\n"
     ]
    }
   ],
   "source": [
    "# building a tensorflow graph 모델 생성만 한 상태\n",
    "a = tf.add(3, 5)\n",
    "print(a) "
   ]
  },
  {
   "cell_type": "code",
   "execution_count": 43,
   "metadata": {},
   "outputs": [
    {
     "name": "stdout",
     "output_type": "stream",
     "text": [
      "8\n"
     ]
    }
   ],
   "source": [
    "# executing the tensorflow graph (ver2에서는 생략 가능)\n",
    "sess = tf.Session()\n",
    "print(sess.run(a))"
   ]
  },
  {
   "cell_type": "code",
   "execution_count": 44,
   "metadata": {},
   "outputs": [],
   "source": [
    "# session close\n",
    "sess.close()"
   ]
  },
  {
   "cell_type": "code",
   "execution_count": 45,
   "metadata": {},
   "outputs": [
    {
     "name": "stdout",
     "output_type": "stream",
     "text": [
      "8\n"
     ]
    }
   ],
   "source": [
    "# close문 없이 사용 후 알아서 종료\n",
    "with tf.Session() as sess:\n",
    "    print(sess.run(a))"
   ]
  },
  {
   "cell_type": "markdown",
   "metadata": {},
   "source": [
    "<br>"
   ]
  },
  {
   "cell_type": "code",
   "execution_count": 49,
   "metadata": {
    "scrolled": true
   },
   "outputs": [],
   "source": [
    "x = 2\n",
    "y = 3\n",
    "op1 = tf.add(x, y)\n",
    "op2 = tf.multiply(x, y)\n",
    "useless = tf.multiply(x, op1) # 사용되지 않음\n",
    "op3 = tf.pow(op2, op1)"
   ]
  },
  {
   "cell_type": "code",
   "execution_count": 50,
   "metadata": {},
   "outputs": [
    {
     "name": "stdout",
     "output_type": "stream",
     "text": [
      "7776\n"
     ]
    }
   ],
   "source": [
    "with tf.Session() as sess:\n",
    "    op3 = sess.run(op3)\n",
    "    # 연결된 모든 tensor들 함께 실행됨(op1, op2)\n",
    "    \n",
    "    # 여러 tesor 실행시키고 싶을 때\n",
    "    # op3, useless = sess.run([op3, useless])\n",
    "    print(op3)"
   ]
  },
  {
   "cell_type": "markdown",
   "metadata": {},
   "source": [
    "<br>\n",
    "\n",
    "### 데이터 준비"
   ]
  },
  {
   "cell_type": "code",
   "execution_count": 7,
   "metadata": {},
   "outputs": [
    {
     "data": {
      "text/html": [
       "<div>\n",
       "<style scoped>\n",
       "    .dataframe tbody tr th:only-of-type {\n",
       "        vertical-align: middle;\n",
       "    }\n",
       "\n",
       "    .dataframe tbody tr th {\n",
       "        vertical-align: top;\n",
       "    }\n",
       "\n",
       "    .dataframe thead th {\n",
       "        text-align: right;\n",
       "    }\n",
       "</style>\n",
       "<table border=\"1\" class=\"dataframe\">\n",
       "  <thead>\n",
       "    <tr style=\"text-align: right;\">\n",
       "      <th></th>\n",
       "      <th>0</th>\n",
       "      <th>1</th>\n",
       "    </tr>\n",
       "  </thead>\n",
       "  <tbody>\n",
       "    <tr>\n",
       "      <th>0</th>\n",
       "      <td>4.98</td>\n",
       "      <td>24.0</td>\n",
       "    </tr>\n",
       "    <tr>\n",
       "      <th>1</th>\n",
       "      <td>9.14</td>\n",
       "      <td>21.6</td>\n",
       "    </tr>\n",
       "    <tr>\n",
       "      <th>2</th>\n",
       "      <td>4.03</td>\n",
       "      <td>34.7</td>\n",
       "    </tr>\n",
       "    <tr>\n",
       "      <th>3</th>\n",
       "      <td>2.94</td>\n",
       "      <td>33.4</td>\n",
       "    </tr>\n",
       "    <tr>\n",
       "      <th>4</th>\n",
       "      <td>5.33</td>\n",
       "      <td>36.2</td>\n",
       "    </tr>\n",
       "  </tbody>\n",
       "</table>\n",
       "</div>"
      ],
      "text/plain": [
       "      0     1\n",
       "0  4.98  24.0\n",
       "1  9.14  21.6\n",
       "2  4.03  34.7\n",
       "3  2.94  33.4\n",
       "4  5.33  36.2"
      ]
     },
     "execution_count": 7,
     "metadata": {},
     "output_type": "execute_result"
    }
   ],
   "source": [
    "x_data = datasets.load_boston().data[:, 12] # 1) 모델에 넣기 전 차원 변경\n",
    "# 2) 12:13 행렬 형태로 꺼냄\n",
    "y_data = datasets.load_boston().target\n",
    "\n",
    "df = pd.DataFrame([x_data, y_data]).transpose()\n",
    "df.head()"
   ]
  },
  {
   "cell_type": "markdown",
   "metadata": {},
   "source": [
    "<br>\n",
    "\n",
    "## 선형 회귀 (Linear Regression)"
   ]
  },
  {
   "cell_type": "markdown",
   "metadata": {},
   "source": [
    "#### build themodel"
   ]
  },
  {
   "cell_type": "code",
   "execution_count": 8,
   "metadata": {},
   "outputs": [
    {
     "name": "stdout",
     "output_type": "stream",
     "text": [
      "WARNING:tensorflow:From C:\\ProgramData\\Anaconda3\\lib\\site-packages\\tensorflow\\python\\framework\\op_def_library.py:263: colocate_with (from tensorflow.python.framework.ops) is deprecated and will be removed in a future version.\n",
      "Instructions for updating:\n",
      "Colocations handled automatically by placer.\n"
     ]
    }
   ],
   "source": [
    "# tf.Variable(초기화 방법)\n",
    "# parameter theta / gradient descent 대상 / learning 대상\n",
    "\n",
    "w = tf.Variable(tf.random_normal([1])) # θ 초기화 - 정규분포로부터 랜덤으로 데이터를 꺼냄\n",
    "b = tf.Variable(tf.random_normal([1]))\n",
    "\n",
    "y_predicted = w * x_data + b\n",
    "# 예측된 집값 y = θ1* x + θ0, θ1 == w /  θ0 == b"
   ]
  },
  {
   "cell_type": "markdown",
   "metadata": {},
   "source": [
    "#### set the criterion - cost function & gradient descent method"
   ]
  },
  {
   "cell_type": "code",
   "execution_count": 11,
   "metadata": {},
   "outputs": [],
   "source": [
    "loss = tf.reduce_mean(tf.square(y_predicted - y_data)) # MSE 직접 작성\n",
    "\n",
    "# vanilla gradient descent\n",
    "optimizer = tf.train.GradientDescentOptimizer(0.001) # learning rate(step), θ가 바뀌는 보폭\n",
    "train = optimizer.minimize(loss)"
   ]
  },
  {
   "cell_type": "markdown",
   "metadata": {},
   "source": [
    "#### train the model"
   ]
  },
  {
   "cell_type": "code",
   "execution_count": 13,
   "metadata": {},
   "outputs": [
    {
     "name": "stdout",
     "output_type": "stream",
     "text": [
      "Step 0: w [0.5153615] b [0.32759184]\n",
      "loss 393.77178955078125\n",
      "\n",
      "Step 1000: w [0.31912354] b [13.414074]\n",
      "loss 146.27793884277344\n",
      "\n",
      "Step 2000: w [-0.16533798] b [21.483427]\n",
      "loss 79.69052124023438\n",
      "\n",
      "Step 3000: w [-0.46487257] b [26.472576]\n",
      "loss 54.2357292175293\n",
      "\n",
      "Step 4000: w [-0.6500717] b [29.557312]\n",
      "loss 44.504886627197266\n",
      "\n",
      "Step 5000: w [-0.76457703] b [31.464552]\n",
      "loss 40.78501510620117\n",
      "\n",
      "Step 6000: w [-0.83537406] b [32.643772]\n",
      "loss 39.36298370361328\n",
      "\n",
      "Step 7000: w [-0.87914675] b [33.372864]\n",
      "loss 38.81938552856445\n",
      "\n",
      "Step 8000: w [-0.90621144] b [33.82366]\n",
      "loss 38.611568450927734\n",
      "\n",
      "Step 9000: w [-0.9229441] b [34.102367]\n",
      "loss 38.532135009765625\n",
      "\n"
     ]
    }
   ],
   "source": [
    "with tf.Session() as sess:\n",
    "    sess.run(tf.global_variables_initializer()) # 전체 코드의 tf.Variables criterion 기준 초기화\n",
    "    \n",
    "    for step in range(10000): # 1 epoch\n",
    "        sess.run(train) # gradient descent\n",
    "        \n",
    "        if step % 1000 == 0:\n",
    "            # 학습에 전혀 상관없이 값을 확인하기 위한 run\n",
    "            print('Step {}: w {} b {}'.format(step, sess.run(w), sess.run(b)))\n",
    "            print('loss {}'.format(sess.run(loss)))\n",
    "            print()\n",
    "            \n",
    "    w_out, b_out = sess.run([w, b]) # 9999번째 값"
   ]
  },
  {
   "cell_type": "markdown",
   "metadata": {},
   "source": [
    "#### visualize the result"
   ]
  },
  {
   "cell_type": "code",
   "execution_count": 15,
   "metadata": {},
   "outputs": [
    {
     "data": {
      "image/png": "[encoded data removed]",
      "text/plain": [
       "<Figure size 720x720 with 1 Axes>"
      ]
     },
     "metadata": {
      "needs_background": "light"
     },
     "output_type": "display_data"
    }
   ],
   "source": [
    "plt.figure(figsize = (10, 10))\n",
    "plt.plot(x_data, y_data, 'bo', label='Real data')\n",
    "plt.plot(x_data, x_data * w_out + b_out, 'ro', label='Prediction') # pred\n",
    "plt.legend()\n",
    "plt.show()"
   ]
  },
  {
   "cell_type": "markdown",
   "metadata": {},
   "source": [
    "<br>\n",
    "\n",
    "## 인공 신경망 (Regression with Neural Network)"
   ]
  },
  {
   "cell_type": "markdown",
   "metadata": {},
   "source": [
    "![image](image/KakaoTalk_20210715_131140671.jpg)"
   ]
  },
  {
   "cell_type": "markdown",
   "metadata": {},
   "source": [
    "### ver1. \n",
    "#### 1-1) build the model"
   ]
  },
  {
   "cell_type": "code",
   "execution_count": 21,
   "metadata": {},
   "outputs": [],
   "source": [
    "_x_data = tf.reshape(x_data, [len(x_data), 1]) # 하나의 리스트[506, ] -> 행렬로 차원 변경 [506, 1]\n",
    "\n",
    "W = tf.Variable(tf.random_normal([1, 5], dtype = tf.float64))\n",
    "W_out = tf.Variable(tf.random_normal([5, 1], dtype = tf.float64)) # ouput layer의 열의 수는 정답 데이터(y)의 열의 수\n",
    "\n",
    "# activation func -> hidden layer\n",
    "hidden = tf.nn.sigmoid(tf.matmul(_x_data, W))\n",
    " \n",
    "# hidden layer -> output layer(y)\n",
    "output = tf.matmul(hidden, W_out)"
   ]
  },
  {
   "cell_type": "markdown",
   "metadata": {},
   "source": [
    "#### 1-2) set the criterion"
   ]
  },
  {
   "cell_type": "code",
   "execution_count": 22,
   "metadata": {},
   "outputs": [],
   "source": [
    "loss = tf.reduce_mean(tf.square(output - y_data)) # MSE 직접 작성\n",
    "optimizer = tf.train.GradientDescentOptimizer(0.001) # learning rate(step)\n",
    "train = optimizer.minimize(loss)"
   ]
  },
  {
   "cell_type": "markdown",
   "metadata": {},
   "source": [
    "#### 1-3) train the model"
   ]
  },
  {
   "cell_type": "code",
   "execution_count": 35,
   "metadata": {},
   "outputs": [],
   "source": [
    "with tf.Session() as sess:\n",
    "    sess.run(tf.global_variables_initializer()) # 전체 코드의 tf.Variables criterion 기준 초기화\n",
    "    \n",
    "    for step in range(50000):\n",
    "        sess.run(train)\n",
    "        \n",
    "        if step % 5000 == 0:\n",
    "            print('Setp {} || Loss : {}'.format(step, sess.run(loss)))\n",
    "            \n",
    "    output = sess.run(output)"
   ]
  },
  {
   "cell_type": "markdown",
   "metadata": {},
   "source": [
    "![result](image.png)"
   ]
  },
  {
   "cell_type": "markdown",
   "metadata": {},
   "source": [
    "-> error"
   ]
  },
  {
   "cell_type": "markdown",
   "metadata": {},
   "source": [
    "#### 1-4) visualize the result"
   ]
  },
  {
   "cell_type": "code",
   "execution_count": 27,
   "metadata": {},
   "outputs": [
    {
     "data": {
      "image/png": "[encoded data removed]",
      "text/plain": [
       "<Figure size 720x720 with 1 Axes>"
      ]
     },
     "metadata": {
      "needs_background": "light"
     },
     "output_type": "display_data"
    }
   ],
   "source": [
    "plt.figure(figsize = (10, 10))\n",
    "plt.plot(x_data, y_data, 'bo', label='Real data')\n",
    "plt.plot(x_data, output, 'ro', label='Prediction') # pred\n",
    "plt.legend()\n",
    "plt.show()"
   ]
  },
  {
   "cell_type": "markdown",
   "metadata": {},
   "source": [
    "<br>\n",
    "\n",
    "### ver2. hidden layer 추가\n",
    "#### 2-1) build the model (2 hidden layer)"
   ]
  },
  {
   "cell_type": "code",
   "execution_count": 28,
   "metadata": {},
   "outputs": [],
   "source": [
    "_x_data = tf.reshape(x_data, [len(x_data), 1]) # 하나의 리스트[506, ] -> 행렬로 차원 변경 [506, 1]\n",
    "\n",
    "W1 = tf.Variable(tf.random_normal([1, 5], dtype = tf.float64))\n",
    "W2 = tf.Variable(tf.random_normal([5, 10], dtype = tf.float64))\n",
    "W_out = tf.Variable(tf.random_normal([10, 1], dtype = tf.float64))\n",
    "\n",
    "hidden1 = tf.nn.elu(tf.matmul(_x_data, W1))\n",
    "hidden2 = tf.nn.elu(tf.matmul(hidden1, W2))\n",
    " \n",
    "output = tf.matmul(hidden2, W_out)"
   ]
  },
  {
   "cell_type": "markdown",
   "metadata": {},
   "source": [
    "#### 2-2) set the criterion"
   ]
  },
  {
   "cell_type": "code",
   "execution_count": 31,
   "metadata": {},
   "outputs": [],
   "source": [
    "loss = tf.reduce_mean(tf.square(output - y_data)) # output [506, 1] - y_data [506, ]\n",
    "optimizer = tf.train.AdamOptimizer(0.001)\n",
    "train = optimizer.minimize(loss)"
   ]
  },
  {
   "cell_type": "markdown",
   "metadata": {},
   "source": [
    "#### 2-3) train the model"
   ]
  },
  {
   "cell_type": "code",
   "execution_count": 32,
   "metadata": {},
   "outputs": [
    {
     "name": "stdout",
     "output_type": "stream",
     "text": [
      "Setp 0 || Loss : 3742.106492902594\n",
      "Setp 5000 || Loss : 84.44023160353932\n",
      "Setp 10000 || Loss : 84.42328129730059\n",
      "Setp 15000 || Loss : 84.42003096374305\n",
      "Setp 20000 || Loss : 84.41965968030065\n",
      "Setp 25000 || Loss : 84.4195829437444\n",
      "Setp 30000 || Loss : 84.4195749507798\n",
      "Setp 35000 || Loss : 84.4195781692564\n",
      "Setp 40000 || Loss : 84.41957181707072\n",
      "Setp 45000 || Loss : 84.4195709996405\n"
     ]
    }
   ],
   "source": [
    "with tf.Session() as sess:\n",
    "    sess.run(tf.global_variables_initializer())\n",
    "    \n",
    "    for step in range(50000):\n",
    "        sess.run(train)\n",
    "        \n",
    "        if step % 5000 == 0:\n",
    "            print('Setp {} || Loss : {}'.format(step, sess.run(loss)))\n",
    "            \n",
    "    output = sess.run(output)"
   ]
  },
  {
   "cell_type": "code",
   "execution_count": 33,
   "metadata": {},
   "outputs": [
    {
     "data": {
      "image/png": "[encoded data removed]",
      "text/plain": [
       "<Figure size 720x720 with 1 Axes>"
      ]
     },
     "metadata": {
      "needs_background": "light"
     },
     "output_type": "display_data"
    }
   ],
   "source": [
    "plt.figure(figsize = (10, 10))\n",
    "plt.plot(x_data, y_data, 'bo', label='Real data')\n",
    "plt.plot(x_data, output, 'ro', label='Prediction') # pred\n",
    "plt.legend()\n",
    "plt.show()"
   ]
  },
  {
   "cell_type": "markdown",
   "metadata": {},
   "source": [
    "<br>\n",
    "\n",
    "### ver3. loss 계산 시 행렬 맞춤, MSE 라이브러리\n",
    "#### 3-1) built the model"
   ]
  },
  {
   "cell_type": "code",
   "execution_count": 36,
   "metadata": {},
   "outputs": [],
   "source": [
    "_x_data = tf.reshape(x_data, [len(x_data), 1])\n",
    "_y_data = tf.reshape(y_data, [len(x_data), 1])\n",
    "\n",
    "W1 = tf.Variable(tf.random_normal([1, 5], dtype = tf.float64))\n",
    "W2 = tf.Variable(tf.random_normal([5, 10], dtype = tf.float64))\n",
    "W_out = tf.Variable(tf.random_normal([10, 1], dtype = tf.float64))\n",
    "\n",
    "hidden1 = tf.nn.elu(tf.matmul(_x_data, W1))\n",
    "hidden2 = tf.nn.elu(tf.matmul(hidden1, W2))\n",
    " \n",
    "output = tf.matmul(hidden2, W_out)"
   ]
  },
  {
   "cell_type": "markdown",
   "metadata": {},
   "source": [
    "#### 3-2) set the criterion"
   ]
  },
  {
   "cell_type": "code",
   "execution_count": 39,
   "metadata": {},
   "outputs": [
    {
     "name": "stdout",
     "output_type": "stream",
     "text": [
      "WARNING:tensorflow:From C:\\ProgramData\\Anaconda3\\lib\\site-packages\\tensorflow\\python\\ops\\losses\\losses_impl.py:667: to_float (from tensorflow.python.ops.math_ops) is deprecated and will be removed in a future version.\n",
      "Instructions for updating:\n",
      "Use tf.cast instead.\n"
     ]
    }
   ],
   "source": [
    "loss = tf.losses.mean_squared_error(output, _y_data)\n",
    "optimizer = tf.train.AdamOptimizer(0.001)\n",
    "train = optimizer.minimize(loss)"
   ]
  },
  {
   "cell_type": "markdown",
   "metadata": {},
   "source": [
    "#### 3-3) train the model"
   ]
  },
  {
   "cell_type": "code",
   "execution_count": 40,
   "metadata": {},
   "outputs": [
    {
     "name": "stdout",
     "output_type": "stream",
     "text": [
      "Setp 0 || Loss : 1900.6029052734375\n",
      "Setp 5000 || Loss : 31.276294708251953\n",
      "Setp 10000 || Loss : 26.27071762084961\n",
      "Setp 15000 || Loss : 26.15706443786621\n",
      "Setp 20000 || Loss : 26.108488082885742\n",
      "Setp 25000 || Loss : 26.0991153717041\n",
      "Setp 30000 || Loss : 26.098718643188477\n",
      "Setp 35000 || Loss : 26.098358154296875\n",
      "Setp 40000 || Loss : 26.098079681396484\n",
      "Setp 45000 || Loss : 26.097806930541992\n"
     ]
    }
   ],
   "source": [
    "with tf.Session() as sess:\n",
    "    sess.run(tf.global_variables_initializer())\n",
    "    \n",
    "    for step in range(50000):\n",
    "        sess.run(train)\n",
    "        \n",
    "        if step % 5000 == 0:\n",
    "            print('Setp {} || Loss : {}'.format(step, sess.run(loss)))\n",
    "            \n",
    "    output = sess.run(output)"
   ]
  },
  {
   "cell_type": "markdown",
   "metadata": {},
   "source": [
    "#### 3-4) visualize the result"
   ]
  },
  {
   "cell_type": "code",
   "execution_count": 41,
   "metadata": {},
   "outputs": [
    {
     "data": {
      "image/png": "[encoded data removed]",
      "text/plain": [
       "<Figure size 720x720 with 1 Axes>"
      ]
     },
     "metadata": {
      "needs_background": "light"
     },
     "output_type": "display_data"
    }
   ],
   "source": [
    "plt.figure(figsize = (10, 10))\n",
    "plt.plot(x_data, y_data, 'bo', label='Real data')\n",
    "plt.plot(x_data, output, 'ro', label='Prediction') # pred\n",
    "plt.legend()\n",
    "plt.show()"
   ]
  },
  {
   "cell_type": "markdown",
   "metadata": {},
   "source": [
    "<br>\n",
    "\n",
    "## TensorFlow - Placeholders\n",
    "\n",
    "새로운 데이터에 대한 대응"
   ]
  },
  {
   "cell_type": "code",
   "execution_count": null,
   "metadata": {},
   "outputs": [],
   "source": [
    "# 예)\n",
    "tf.placeholder(tf.int64, shape=(500, 10)) # 행열 수 미리 지정\n",
    "tf.placeholder(tf.int64, shape=(None, 10)) # 행의 수 지정x (권장, batch size 고려) / 열의 수는 고정"
   ]
  }
 ],
 "metadata": {
  "kernelspec": {
   "display_name": "Python 3",
   "language": "python",
   "name": "python3"
  },
  "language_info": {
   "codemirror_mode": {
    "name": "ipython",
    "version": 3
   },
   "file_extension": ".py",
   "mimetype": "text/x-python",
   "name": "python",
   "nbconvert_exporter": "python",
   "pygments_lexer": "ipython3",
   "version": "3.7.3"
  }
 },
 "nbformat": 4,
 "nbformat_minor": 2
}
