{
 "cells": [
  {
   "cell_type": "markdown",
   "metadata": {},
   "source": [
    "# [Tensorflow 2.x]  MNIST"
   ]
  },
  {
   "cell_type": "code",
   "execution_count": 14,
   "metadata": {},
   "outputs": [],
   "source": [
    "import numpy as np\n",
    "import matplotlib.pyplot as plt\n",
    "\n",
    "import tensorflow as tf\n",
    "from tensorflow.keras import datasets, utils\n",
    "from tensorflow.keras import models, layers, activations, initializers, losses, optimizers, metrics\n",
    "\n",
    "import os\n",
    "os.environ['TF_CPP_MIN_LOG_LEVEL'] = '2'"
   ]
  },
  {
   "cell_type": "markdown",
   "metadata": {},
   "source": [
    "<br>\n",
    "\n",
    "### 1. Prepare Train & Test data"
   ]
  },
  {
   "cell_type": "markdown",
   "metadata": {},
   "source": [
    "#### Train & Test split"
   ]
  },
  {
   "cell_type": "code",
   "execution_count": 2,
   "metadata": {},
   "outputs": [],
   "source": [
    "# tf.example.tutorials.datasets\n",
    "# tf.keras.datasets"
   ]
  },
  {
   "cell_type": "code",
   "execution_count": 3,
   "metadata": {},
   "outputs": [
    {
     "name": "stdout",
     "output_type": "stream",
     "text": [
      "(60000, 28, 28)\n",
      "(10000, 28, 28)\n",
      "uint8\n",
      "255\n"
     ]
    }
   ],
   "source": [
    "(train_data, train_label), (test_data, test_label) = datasets.mnist.load_data()\n",
    "\n",
    "print(train_data.shape) # train 60000, each data = 28px * 28px\n",
    "print(test_data.shape) # test 10000\n",
    "print(train_data.dtype) # int\n",
    "print(train_data.max()) # 0~255"
   ]
  },
  {
   "cell_type": "code",
   "execution_count": 4,
   "metadata": {},
   "outputs": [
    {
     "data": {
      "text/plain": [
       "(28, 28)"
      ]
     },
     "execution_count": 4,
     "metadata": {},
     "output_type": "execute_result"
    }
   ],
   "source": [
    "train_data[0].shape # 28px * 28px"
   ]
  },
  {
   "cell_type": "markdown",
   "metadata": {},
   "source": [
    "#### Normalization"
   ]
  },
  {
   "cell_type": "code",
   "execution_count": 5,
   "metadata": {},
   "outputs": [],
   "source": [
    "# (60000, 28*28) -> (60000, 784) 행렬 변환 + scaling (최대가 1이 되도록 최대값으로 나눠줌)\n",
    "train_data = train_data.reshape(60000, 784).astype('float32') / 255.0 # 0~255 -> 0~1\n",
    "test_data = test_data.reshape(10000, 784).astype('float32') / 255.0 # 0~255 -> 0~1"
   ]
  },
  {
   "cell_type": "markdown",
   "metadata": {},
   "source": [
    "#### One-hot encoding"
   ]
  },
  {
   "cell_type": "code",
   "execution_count": 6,
   "metadata": {},
   "outputs": [
    {
     "data": {
      "text/plain": [
       "array([5, 0, 4, 1, 9, 2, 1, 3, 1, 4], dtype=uint8)"
      ]
     },
     "execution_count": 6,
     "metadata": {},
     "output_type": "execute_result"
    }
   ],
   "source": [
    "train_label[:10]"
   ]
  },
  {
   "cell_type": "code",
   "execution_count": 7,
   "metadata": {},
   "outputs": [],
   "source": [
    "# tf.keras.utils\n",
    "train_label = utils.to_categorical(train_label) # 0~9 -> one-hot vector\n",
    "test_label = utils.to_categorical(test_label) # 0~9 -> one-hot vector"
   ]
  },
  {
   "cell_type": "code",
   "execution_count": 8,
   "metadata": {},
   "outputs": [
    {
     "data": {
      "text/plain": [
       "array([0., 0., 0., 0., 0., 1., 0., 0., 0., 0.], dtype=float32)"
      ]
     },
     "execution_count": 8,
     "metadata": {},
     "output_type": "execute_result"
    }
   ],
   "source": [
    "train_label[0, :10]"
   ]
  },
  {
   "cell_type": "markdown",
   "metadata": {},
   "source": [
    "<br>\n",
    "\n",
    "### 2. Build the model & Set the criterion"
   ]
  },
  {
   "cell_type": "code",
   "execution_count": 9,
   "metadata": {},
   "outputs": [],
   "source": [
    "model = models.Sequential()"
   ]
  },
  {
   "cell_type": "code",
   "execution_count": 15,
   "metadata": {},
   "outputs": [],
   "source": [
    "# input_dim: input data의 차원 수(열) -> 지정해줘야함\n",
    "# units: 퍼셉트론 수\n",
    "# activation='활성화함수 타입',\n",
    "# kernel_initializer='theta 초기화 기법' xavier(default)\n",
    "# kernel_regularizer='l1', l2\n",
    "\n",
    "model.add(layers.Dense(input_dim=28*28, units=256, activation=None, kernel_initializer=initializers.he_uniform())) \n",
    "model.add(layers.BatchNormalization())\n",
    "model.add(layers.Activation('relu')) # layers.ELU or layers.LeakyReLU\n",
    "model.add(layers.Dropout(rate=0.2))\n",
    "\n",
    "model.add(layers.Dense(units=256, activation=None, kernel_initializer=initializers.he_uniform())) \n",
    "model.add(layers.BatchNormalization())\n",
    "model.add(layers.Activation('relu')) # layers.ELU or layers.LeakyReLU\n",
    "model.add(layers.Dropout(rate=0.2))\n",
    "\n",
    "model.add(layers.Dense(units=10, activation='softmax')) # 0~9 \n",
    "# (Output) Dense-layer with softmax function, 0~9 -> 10"
   ]
  },
  {
   "cell_type": "code",
   "execution_count": 16,
   "metadata": {},
   "outputs": [
    {
     "data": {
      "text/plain": [
       "<tensorflow.python.keras.optimizers.Adam at 0x23663d54780>"
      ]
     },
     "execution_count": 16,
     "metadata": {},
     "output_type": "execute_result"
    }
   ],
   "source": [
    "from tensorflow.keras import optimizers\n",
    "\n",
    "# learning rate 직접 세팅하여 옵티마이저 생성\n",
    "optimizers.Adam(lr=0.001) # learning rate"
   ]
  },
  {
   "cell_type": "code",
   "execution_count": 17,
   "metadata": {},
   "outputs": [],
   "source": [
    "# 모델 학습 전 세팅\n",
    "model.compile(optimizer='adam', # optimizers.Adam()\n",
    "              loss=losses.categorical_crossentropy,\n",
    "              metrics=[metrics.categorical_accuracy]) # metrics=['accuracy'])\n",
    "# Precision / Recall / F1-Score 등 적용 가능"
   ]
  },
  {
   "cell_type": "markdown",
   "metadata": {},
   "source": [
    "<br>\n",
    "\n",
    "### 3. Train the model"
   ]
  },
  {
   "cell_type": "code",
   "execution_count": 18,
   "metadata": {},
   "outputs": [
    {
     "name": "stdout",
     "output_type": "stream",
     "text": [
      "Train on 48000 samples, validate on 12000 samples\n",
      "Epoch 1/15\n",
      "48000/48000 [==============================] - 10s 216us/sample - loss: 0.0925 - categorical_accuracy: 0.9801 - val_loss: 0.1261 - val_categorical_accuracy: 0.9784\n",
      "Epoch 2/15\n",
      "48000/48000 [==============================] - 9s 179us/sample - loss: 0.0623 - categorical_accuracy: 0.9872 - val_loss: 0.1151 - val_categorical_accuracy: 0.9780\n",
      "Epoch 3/15\n",
      "48000/48000 [==============================] - 9s 181us/sample - loss: 0.0543 - categorical_accuracy: 0.9877 - val_loss: 0.1019 - val_categorical_accuracy: 0.9810\n",
      "Epoch 4/15\n",
      "48000/48000 [==============================] - 9s 190us/sample - loss: 0.0444 - categorical_accuracy: 0.9893 - val_loss: 0.1062 - val_categorical_accuracy: 0.9797\n",
      "Epoch 5/15\n",
      "48000/48000 [==============================] - 9s 182us/sample - loss: 0.0459 - categorical_accuracy: 0.9888 - val_loss: 0.0977 - val_categorical_accuracy: 0.9797\n",
      "Epoch 6/15\n",
      "48000/48000 [==============================] - 9s 181us/sample - loss: 0.0405 - categorical_accuracy: 0.9890 - val_loss: 0.0889 - val_categorical_accuracy: 0.9809\n",
      "Epoch 7/15\n",
      "48000/48000 [==============================] - 9s 187us/sample - loss: 0.0356 - categorical_accuracy: 0.9904 - val_loss: 0.1001 - val_categorical_accuracy: 0.9783\n",
      "Epoch 8/15\n",
      "48000/48000 [==============================] - 8s 166us/sample - loss: 0.0408 - categorical_accuracy: 0.9896 - val_loss: 0.0825 - val_categorical_accuracy: 0.9826\n",
      "Epoch 9/15\n",
      "48000/48000 [==============================] - 8s 166us/sample - loss: 0.0369 - categorical_accuracy: 0.9904 - val_loss: 0.0939 - val_categorical_accuracy: 0.9793\n",
      "Epoch 10/15\n",
      "48000/48000 [==============================] - 8s 169us/sample - loss: 0.0337 - categorical_accuracy: 0.9901 - val_loss: 0.0881 - val_categorical_accuracy: 0.9809\n",
      "Epoch 11/15\n",
      "48000/48000 [==============================] - 8s 167us/sample - loss: 0.0381 - categorical_accuracy: 0.9896 - val_loss: 0.0835 - val_categorical_accuracy: 0.9810\n",
      "Epoch 12/15\n",
      "48000/48000 [==============================] - 9s 178us/sample - loss: 0.0284 - categorical_accuracy: 0.9918 - val_loss: 0.0867 - val_categorical_accuracy: 0.9812\n",
      "Epoch 13/15\n",
      "48000/48000 [==============================] - 8s 176us/sample - loss: 0.0298 - categorical_accuracy: 0.9920 - val_loss: 0.0847 - val_categorical_accuracy: 0.9813\n",
      "Epoch 14/15\n",
      "48000/48000 [==============================] - 8s 166us/sample - loss: 0.0315 - categorical_accuracy: 0.9914 - val_loss: 0.0896 - val_categorical_accuracy: 0.9812\n",
      "Epoch 15/15\n",
      "48000/48000 [==============================] - 8s 175us/sample - loss: 0.0310 - categorical_accuracy: 0.9912 - val_loss: 0.0905 - val_categorical_accuracy: 0.9809\n"
     ]
    }
   ],
   "source": [
    "history = model.fit(train_data, train_label, batch_size=100, epochs=15, validation_split=0.2) "
   ]
  },
  {
   "cell_type": "markdown",
   "metadata": {},
   "source": [
    "<br>\n",
    "\n",
    "### 4. Test the model"
   ]
  },
  {
   "cell_type": "code",
   "execution_count": 19,
   "metadata": {},
   "outputs": [
    {
     "name": "stdout",
     "output_type": "stream",
     "text": [
      "10000/10000 [==============================] - 0s 48us/sample - loss: 0.0834 - categorical_accuracy: 0.9812\n",
      "loss (cross-entropy) : 0.08344285983243026\n",
      "test accuracy : 0.9812\n"
     ]
    }
   ],
   "source": [
    "result = model.evaluate(test_data, test_label, batch_size=100)\n",
    "\n",
    "print('loss (cross-entropy) :', result[0])\n",
    "print('test accuracy :', result[1])"
   ]
  },
  {
   "cell_type": "markdown",
   "metadata": {},
   "source": [
    "<br>\n",
    "\n",
    "### 5. Visualize the result"
   ]
  },
  {
   "cell_type": "code",
   "execution_count": 20,
   "metadata": {},
   "outputs": [
    {
     "data": {
      "text/plain": [
       "dict_keys(['loss', 'categorical_accuracy', 'val_loss', 'val_categorical_accuracy'])"
      ]
     },
     "execution_count": 20,
     "metadata": {},
     "output_type": "execute_result"
    }
   ],
   "source": [
    "history.history.keys()"
   ]
  },
  {
   "cell_type": "code",
   "execution_count": 21,
   "metadata": {},
   "outputs": [
    {
     "data": {
      "image/png": "[encoded data removed]",
      "text/plain": [
       "<Figure size 864x864 with 1 Axes>"
      ]
     },
     "metadata": {
      "needs_background": "light"
     },
     "output_type": "display_data"
    }
   ],
   "source": [
    "val_acc = history.history['val_categorical_accuracy']\n",
    "acc = history.history['categorical_accuracy']\n",
    "\n",
    "x_len = np.arange(len(acc)) # x좌표 직접 생성\n",
    "plt.figure(figsize=(12, 12))\n",
    "plt.plot(x_len, acc, marker='.', c='blue', label=\"Train-set Acc.\")\n",
    "plt.plot(x_len, val_acc, marker='.', c='red', label=\"Validation-set Acc.\")\n",
    "\n",
    "plt.legend(loc='upper right')\n",
    "plt.grid()\n",
    "plt.xlabel('epoch')\n",
    "plt.ylabel('Accuracy')\n",
    "plt.show()"
   ]
  },
  {
   "cell_type": "markdown",
   "metadata": {},
   "source": [
    "overfitting..."
   ]
  }
 ],
 "metadata": {
  "kernelspec": {
   "display_name": "Python 3",
   "language": "python",
   "name": "python3"
  },
  "language_info": {
   "codemirror_mode": {
    "name": "ipython",
    "version": 3
   },
   "file_extension": ".py",
   "mimetype": "text/x-python",
   "name": "python",
   "nbconvert_exporter": "python",
   "pygments_lexer": "ipython3",
   "version": "3.7.3"
  }
 },
 "nbformat": 4,
 "nbformat_minor": 2
}
