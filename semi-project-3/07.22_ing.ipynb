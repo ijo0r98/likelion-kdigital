{
 "cells": [
  {
   "cell_type": "markdown",
   "id": "15770bbe",
   "metadata": {
    "ExecuteTime": {
     "end_time": "2021-07-22T03:38:29.130474Z",
     "start_time": "2021-07-22T03:38:29.117669Z"
    }
   },
   "source": [
    "주차 수요 예측 AI 경진대회 https://dacon.io/competitions/official/235745/overview/description\n",
    "\n",
    "목표 : 🏠 유형별 임대주택 설계 시 단지 내 적정 🅿️ 주차 수요를 예측 (차량등록수)\n",
    "\n",
    "<br>"
   ]
  },
  {
   "cell_type": "code",
   "execution_count": 25,
   "id": "d2ce7430",
   "metadata": {
    "ExecuteTime": {
     "end_time": "2021-07-22T03:59:39.418953Z",
     "start_time": "2021-07-22T03:59:38.573577Z"
    }
   },
   "outputs": [],
   "source": [
    "import warnings\n",
    "warnings.filterwarnings(\"ignore\")\n",
    "\n",
    "import pandas as pd\n",
    "import numpy as np\n",
    "\n",
    "import matplotlib.pyplot as plt\n",
    "%matplotlib inline\n",
    "from matplotlib import rc\n",
    "\n",
    "import seaborn as sns\n",
    "\n",
    "# # Mac 유저\n",
    "rc('font', family='AppleGothic')\n",
    "plt.rcParams['axes.unicode_minus'] = False\n",
    "\n",
    "# Windows 유저\n",
    "# plt.rcParams['font.family'] = 'Malgun Gothic'\n",
    "\n",
    "import missingno as msno"
   ]
  },
  {
   "cell_type": "markdown",
   "id": "953be0a8",
   "metadata": {
    "ExecuteTime": {
     "end_time": "2021-07-22T03:38:42.666965Z",
     "start_time": "2021-07-22T03:38:42.663750Z"
    }
   },
   "source": [
    "<br>\n",
    "\n",
    "# 데이터 분석 및 전처리"
   ]
  },
  {
   "cell_type": "markdown",
   "id": "5949988a",
   "metadata": {},
   "source": [
    "## 데이터셋"
   ]
  },
  {
   "cell_type": "code",
   "execution_count": 4,
   "id": "387590f2",
   "metadata": {
    "ExecuteTime": {
     "end_time": "2021-07-22T03:38:56.683582Z",
     "start_time": "2021-07-22T03:38:56.658555Z"
    }
   },
   "outputs": [],
   "source": [
    "train = pd.read_csv('data/train.csv', encoding='utf-8')\n",
    "test = pd.read_csv('data/test.csv', encoding='utf-8')"
   ]
  },
  {
   "cell_type": "markdown",
   "id": "dbff59cc",
   "metadata": {},
   "source": [
    "<br>\n",
    "\n",
    "## 데이터 분석"
   ]
  },
  {
   "cell_type": "code",
   "execution_count": 5,
   "id": "fa7aa60e",
   "metadata": {
    "ExecuteTime": {
     "end_time": "2021-07-22T03:39:14.785696Z",
     "start_time": "2021-07-22T03:39:14.756995Z"
    }
   },
   "outputs": [
    {
     "data": {
      "text/html": [
       "<div>\n",
       "<style scoped>\n",
       "    .dataframe tbody tr th:only-of-type {\n",
       "        vertical-align: middle;\n",
       "    }\n",
       "\n",
       "    .dataframe tbody tr th {\n",
       "        vertical-align: top;\n",
       "    }\n",
       "\n",
       "    .dataframe thead th {\n",
       "        text-align: right;\n",
       "    }\n",
       "</style>\n",
       "<table border=\"1\" class=\"dataframe\">\n",
       "  <thead>\n",
       "    <tr style=\"text-align: right;\">\n",
       "      <th></th>\n",
       "      <th>단지코드</th>\n",
       "      <th>총세대수</th>\n",
       "      <th>임대건물구분</th>\n",
       "      <th>지역</th>\n",
       "      <th>공급유형</th>\n",
       "      <th>전용면적</th>\n",
       "      <th>전용면적별세대수</th>\n",
       "      <th>공가수</th>\n",
       "      <th>자격유형</th>\n",
       "      <th>임대보증금</th>\n",
       "      <th>임대료</th>\n",
       "      <th>도보 10분거리 내 지하철역 수(환승노선 수 반영)</th>\n",
       "      <th>도보 10분거리 내 버스정류장 수</th>\n",
       "      <th>단지내주차면수</th>\n",
       "      <th>등록차량수</th>\n",
       "    </tr>\n",
       "  </thead>\n",
       "  <tbody>\n",
       "    <tr>\n",
       "      <th>0</th>\n",
       "      <td>C2483</td>\n",
       "      <td>900</td>\n",
       "      <td>아파트</td>\n",
       "      <td>경상북도</td>\n",
       "      <td>국민임대</td>\n",
       "      <td>39.72</td>\n",
       "      <td>134</td>\n",
       "      <td>38.0</td>\n",
       "      <td>A</td>\n",
       "      <td>15667000</td>\n",
       "      <td>103680</td>\n",
       "      <td>0.0</td>\n",
       "      <td>3.0</td>\n",
       "      <td>1425.0</td>\n",
       "      <td>1015.0</td>\n",
       "    </tr>\n",
       "    <tr>\n",
       "      <th>1</th>\n",
       "      <td>C2483</td>\n",
       "      <td>900</td>\n",
       "      <td>아파트</td>\n",
       "      <td>경상북도</td>\n",
       "      <td>국민임대</td>\n",
       "      <td>39.72</td>\n",
       "      <td>15</td>\n",
       "      <td>38.0</td>\n",
       "      <td>A</td>\n",
       "      <td>15667000</td>\n",
       "      <td>103680</td>\n",
       "      <td>0.0</td>\n",
       "      <td>3.0</td>\n",
       "      <td>1425.0</td>\n",
       "      <td>1015.0</td>\n",
       "    </tr>\n",
       "    <tr>\n",
       "      <th>2</th>\n",
       "      <td>C2483</td>\n",
       "      <td>900</td>\n",
       "      <td>아파트</td>\n",
       "      <td>경상북도</td>\n",
       "      <td>국민임대</td>\n",
       "      <td>51.93</td>\n",
       "      <td>385</td>\n",
       "      <td>38.0</td>\n",
       "      <td>A</td>\n",
       "      <td>27304000</td>\n",
       "      <td>184330</td>\n",
       "      <td>0.0</td>\n",
       "      <td>3.0</td>\n",
       "      <td>1425.0</td>\n",
       "      <td>1015.0</td>\n",
       "    </tr>\n",
       "    <tr>\n",
       "      <th>3</th>\n",
       "      <td>C2483</td>\n",
       "      <td>900</td>\n",
       "      <td>아파트</td>\n",
       "      <td>경상북도</td>\n",
       "      <td>국민임대</td>\n",
       "      <td>51.93</td>\n",
       "      <td>15</td>\n",
       "      <td>38.0</td>\n",
       "      <td>A</td>\n",
       "      <td>27304000</td>\n",
       "      <td>184330</td>\n",
       "      <td>0.0</td>\n",
       "      <td>3.0</td>\n",
       "      <td>1425.0</td>\n",
       "      <td>1015.0</td>\n",
       "    </tr>\n",
       "    <tr>\n",
       "      <th>4</th>\n",
       "      <td>C2483</td>\n",
       "      <td>900</td>\n",
       "      <td>아파트</td>\n",
       "      <td>경상북도</td>\n",
       "      <td>국민임대</td>\n",
       "      <td>51.93</td>\n",
       "      <td>41</td>\n",
       "      <td>38.0</td>\n",
       "      <td>A</td>\n",
       "      <td>27304000</td>\n",
       "      <td>184330</td>\n",
       "      <td>0.0</td>\n",
       "      <td>3.0</td>\n",
       "      <td>1425.0</td>\n",
       "      <td>1015.0</td>\n",
       "    </tr>\n",
       "  </tbody>\n",
       "</table>\n",
       "</div>"
      ],
      "text/plain": [
       "    단지코드  총세대수 임대건물구분    지역  공급유형   전용면적  전용면적별세대수   공가수 자격유형     임대보증금  \\\n",
       "0  C2483   900    아파트  경상북도  국민임대  39.72       134  38.0    A  15667000   \n",
       "1  C2483   900    아파트  경상북도  국민임대  39.72        15  38.0    A  15667000   \n",
       "2  C2483   900    아파트  경상북도  국민임대  51.93       385  38.0    A  27304000   \n",
       "3  C2483   900    아파트  경상북도  국민임대  51.93        15  38.0    A  27304000   \n",
       "4  C2483   900    아파트  경상북도  국민임대  51.93        41  38.0    A  27304000   \n",
       "\n",
       "      임대료  도보 10분거리 내 지하철역 수(환승노선 수 반영)  도보 10분거리 내 버스정류장 수  단지내주차면수   등록차량수  \n",
       "0  103680                           0.0                 3.0   1425.0  1015.0  \n",
       "1  103680                           0.0                 3.0   1425.0  1015.0  \n",
       "2  184330                           0.0                 3.0   1425.0  1015.0  \n",
       "3  184330                           0.0                 3.0   1425.0  1015.0  \n",
       "4  184330                           0.0                 3.0   1425.0  1015.0  "
      ]
     },
     "execution_count": 5,
     "metadata": {},
     "output_type": "execute_result"
    }
   ],
   "source": [
    "train.head()"
   ]
  },
  {
   "cell_type": "code",
   "execution_count": 6,
   "id": "6b78d804",
   "metadata": {
    "ExecuteTime": {
     "end_time": "2021-07-22T03:39:43.350097Z",
     "start_time": "2021-07-22T03:39:43.332423Z"
    }
   },
   "outputs": [
    {
     "name": "stdout",
     "output_type": "stream",
     "text": [
      "<class 'pandas.core.frame.DataFrame'>\n",
      "RangeIndex: 2952 entries, 0 to 2951\n",
      "Data columns (total 15 columns):\n",
      " #   Column                        Non-Null Count  Dtype  \n",
      "---  ------                        --------------  -----  \n",
      " 0   단지코드                          2952 non-null   object \n",
      " 1   총세대수                          2952 non-null   int64  \n",
      " 2   임대건물구분                        2952 non-null   object \n",
      " 3   지역                            2952 non-null   object \n",
      " 4   공급유형                          2952 non-null   object \n",
      " 5   전용면적                          2952 non-null   float64\n",
      " 6   전용면적별세대수                      2952 non-null   int64  \n",
      " 7   공가수                           2952 non-null   float64\n",
      " 8   자격유형                          2952 non-null   object \n",
      " 9   임대보증금                         2383 non-null   object \n",
      " 10  임대료                           2383 non-null   object \n",
      " 11  도보 10분거리 내 지하철역 수(환승노선 수 반영)  2741 non-null   float64\n",
      " 12  도보 10분거리 내 버스정류장 수            2948 non-null   float64\n",
      " 13  단지내주차면수                       2952 non-null   float64\n",
      " 14  등록차량수                         2952 non-null   float64\n",
      "dtypes: float64(6), int64(2), object(7)\n",
      "memory usage: 346.1+ KB\n"
     ]
    }
   ],
   "source": [
    "train.info()"
   ]
  },
  {
   "cell_type": "code",
   "execution_count": 7,
   "id": "2eae5c38",
   "metadata": {
    "ExecuteTime": {
     "end_time": "2021-07-22T03:39:49.536591Z",
     "start_time": "2021-07-22T03:39:49.512004Z"
    }
   },
   "outputs": [
    {
     "data": {
      "text/plain": [
       "총세대수                             423\n",
       "임대건물구분                           456\n",
       "지역                               423\n",
       "공급유형                             488\n",
       "전용면적                            1898\n",
       "전용면적별세대수                        2230\n",
       "공가수                              423\n",
       "자격유형                             510\n",
       "임대보증금                           1277\n",
       "임대료                             1289\n",
       "도보 10분거리 내 지하철역 수(환승노선 수 반영)     423\n",
       "도보 10분거리 내 버스정류장 수               423\n",
       "단지내주차면수                          423\n",
       "등록차량수                            423\n",
       "dtype: int64"
      ]
     },
     "execution_count": 7,
     "metadata": {},
     "output_type": "execute_result"
    }
   ],
   "source": [
    "train.groupby(['단지코드']).nunique(dropna=False).sum(axis=0)"
   ]
  },
  {
   "cell_type": "markdown",
   "id": "307c3279",
   "metadata": {},
   "source": [
    "<br>\n",
    "\n",
    "## 데이터 전처리"
   ]
  },
  {
   "cell_type": "markdown",
   "id": "b9da78b0",
   "metadata": {},
   "source": [
    "### 단지코드 중복 해결"
   ]
  },
  {
   "cell_type": "markdown",
   "id": "9dd36a33",
   "metadata": {
    "ExecuteTime": {
     "end_time": "2021-07-22T03:41:52.667804Z",
     "start_time": "2021-07-22T03:41:52.664211Z"
    }
   },
   "source": [
    "<span style='color:red;'/> <b> 하나의 단지코드에 대해 둘 이상의 항목 존재 </b>\n",
    "\n",
    "- 임대건물구분\n",
    "- 공급유형\n",
    "- 자격유형\n",
    "- 전용면적\n",
    "- 전용면적별세대수\n",
    "- 임대보증금\n",
    "- 임대료"
   ]
  },
  {
   "cell_type": "markdown",
   "id": "f60b3c4d",
   "metadata": {},
   "source": [
    "#### 단지코드에 따라 단일값을 가지는 컬럼"
   ]
  },
  {
   "cell_type": "code",
   "execution_count": 8,
   "id": "131da733",
   "metadata": {
    "ExecuteTime": {
     "end_time": "2021-07-22T03:40:47.593094Z",
     "start_time": "2021-07-22T03:40:47.571931Z"
    }
   },
   "outputs": [
    {
     "data": {
      "text/html": [
       "<div>\n",
       "<style scoped>\n",
       "    .dataframe tbody tr th:only-of-type {\n",
       "        vertical-align: middle;\n",
       "    }\n",
       "\n",
       "    .dataframe tbody tr th {\n",
       "        vertical-align: top;\n",
       "    }\n",
       "\n",
       "    .dataframe thead th {\n",
       "        text-align: right;\n",
       "    }\n",
       "</style>\n",
       "<table border=\"1\" class=\"dataframe\">\n",
       "  <thead>\n",
       "    <tr style=\"text-align: right;\">\n",
       "      <th></th>\n",
       "      <th>총세대수</th>\n",
       "      <th>지역</th>\n",
       "      <th>공가수</th>\n",
       "      <th>도보 10분거리 내 지하철역 수(환승노선 수 반영)</th>\n",
       "      <th>도보 10분거리 내 버스정류장 수</th>\n",
       "      <th>단지내주차면수</th>\n",
       "      <th>등록차량수</th>\n",
       "    </tr>\n",
       "    <tr>\n",
       "      <th>단지코드</th>\n",
       "      <th></th>\n",
       "      <th></th>\n",
       "      <th></th>\n",
       "      <th></th>\n",
       "      <th></th>\n",
       "      <th></th>\n",
       "      <th></th>\n",
       "    </tr>\n",
       "  </thead>\n",
       "  <tbody>\n",
       "    <tr>\n",
       "      <th>C2483</th>\n",
       "      <td>900</td>\n",
       "      <td>경상북도</td>\n",
       "      <td>38.0</td>\n",
       "      <td>0.0</td>\n",
       "      <td>3.0</td>\n",
       "      <td>1425.0</td>\n",
       "      <td>1015.0</td>\n",
       "    </tr>\n",
       "    <tr>\n",
       "      <th>C2515</th>\n",
       "      <td>545</td>\n",
       "      <td>경상남도</td>\n",
       "      <td>17.0</td>\n",
       "      <td>0.0</td>\n",
       "      <td>3.0</td>\n",
       "      <td>624.0</td>\n",
       "      <td>205.0</td>\n",
       "    </tr>\n",
       "    <tr>\n",
       "      <th>C1407</th>\n",
       "      <td>1216</td>\n",
       "      <td>대전광역시</td>\n",
       "      <td>13.0</td>\n",
       "      <td>1.0</td>\n",
       "      <td>1.0</td>\n",
       "      <td>1285.0</td>\n",
       "      <td>1064.0</td>\n",
       "    </tr>\n",
       "    <tr>\n",
       "      <th>C1945</th>\n",
       "      <td>755</td>\n",
       "      <td>경기도</td>\n",
       "      <td>6.0</td>\n",
       "      <td>1.0</td>\n",
       "      <td>3.0</td>\n",
       "      <td>734.0</td>\n",
       "      <td>730.0</td>\n",
       "    </tr>\n",
       "    <tr>\n",
       "      <th>C1470</th>\n",
       "      <td>696</td>\n",
       "      <td>전라북도</td>\n",
       "      <td>14.0</td>\n",
       "      <td>0.0</td>\n",
       "      <td>2.0</td>\n",
       "      <td>645.0</td>\n",
       "      <td>553.0</td>\n",
       "    </tr>\n",
       "  </tbody>\n",
       "</table>\n",
       "</div>"
      ],
      "text/plain": [
       "       총세대수     지역   공가수  도보 10분거리 내 지하철역 수(환승노선 수 반영)  도보 10분거리 내 버스정류장 수  \\\n",
       "단지코드                                                                         \n",
       "C2483   900   경상북도  38.0                           0.0                 3.0   \n",
       "C2515   545   경상남도  17.0                           0.0                 3.0   \n",
       "C1407  1216  대전광역시  13.0                           1.0                 1.0   \n",
       "C1945   755    경기도   6.0                           1.0                 3.0   \n",
       "C1470   696   전라북도  14.0                           0.0                 2.0   \n",
       "\n",
       "       단지내주차면수   등록차량수  \n",
       "단지코드                    \n",
       "C2483   1425.0  1015.0  \n",
       "C2515    624.0   205.0  \n",
       "C1407   1285.0  1064.0  \n",
       "C1945    734.0   730.0  \n",
       "C1470    645.0   553.0  "
      ]
     },
     "execution_count": 8,
     "metadata": {},
     "output_type": "execute_result"
    }
   ],
   "source": [
    "unique_cols = ['총세대수', '지역', '공가수', '도보 10분거리 내 지하철역 수(환승노선 수 반영)', '도보 10분거리 내 버스정류장 수', '단지내주차면수', '등록차량수']\n",
    "train_new = train.set_index('단지코드')[unique_cols].drop_duplicates()\n",
    "train_new.head()"
   ]
  },
  {
   "cell_type": "code",
   "execution_count": 10,
   "id": "9f14b74b",
   "metadata": {
    "ExecuteTime": {
     "end_time": "2021-07-22T03:43:14.800836Z",
     "start_time": "2021-07-22T03:43:14.796416Z"
    }
   },
   "outputs": [
    {
     "data": {
      "text/plain": [
       "423"
      ]
     },
     "execution_count": 10,
     "metadata": {},
     "output_type": "execute_result"
    }
   ],
   "source": [
    "len(train_new)"
   ]
  },
  {
   "cell_type": "markdown",
   "id": "7729b473",
   "metadata": {},
   "source": [
    "<br>\n",
    "\n",
    "#### 임대건물구분"
   ]
  },
  {
   "cell_type": "code",
   "execution_count": 11,
   "id": "6a07c2cd",
   "metadata": {
    "ExecuteTime": {
     "end_time": "2021-07-22T03:44:20.668553Z",
     "start_time": "2021-07-22T03:44:20.665111Z"
    }
   },
   "outputs": [],
   "source": [
    "# 하나의 단지코드에 여러 값이 있는 카테고리열(임대건물구분) 피벗테이블 생성\n",
    "def reshape_building_cat(df, cat_col, val_col):\n",
    "    return df.drop_duplicates(['단지코드', cat_col]).assign(counter=1).pivot(index='단지코드', columns=cat_col, values=val_col).fillna(0)"
   ]
  },
  {
   "cell_type": "code",
   "execution_count": 12,
   "id": "552aa0ef",
   "metadata": {
    "ExecuteTime": {
     "end_time": "2021-07-22T03:44:31.082658Z",
     "start_time": "2021-07-22T03:44:31.065079Z"
    }
   },
   "outputs": [
    {
     "data": {
      "text/html": [
       "<div>\n",
       "<style scoped>\n",
       "    .dataframe tbody tr th:only-of-type {\n",
       "        vertical-align: middle;\n",
       "    }\n",
       "\n",
       "    .dataframe tbody tr th {\n",
       "        vertical-align: top;\n",
       "    }\n",
       "\n",
       "    .dataframe thead th {\n",
       "        text-align: right;\n",
       "    }\n",
       "</style>\n",
       "<table border=\"1\" class=\"dataframe\">\n",
       "  <thead>\n",
       "    <tr style=\"text-align: right;\">\n",
       "      <th>임대건물구분</th>\n",
       "      <th>상가</th>\n",
       "      <th>아파트</th>\n",
       "    </tr>\n",
       "    <tr>\n",
       "      <th>단지코드</th>\n",
       "      <th></th>\n",
       "      <th></th>\n",
       "    </tr>\n",
       "  </thead>\n",
       "  <tbody>\n",
       "    <tr>\n",
       "      <th>C1000</th>\n",
       "      <td>0</td>\n",
       "      <td>1</td>\n",
       "    </tr>\n",
       "    <tr>\n",
       "      <th>C1004</th>\n",
       "      <td>1</td>\n",
       "      <td>1</td>\n",
       "    </tr>\n",
       "    <tr>\n",
       "      <th>C1005</th>\n",
       "      <td>0</td>\n",
       "      <td>1</td>\n",
       "    </tr>\n",
       "    <tr>\n",
       "      <th>C1013</th>\n",
       "      <td>0</td>\n",
       "      <td>1</td>\n",
       "    </tr>\n",
       "    <tr>\n",
       "      <th>C1014</th>\n",
       "      <td>0</td>\n",
       "      <td>1</td>\n",
       "    </tr>\n",
       "  </tbody>\n",
       "</table>\n",
       "</div>"
      ],
      "text/plain": [
       "임대건물구분  상가  아파트\n",
       "단지코드           \n",
       "C1000    0    1\n",
       "C1004    1    1\n",
       "C1005    0    1\n",
       "C1013    0    1\n",
       "C1014    0    1"
      ]
     },
     "execution_count": 12,
     "metadata": {},
     "output_type": "execute_result"
    }
   ],
   "source": [
    "categorized_df1 = reshape_building_cat(train, '임대건물구분', '임대건물구분').replace(['상가', '아파트'], 1)\n",
    "categorized_df1.head()"
   ]
  },
  {
   "cell_type": "code",
   "execution_count": 13,
   "id": "4cadc551",
   "metadata": {
    "ExecuteTime": {
     "end_time": "2021-07-22T03:46:24.196000Z",
     "start_time": "2021-07-22T03:46:24.192071Z"
    }
   },
   "outputs": [],
   "source": [
    "def add_building_column(df, df_new):\n",
    "    categorized_df1 = reshape_building_cat(df, '임대건물구분', '임대건물구분').replace(['상가', '아파트'], 1)\n",
    "    df_new = df_new.join(categorized_df1)\n",
    "    df_new.rename(columns={'상가': '임대건물구분_상가', '아파트': '임대건물구분_아파트'}, inplace=True)\n",
    "    return df_new"
   ]
  },
  {
   "cell_type": "code",
   "execution_count": 14,
   "id": "c0c5de2b",
   "metadata": {
    "ExecuteTime": {
     "end_time": "2021-07-22T03:46:39.129011Z",
     "start_time": "2021-07-22T03:46:39.103307Z"
    }
   },
   "outputs": [
    {
     "data": {
      "text/html": [
       "<div>\n",
       "<style scoped>\n",
       "    .dataframe tbody tr th:only-of-type {\n",
       "        vertical-align: middle;\n",
       "    }\n",
       "\n",
       "    .dataframe tbody tr th {\n",
       "        vertical-align: top;\n",
       "    }\n",
       "\n",
       "    .dataframe thead th {\n",
       "        text-align: right;\n",
       "    }\n",
       "</style>\n",
       "<table border=\"1\" class=\"dataframe\">\n",
       "  <thead>\n",
       "    <tr style=\"text-align: right;\">\n",
       "      <th></th>\n",
       "      <th>총세대수</th>\n",
       "      <th>지역</th>\n",
       "      <th>공가수</th>\n",
       "      <th>도보 10분거리 내 지하철역 수(환승노선 수 반영)</th>\n",
       "      <th>도보 10분거리 내 버스정류장 수</th>\n",
       "      <th>단지내주차면수</th>\n",
       "      <th>등록차량수</th>\n",
       "      <th>임대건물구분_상가</th>\n",
       "      <th>임대건물구분_아파트</th>\n",
       "    </tr>\n",
       "    <tr>\n",
       "      <th>단지코드</th>\n",
       "      <th></th>\n",
       "      <th></th>\n",
       "      <th></th>\n",
       "      <th></th>\n",
       "      <th></th>\n",
       "      <th></th>\n",
       "      <th></th>\n",
       "      <th></th>\n",
       "      <th></th>\n",
       "    </tr>\n",
       "  </thead>\n",
       "  <tbody>\n",
       "    <tr>\n",
       "      <th>C2483</th>\n",
       "      <td>900</td>\n",
       "      <td>경상북도</td>\n",
       "      <td>38.0</td>\n",
       "      <td>0.0</td>\n",
       "      <td>3.0</td>\n",
       "      <td>1425.0</td>\n",
       "      <td>1015.0</td>\n",
       "      <td>0</td>\n",
       "      <td>1</td>\n",
       "    </tr>\n",
       "    <tr>\n",
       "      <th>C2515</th>\n",
       "      <td>545</td>\n",
       "      <td>경상남도</td>\n",
       "      <td>17.0</td>\n",
       "      <td>0.0</td>\n",
       "      <td>3.0</td>\n",
       "      <td>624.0</td>\n",
       "      <td>205.0</td>\n",
       "      <td>0</td>\n",
       "      <td>1</td>\n",
       "    </tr>\n",
       "    <tr>\n",
       "      <th>C1407</th>\n",
       "      <td>1216</td>\n",
       "      <td>대전광역시</td>\n",
       "      <td>13.0</td>\n",
       "      <td>1.0</td>\n",
       "      <td>1.0</td>\n",
       "      <td>1285.0</td>\n",
       "      <td>1064.0</td>\n",
       "      <td>0</td>\n",
       "      <td>1</td>\n",
       "    </tr>\n",
       "    <tr>\n",
       "      <th>C1945</th>\n",
       "      <td>755</td>\n",
       "      <td>경기도</td>\n",
       "      <td>6.0</td>\n",
       "      <td>1.0</td>\n",
       "      <td>3.0</td>\n",
       "      <td>734.0</td>\n",
       "      <td>730.0</td>\n",
       "      <td>0</td>\n",
       "      <td>1</td>\n",
       "    </tr>\n",
       "    <tr>\n",
       "      <th>C1470</th>\n",
       "      <td>696</td>\n",
       "      <td>전라북도</td>\n",
       "      <td>14.0</td>\n",
       "      <td>0.0</td>\n",
       "      <td>2.0</td>\n",
       "      <td>645.0</td>\n",
       "      <td>553.0</td>\n",
       "      <td>0</td>\n",
       "      <td>1</td>\n",
       "    </tr>\n",
       "  </tbody>\n",
       "</table>\n",
       "</div>"
      ],
      "text/plain": [
       "       총세대수     지역   공가수  도보 10분거리 내 지하철역 수(환승노선 수 반영)  도보 10분거리 내 버스정류장 수  \\\n",
       "단지코드                                                                         \n",
       "C2483   900   경상북도  38.0                           0.0                 3.0   \n",
       "C2515   545   경상남도  17.0                           0.0                 3.0   \n",
       "C1407  1216  대전광역시  13.0                           1.0                 1.0   \n",
       "C1945   755    경기도   6.0                           1.0                 3.0   \n",
       "C1470   696   전라북도  14.0                           0.0                 2.0   \n",
       "\n",
       "       단지내주차면수   등록차량수  임대건물구분_상가  임대건물구분_아파트  \n",
       "단지코드                                           \n",
       "C2483   1425.0  1015.0          0           1  \n",
       "C2515    624.0   205.0          0           1  \n",
       "C1407   1285.0  1064.0          0           1  \n",
       "C1945    734.0   730.0          0           1  \n",
       "C1470    645.0   553.0          0           1  "
      ]
     },
     "execution_count": 14,
     "metadata": {},
     "output_type": "execute_result"
    }
   ],
   "source": [
    "train_new = add_building_column(train, train_new)\n",
    "train_new.head()"
   ]
  },
  {
   "cell_type": "markdown",
   "id": "18e3ec9a",
   "metadata": {},
   "source": [
    "<br>\n",
    "\n",
    "#### 공급유형, 자격유형"
   ]
  },
  {
   "cell_type": "code",
   "execution_count": 15,
   "id": "c1f79398",
   "metadata": {
    "ExecuteTime": {
     "end_time": "2021-07-22T03:47:07.705921Z",
     "start_time": "2021-07-22T03:47:07.458269Z"
    }
   },
   "outputs": [
    {
     "data": {
      "text/html": [
       "<style type=\"text/css\">\n",
       "#T_b05c1_row0_col0, #T_b05c1_row0_col1, #T_b05c1_row0_col2, #T_b05c1_row0_col4, #T_b05c1_row0_col5, #T_b05c1_row0_col6, #T_b05c1_row0_col7, #T_b05c1_row0_col8, #T_b05c1_row0_col9, #T_b05c1_row0_col10, #T_b05c1_row0_col11, #T_b05c1_row0_col12, #T_b05c1_row0_col13, #T_b05c1_row0_col14, #T_b05c1_row0_col15, #T_b05c1_row1_col1, #T_b05c1_row1_col2, #T_b05c1_row1_col3, #T_b05c1_row1_col4, #T_b05c1_row1_col5, #T_b05c1_row1_col6, #T_b05c1_row1_col7, #T_b05c1_row1_col8, #T_b05c1_row1_col9, #T_b05c1_row1_col10, #T_b05c1_row1_col11, #T_b05c1_row1_col12, #T_b05c1_row1_col13, #T_b05c1_row1_col14, #T_b05c1_row2_col1, #T_b05c1_row2_col2, #T_b05c1_row2_col3, #T_b05c1_row2_col4, #T_b05c1_row2_col5, #T_b05c1_row2_col6, #T_b05c1_row2_col7, #T_b05c1_row2_col8, #T_b05c1_row2_col9, #T_b05c1_row2_col10, #T_b05c1_row2_col11, #T_b05c1_row2_col12, #T_b05c1_row2_col13, #T_b05c1_row2_col14, #T_b05c1_row3_col0, #T_b05c1_row3_col1, #T_b05c1_row3_col2, #T_b05c1_row3_col3, #T_b05c1_row3_col4, #T_b05c1_row3_col5, #T_b05c1_row3_col6, #T_b05c1_row3_col7, #T_b05c1_row3_col8, #T_b05c1_row3_col9, #T_b05c1_row3_col10, #T_b05c1_row3_col11, #T_b05c1_row3_col12, #T_b05c1_row3_col13, #T_b05c1_row3_col14, #T_b05c1_row3_col15, #T_b05c1_row4_col1, #T_b05c1_row4_col2, #T_b05c1_row4_col3, #T_b05c1_row4_col4, #T_b05c1_row4_col5, #T_b05c1_row4_col6, #T_b05c1_row4_col7, #T_b05c1_row4_col8, #T_b05c1_row4_col9, #T_b05c1_row4_col10, #T_b05c1_row4_col11, #T_b05c1_row4_col12, #T_b05c1_row4_col13, #T_b05c1_row4_col14, #T_b05c1_row4_col15, #T_b05c1_row5_col2, #T_b05c1_row5_col3, #T_b05c1_row5_col5, #T_b05c1_row5_col8, #T_b05c1_row5_col9, #T_b05c1_row5_col10, #T_b05c1_row5_col11, #T_b05c1_row5_col12, #T_b05c1_row5_col13, #T_b05c1_row5_col14, #T_b05c1_row6_col0, #T_b05c1_row6_col1, #T_b05c1_row6_col3, #T_b05c1_row6_col6, #T_b05c1_row6_col7, #T_b05c1_row6_col9, #T_b05c1_row6_col10, #T_b05c1_row6_col11, #T_b05c1_row6_col12, #T_b05c1_row6_col13, #T_b05c1_row6_col14, #T_b05c1_row7_col0, #T_b05c1_row7_col1, #T_b05c1_row7_col2, #T_b05c1_row7_col4, #T_b05c1_row7_col5, #T_b05c1_row7_col6, #T_b05c1_row7_col7, #T_b05c1_row7_col8, #T_b05c1_row7_col9, #T_b05c1_row7_col10, #T_b05c1_row7_col11, #T_b05c1_row7_col12, #T_b05c1_row7_col13, #T_b05c1_row7_col14, #T_b05c1_row8_col1, #T_b05c1_row8_col2, #T_b05c1_row8_col3, #T_b05c1_row8_col4, #T_b05c1_row8_col5, #T_b05c1_row8_col6, #T_b05c1_row8_col7, #T_b05c1_row8_col8, #T_b05c1_row8_col9, #T_b05c1_row8_col10, #T_b05c1_row8_col11, #T_b05c1_row8_col12, #T_b05c1_row8_col13, #T_b05c1_row8_col14, #T_b05c1_row8_col15, #T_b05c1_row9_col0, #T_b05c1_row9_col1, #T_b05c1_row9_col2, #T_b05c1_row9_col3, #T_b05c1_row9_col4, #T_b05c1_row9_col5, #T_b05c1_row9_col6, #T_b05c1_row9_col7, #T_b05c1_row9_col8 {\n",
       "  background-color: #3b4cc0;\n",
       "  color: #f1f1f1;\n",
       "}\n",
       "#T_b05c1_row0_col3 {\n",
       "  background-color: #3e51c5;\n",
       "  color: #f1f1f1;\n",
       "}\n",
       "#T_b05c1_row1_col0 {\n",
       "  background-color: #5e7de7;\n",
       "  color: #f1f1f1;\n",
       "}\n",
       "#T_b05c1_row1_col15 {\n",
       "  background-color: #4f69d9;\n",
       "  color: #f1f1f1;\n",
       "}\n",
       "#T_b05c1_row2_col0 {\n",
       "  background-color: #3f53c6;\n",
       "  color: #f1f1f1;\n",
       "}\n",
       "#T_b05c1_row2_col15 {\n",
       "  background-color: #3d50c3;\n",
       "  color: #f1f1f1;\n",
       "}\n",
       "#T_b05c1_row4_col0, #T_b05c1_row8_col0 {\n",
       "  background-color: #3c4ec2;\n",
       "  color: #f1f1f1;\n",
       "}\n",
       "#T_b05c1_row5_col0 {\n",
       "  background-color: #e36b54;\n",
       "  color: #f1f1f1;\n",
       "}\n",
       "#T_b05c1_row5_col1, #T_b05c1_row5_col6, #T_b05c1_row5_col7, #T_b05c1_row6_col2, #T_b05c1_row6_col5, #T_b05c1_row6_col8, #T_b05c1_row9_col9, #T_b05c1_row9_col10, #T_b05c1_row9_col11, #T_b05c1_row9_col12, #T_b05c1_row9_col13, #T_b05c1_row9_col14, #T_b05c1_row10_col0, #T_b05c1_row10_col1, #T_b05c1_row10_col2, #T_b05c1_row10_col3, #T_b05c1_row10_col4, #T_b05c1_row10_col5, #T_b05c1_row10_col6, #T_b05c1_row10_col7, #T_b05c1_row10_col8, #T_b05c1_row10_col9, #T_b05c1_row10_col10, #T_b05c1_row10_col11, #T_b05c1_row10_col12, #T_b05c1_row10_col13, #T_b05c1_row10_col14, #T_b05c1_row10_col15 {\n",
       "  background-color: #b40426;\n",
       "  color: #f1f1f1;\n",
       "}\n",
       "#T_b05c1_row5_col4 {\n",
       "  background-color: #d0473d;\n",
       "  color: #f1f1f1;\n",
       "}\n",
       "#T_b05c1_row5_col15 {\n",
       "  background-color: #f1ccb8;\n",
       "  color: #000000;\n",
       "}\n",
       "#T_b05c1_row6_col4 {\n",
       "  background-color: #536edd;\n",
       "  color: #f1f1f1;\n",
       "}\n",
       "#T_b05c1_row6_col15 {\n",
       "  background-color: #4961d2;\n",
       "  color: #f1f1f1;\n",
       "}\n",
       "#T_b05c1_row7_col3 {\n",
       "  background-color: #b8122a;\n",
       "  color: #f1f1f1;\n",
       "}\n",
       "#T_b05c1_row7_col15 {\n",
       "  background-color: #779af7;\n",
       "  color: #f1f1f1;\n",
       "}\n",
       "#T_b05c1_row9_col15 {\n",
       "  background-color: #506bda;\n",
       "  color: #f1f1f1;\n",
       "}\n",
       "</style>\n",
       "<table id=\"T_b05c1_\">\n",
       "  <thead>\n",
       "    <tr>\n",
       "      <th class=\"index_name level0\" >자격유형</th>\n",
       "      <th class=\"col_heading level0 col0\" >A</th>\n",
       "      <th class=\"col_heading level0 col1\" >B</th>\n",
       "      <th class=\"col_heading level0 col2\" >C</th>\n",
       "      <th class=\"col_heading level0 col3\" >D</th>\n",
       "      <th class=\"col_heading level0 col4\" >E</th>\n",
       "      <th class=\"col_heading level0 col5\" >F</th>\n",
       "      <th class=\"col_heading level0 col6\" >G</th>\n",
       "      <th class=\"col_heading level0 col7\" >H</th>\n",
       "      <th class=\"col_heading level0 col8\" >I</th>\n",
       "      <th class=\"col_heading level0 col9\" >J</th>\n",
       "      <th class=\"col_heading level0 col10\" >K</th>\n",
       "      <th class=\"col_heading level0 col11\" >L</th>\n",
       "      <th class=\"col_heading level0 col12\" >M</th>\n",
       "      <th class=\"col_heading level0 col13\" >N</th>\n",
       "      <th class=\"col_heading level0 col14\" >O</th>\n",
       "      <th class=\"col_heading level0 col15\" >All</th>\n",
       "    </tr>\n",
       "    <tr>\n",
       "      <th class=\"index_name level0\" >공급유형</th>\n",
       "      <th class=\"blank col0\" >&nbsp;</th>\n",
       "      <th class=\"blank col1\" >&nbsp;</th>\n",
       "      <th class=\"blank col2\" >&nbsp;</th>\n",
       "      <th class=\"blank col3\" >&nbsp;</th>\n",
       "      <th class=\"blank col4\" >&nbsp;</th>\n",
       "      <th class=\"blank col5\" >&nbsp;</th>\n",
       "      <th class=\"blank col6\" >&nbsp;</th>\n",
       "      <th class=\"blank col7\" >&nbsp;</th>\n",
       "      <th class=\"blank col8\" >&nbsp;</th>\n",
       "      <th class=\"blank col9\" >&nbsp;</th>\n",
       "      <th class=\"blank col10\" >&nbsp;</th>\n",
       "      <th class=\"blank col11\" >&nbsp;</th>\n",
       "      <th class=\"blank col12\" >&nbsp;</th>\n",
       "      <th class=\"blank col13\" >&nbsp;</th>\n",
       "      <th class=\"blank col14\" >&nbsp;</th>\n",
       "      <th class=\"blank col15\" >&nbsp;</th>\n",
       "    </tr>\n",
       "  </thead>\n",
       "  <tbody>\n",
       "    <tr>\n",
       "      <th id=\"T_b05c1_level0_row0\" class=\"row_heading level0 row0\" >공공분양</th>\n",
       "      <td id=\"T_b05c1_row0_col0\" class=\"data row0 col0\" >0</td>\n",
       "      <td id=\"T_b05c1_row0_col1\" class=\"data row0 col1\" >0</td>\n",
       "      <td id=\"T_b05c1_row0_col2\" class=\"data row0 col2\" >0</td>\n",
       "      <td id=\"T_b05c1_row0_col3\" class=\"data row0 col3\" >7</td>\n",
       "      <td id=\"T_b05c1_row0_col4\" class=\"data row0 col4\" >0</td>\n",
       "      <td id=\"T_b05c1_row0_col5\" class=\"data row0 col5\" >0</td>\n",
       "      <td id=\"T_b05c1_row0_col6\" class=\"data row0 col6\" >0</td>\n",
       "      <td id=\"T_b05c1_row0_col7\" class=\"data row0 col7\" >0</td>\n",
       "      <td id=\"T_b05c1_row0_col8\" class=\"data row0 col8\" >0</td>\n",
       "      <td id=\"T_b05c1_row0_col9\" class=\"data row0 col9\" >0</td>\n",
       "      <td id=\"T_b05c1_row0_col10\" class=\"data row0 col10\" >0</td>\n",
       "      <td id=\"T_b05c1_row0_col11\" class=\"data row0 col11\" >0</td>\n",
       "      <td id=\"T_b05c1_row0_col12\" class=\"data row0 col12\" >0</td>\n",
       "      <td id=\"T_b05c1_row0_col13\" class=\"data row0 col13\" >0</td>\n",
       "      <td id=\"T_b05c1_row0_col14\" class=\"data row0 col14\" >0</td>\n",
       "      <td id=\"T_b05c1_row0_col15\" class=\"data row0 col15\" >7</td>\n",
       "    </tr>\n",
       "    <tr>\n",
       "      <th id=\"T_b05c1_level0_row1\" class=\"row_heading level0 row1\" >공공임대(10년)</th>\n",
       "      <td id=\"T_b05c1_row1_col0\" class=\"data row1 col0\" >205</td>\n",
       "      <td id=\"T_b05c1_row1_col1\" class=\"data row1 col1\" >0</td>\n",
       "      <td id=\"T_b05c1_row1_col2\" class=\"data row1 col2\" >0</td>\n",
       "      <td id=\"T_b05c1_row1_col3\" class=\"data row1 col3\" >0</td>\n",
       "      <td id=\"T_b05c1_row1_col4\" class=\"data row1 col4\" >0</td>\n",
       "      <td id=\"T_b05c1_row1_col5\" class=\"data row1 col5\" >0</td>\n",
       "      <td id=\"T_b05c1_row1_col6\" class=\"data row1 col6\" >0</td>\n",
       "      <td id=\"T_b05c1_row1_col7\" class=\"data row1 col7\" >0</td>\n",
       "      <td id=\"T_b05c1_row1_col8\" class=\"data row1 col8\" >0</td>\n",
       "      <td id=\"T_b05c1_row1_col9\" class=\"data row1 col9\" >0</td>\n",
       "      <td id=\"T_b05c1_row1_col10\" class=\"data row1 col10\" >0</td>\n",
       "      <td id=\"T_b05c1_row1_col11\" class=\"data row1 col11\" >0</td>\n",
       "      <td id=\"T_b05c1_row1_col12\" class=\"data row1 col12\" >0</td>\n",
       "      <td id=\"T_b05c1_row1_col13\" class=\"data row1 col13\" >0</td>\n",
       "      <td id=\"T_b05c1_row1_col14\" class=\"data row1 col14\" >0</td>\n",
       "      <td id=\"T_b05c1_row1_col15\" class=\"data row1 col15\" >205</td>\n",
       "    </tr>\n",
       "    <tr>\n",
       "      <th id=\"T_b05c1_level0_row2\" class=\"row_heading level0 row2\" >공공임대(50년)</th>\n",
       "      <td id=\"T_b05c1_row2_col0\" class=\"data row2 col0\" >31</td>\n",
       "      <td id=\"T_b05c1_row2_col1\" class=\"data row2 col1\" >0</td>\n",
       "      <td id=\"T_b05c1_row2_col2\" class=\"data row2 col2\" >0</td>\n",
       "      <td id=\"T_b05c1_row2_col3\" class=\"data row2 col3\" >0</td>\n",
       "      <td id=\"T_b05c1_row2_col4\" class=\"data row2 col4\" >0</td>\n",
       "      <td id=\"T_b05c1_row2_col5\" class=\"data row2 col5\" >0</td>\n",
       "      <td id=\"T_b05c1_row2_col6\" class=\"data row2 col6\" >0</td>\n",
       "      <td id=\"T_b05c1_row2_col7\" class=\"data row2 col7\" >0</td>\n",
       "      <td id=\"T_b05c1_row2_col8\" class=\"data row2 col8\" >0</td>\n",
       "      <td id=\"T_b05c1_row2_col9\" class=\"data row2 col9\" >0</td>\n",
       "      <td id=\"T_b05c1_row2_col10\" class=\"data row2 col10\" >0</td>\n",
       "      <td id=\"T_b05c1_row2_col11\" class=\"data row2 col11\" >0</td>\n",
       "      <td id=\"T_b05c1_row2_col12\" class=\"data row2 col12\" >0</td>\n",
       "      <td id=\"T_b05c1_row2_col13\" class=\"data row2 col13\" >0</td>\n",
       "      <td id=\"T_b05c1_row2_col14\" class=\"data row2 col14\" >0</td>\n",
       "      <td id=\"T_b05c1_row2_col15\" class=\"data row2 col15\" >31</td>\n",
       "    </tr>\n",
       "    <tr>\n",
       "      <th id=\"T_b05c1_level0_row3\" class=\"row_heading level0 row3\" >공공임대(5년)</th>\n",
       "      <td id=\"T_b05c1_row3_col0\" class=\"data row3 col0\" >3</td>\n",
       "      <td id=\"T_b05c1_row3_col1\" class=\"data row3 col1\" >0</td>\n",
       "      <td id=\"T_b05c1_row3_col2\" class=\"data row3 col2\" >0</td>\n",
       "      <td id=\"T_b05c1_row3_col3\" class=\"data row3 col3\" >0</td>\n",
       "      <td id=\"T_b05c1_row3_col4\" class=\"data row3 col4\" >0</td>\n",
       "      <td id=\"T_b05c1_row3_col5\" class=\"data row3 col5\" >0</td>\n",
       "      <td id=\"T_b05c1_row3_col6\" class=\"data row3 col6\" >0</td>\n",
       "      <td id=\"T_b05c1_row3_col7\" class=\"data row3 col7\" >0</td>\n",
       "      <td id=\"T_b05c1_row3_col8\" class=\"data row3 col8\" >0</td>\n",
       "      <td id=\"T_b05c1_row3_col9\" class=\"data row3 col9\" >0</td>\n",
       "      <td id=\"T_b05c1_row3_col10\" class=\"data row3 col10\" >0</td>\n",
       "      <td id=\"T_b05c1_row3_col11\" class=\"data row3 col11\" >0</td>\n",
       "      <td id=\"T_b05c1_row3_col12\" class=\"data row3 col12\" >0</td>\n",
       "      <td id=\"T_b05c1_row3_col13\" class=\"data row3 col13\" >0</td>\n",
       "      <td id=\"T_b05c1_row3_col14\" class=\"data row3 col14\" >0</td>\n",
       "      <td id=\"T_b05c1_row3_col15\" class=\"data row3 col15\" >3</td>\n",
       "    </tr>\n",
       "    <tr>\n",
       "      <th id=\"T_b05c1_level0_row4\" class=\"row_heading level0 row4\" >공공임대(분납)</th>\n",
       "      <td id=\"T_b05c1_row4_col0\" class=\"data row4 col0\" >12</td>\n",
       "      <td id=\"T_b05c1_row4_col1\" class=\"data row4 col1\" >0</td>\n",
       "      <td id=\"T_b05c1_row4_col2\" class=\"data row4 col2\" >0</td>\n",
       "      <td id=\"T_b05c1_row4_col3\" class=\"data row4 col3\" >0</td>\n",
       "      <td id=\"T_b05c1_row4_col4\" class=\"data row4 col4\" >0</td>\n",
       "      <td id=\"T_b05c1_row4_col5\" class=\"data row4 col5\" >0</td>\n",
       "      <td id=\"T_b05c1_row4_col6\" class=\"data row4 col6\" >0</td>\n",
       "      <td id=\"T_b05c1_row4_col7\" class=\"data row4 col7\" >0</td>\n",
       "      <td id=\"T_b05c1_row4_col8\" class=\"data row4 col8\" >0</td>\n",
       "      <td id=\"T_b05c1_row4_col9\" class=\"data row4 col9\" >0</td>\n",
       "      <td id=\"T_b05c1_row4_col10\" class=\"data row4 col10\" >0</td>\n",
       "      <td id=\"T_b05c1_row4_col11\" class=\"data row4 col11\" >0</td>\n",
       "      <td id=\"T_b05c1_row4_col12\" class=\"data row4 col12\" >0</td>\n",
       "      <td id=\"T_b05c1_row4_col13\" class=\"data row4 col13\" >0</td>\n",
       "      <td id=\"T_b05c1_row4_col14\" class=\"data row4 col14\" >0</td>\n",
       "      <td id=\"T_b05c1_row4_col15\" class=\"data row4 col15\" >12</td>\n",
       "    </tr>\n",
       "    <tr>\n",
       "      <th id=\"T_b05c1_level0_row5\" class=\"row_heading level0 row5\" >국민임대</th>\n",
       "      <td id=\"T_b05c1_row5_col0\" class=\"data row5 col0\" >1539</td>\n",
       "      <td id=\"T_b05c1_row5_col1\" class=\"data row5 col1\" >21</td>\n",
       "      <td id=\"T_b05c1_row5_col2\" class=\"data row5 col2\" >0</td>\n",
       "      <td id=\"T_b05c1_row5_col3\" class=\"data row5 col3\" >0</td>\n",
       "      <td id=\"T_b05c1_row5_col4\" class=\"data row5 col4\" >34</td>\n",
       "      <td id=\"T_b05c1_row5_col5\" class=\"data row5 col5\" >0</td>\n",
       "      <td id=\"T_b05c1_row5_col6\" class=\"data row5 col6\" >9</td>\n",
       "      <td id=\"T_b05c1_row5_col7\" class=\"data row5 col7\" >155</td>\n",
       "      <td id=\"T_b05c1_row5_col8\" class=\"data row5 col8\" >0</td>\n",
       "      <td id=\"T_b05c1_row5_col9\" class=\"data row5 col9\" >0</td>\n",
       "      <td id=\"T_b05c1_row5_col10\" class=\"data row5 col10\" >0</td>\n",
       "      <td id=\"T_b05c1_row5_col11\" class=\"data row5 col11\" >0</td>\n",
       "      <td id=\"T_b05c1_row5_col12\" class=\"data row5 col12\" >0</td>\n",
       "      <td id=\"T_b05c1_row5_col13\" class=\"data row5 col13\" >0</td>\n",
       "      <td id=\"T_b05c1_row5_col14\" class=\"data row5 col14\" >0</td>\n",
       "      <td id=\"T_b05c1_row5_col15\" class=\"data row5 col15\" >1758</td>\n",
       "    </tr>\n",
       "    <tr>\n",
       "      <th id=\"T_b05c1_level0_row6\" class=\"row_heading level0 row6\" >영구임대</th>\n",
       "      <td id=\"T_b05c1_row6_col0\" class=\"data row6 col0\" >2</td>\n",
       "      <td id=\"T_b05c1_row6_col1\" class=\"data row6 col1\" >0</td>\n",
       "      <td id=\"T_b05c1_row6_col2\" class=\"data row6 col2\" >95</td>\n",
       "      <td id=\"T_b05c1_row6_col3\" class=\"data row6 col3\" >0</td>\n",
       "      <td id=\"T_b05c1_row6_col4\" class=\"data row6 col4\" >3</td>\n",
       "      <td id=\"T_b05c1_row6_col5\" class=\"data row6 col5\" >3</td>\n",
       "      <td id=\"T_b05c1_row6_col6\" class=\"data row6 col6\" >0</td>\n",
       "      <td id=\"T_b05c1_row6_col7\" class=\"data row6 col7\" >0</td>\n",
       "      <td id=\"T_b05c1_row6_col8\" class=\"data row6 col8\" >49</td>\n",
       "      <td id=\"T_b05c1_row6_col9\" class=\"data row6 col9\" >0</td>\n",
       "      <td id=\"T_b05c1_row6_col10\" class=\"data row6 col10\" >0</td>\n",
       "      <td id=\"T_b05c1_row6_col11\" class=\"data row6 col11\" >0</td>\n",
       "      <td id=\"T_b05c1_row6_col12\" class=\"data row6 col12\" >0</td>\n",
       "      <td id=\"T_b05c1_row6_col13\" class=\"data row6 col13\" >0</td>\n",
       "      <td id=\"T_b05c1_row6_col14\" class=\"data row6 col14\" >0</td>\n",
       "      <td id=\"T_b05c1_row6_col15\" class=\"data row6 col15\" >152</td>\n",
       "    </tr>\n",
       "    <tr>\n",
       "      <th id=\"T_b05c1_level0_row7\" class=\"row_heading level0 row7\" >임대상가</th>\n",
       "      <td id=\"T_b05c1_row7_col0\" class=\"data row7 col0\" >0</td>\n",
       "      <td id=\"T_b05c1_row7_col1\" class=\"data row7 col1\" >0</td>\n",
       "      <td id=\"T_b05c1_row7_col2\" class=\"data row7 col2\" >0</td>\n",
       "      <td id=\"T_b05c1_row7_col3\" class=\"data row7 col3\" >562</td>\n",
       "      <td id=\"T_b05c1_row7_col4\" class=\"data row7 col4\" >0</td>\n",
       "      <td id=\"T_b05c1_row7_col5\" class=\"data row7 col5\" >0</td>\n",
       "      <td id=\"T_b05c1_row7_col6\" class=\"data row7 col6\" >0</td>\n",
       "      <td id=\"T_b05c1_row7_col7\" class=\"data row7 col7\" >0</td>\n",
       "      <td id=\"T_b05c1_row7_col8\" class=\"data row7 col8\" >0</td>\n",
       "      <td id=\"T_b05c1_row7_col9\" class=\"data row7 col9\" >0</td>\n",
       "      <td id=\"T_b05c1_row7_col10\" class=\"data row7 col10\" >0</td>\n",
       "      <td id=\"T_b05c1_row7_col11\" class=\"data row7 col11\" >0</td>\n",
       "      <td id=\"T_b05c1_row7_col12\" class=\"data row7 col12\" >0</td>\n",
       "      <td id=\"T_b05c1_row7_col13\" class=\"data row7 col13\" >0</td>\n",
       "      <td id=\"T_b05c1_row7_col14\" class=\"data row7 col14\" >0</td>\n",
       "      <td id=\"T_b05c1_row7_col15\" class=\"data row7 col15\" >562</td>\n",
       "    </tr>\n",
       "    <tr>\n",
       "      <th id=\"T_b05c1_level0_row8\" class=\"row_heading level0 row8\" >장기전세</th>\n",
       "      <td id=\"T_b05c1_row8_col0\" class=\"data row8 col0\" >9</td>\n",
       "      <td id=\"T_b05c1_row8_col1\" class=\"data row8 col1\" >0</td>\n",
       "      <td id=\"T_b05c1_row8_col2\" class=\"data row8 col2\" >0</td>\n",
       "      <td id=\"T_b05c1_row8_col3\" class=\"data row8 col3\" >0</td>\n",
       "      <td id=\"T_b05c1_row8_col4\" class=\"data row8 col4\" >0</td>\n",
       "      <td id=\"T_b05c1_row8_col5\" class=\"data row8 col5\" >0</td>\n",
       "      <td id=\"T_b05c1_row8_col6\" class=\"data row8 col6\" >0</td>\n",
       "      <td id=\"T_b05c1_row8_col7\" class=\"data row8 col7\" >0</td>\n",
       "      <td id=\"T_b05c1_row8_col8\" class=\"data row8 col8\" >0</td>\n",
       "      <td id=\"T_b05c1_row8_col9\" class=\"data row8 col9\" >0</td>\n",
       "      <td id=\"T_b05c1_row8_col10\" class=\"data row8 col10\" >0</td>\n",
       "      <td id=\"T_b05c1_row8_col11\" class=\"data row8 col11\" >0</td>\n",
       "      <td id=\"T_b05c1_row8_col12\" class=\"data row8 col12\" >0</td>\n",
       "      <td id=\"T_b05c1_row8_col13\" class=\"data row8 col13\" >0</td>\n",
       "      <td id=\"T_b05c1_row8_col14\" class=\"data row8 col14\" >0</td>\n",
       "      <td id=\"T_b05c1_row8_col15\" class=\"data row8 col15\" >9</td>\n",
       "    </tr>\n",
       "    <tr>\n",
       "      <th id=\"T_b05c1_level0_row9\" class=\"row_heading level0 row9\" >행복주택</th>\n",
       "      <td id=\"T_b05c1_row9_col0\" class=\"data row9 col0\" >0</td>\n",
       "      <td id=\"T_b05c1_row9_col1\" class=\"data row9 col1\" >0</td>\n",
       "      <td id=\"T_b05c1_row9_col2\" class=\"data row9 col2\" >0</td>\n",
       "      <td id=\"T_b05c1_row9_col3\" class=\"data row9 col3\" >0</td>\n",
       "      <td id=\"T_b05c1_row9_col4\" class=\"data row9 col4\" >0</td>\n",
       "      <td id=\"T_b05c1_row9_col5\" class=\"data row9 col5\" >0</td>\n",
       "      <td id=\"T_b05c1_row9_col6\" class=\"data row9 col6\" >0</td>\n",
       "      <td id=\"T_b05c1_row9_col7\" class=\"data row9 col7\" >0</td>\n",
       "      <td id=\"T_b05c1_row9_col8\" class=\"data row9 col8\" >0</td>\n",
       "      <td id=\"T_b05c1_row9_col9\" class=\"data row9 col9\" >114</td>\n",
       "      <td id=\"T_b05c1_row9_col10\" class=\"data row9 col10\" >33</td>\n",
       "      <td id=\"T_b05c1_row9_col11\" class=\"data row9 col11\" >33</td>\n",
       "      <td id=\"T_b05c1_row9_col12\" class=\"data row9 col12\" >2</td>\n",
       "      <td id=\"T_b05c1_row9_col13\" class=\"data row9 col13\" >30</td>\n",
       "      <td id=\"T_b05c1_row9_col14\" class=\"data row9 col14\" >1</td>\n",
       "      <td id=\"T_b05c1_row9_col15\" class=\"data row9 col15\" >213</td>\n",
       "    </tr>\n",
       "    <tr>\n",
       "      <th id=\"T_b05c1_level0_row10\" class=\"row_heading level0 row10\" >All</th>\n",
       "      <td id=\"T_b05c1_row10_col0\" class=\"data row10 col0\" >1801</td>\n",
       "      <td id=\"T_b05c1_row10_col1\" class=\"data row10 col1\" >21</td>\n",
       "      <td id=\"T_b05c1_row10_col2\" class=\"data row10 col2\" >95</td>\n",
       "      <td id=\"T_b05c1_row10_col3\" class=\"data row10 col3\" >569</td>\n",
       "      <td id=\"T_b05c1_row10_col4\" class=\"data row10 col4\" >37</td>\n",
       "      <td id=\"T_b05c1_row10_col5\" class=\"data row10 col5\" >3</td>\n",
       "      <td id=\"T_b05c1_row10_col6\" class=\"data row10 col6\" >9</td>\n",
       "      <td id=\"T_b05c1_row10_col7\" class=\"data row10 col7\" >155</td>\n",
       "      <td id=\"T_b05c1_row10_col8\" class=\"data row10 col8\" >49</td>\n",
       "      <td id=\"T_b05c1_row10_col9\" class=\"data row10 col9\" >114</td>\n",
       "      <td id=\"T_b05c1_row10_col10\" class=\"data row10 col10\" >33</td>\n",
       "      <td id=\"T_b05c1_row10_col11\" class=\"data row10 col11\" >33</td>\n",
       "      <td id=\"T_b05c1_row10_col12\" class=\"data row10 col12\" >2</td>\n",
       "      <td id=\"T_b05c1_row10_col13\" class=\"data row10 col13\" >30</td>\n",
       "      <td id=\"T_b05c1_row10_col14\" class=\"data row10 col14\" >1</td>\n",
       "      <td id=\"T_b05c1_row10_col15\" class=\"data row10 col15\" >2952</td>\n",
       "    </tr>\n",
       "  </tbody>\n",
       "</table>\n"
      ],
      "text/plain": [
       "<pandas.io.formats.style.Styler at 0x10309af70>"
      ]
     },
     "execution_count": 15,
     "metadata": {},
     "output_type": "execute_result"
    }
   ],
   "source": [
    "# 공급유형 & 자격유형 관계\n",
    "pd.crosstab(train['공급유형'], train['자격유형'] , margins = True).style.background_gradient(cmap = 'coolwarm')"
   ]
  },
  {
   "cell_type": "code",
   "execution_count": 16,
   "id": "ba3f4922",
   "metadata": {
    "ExecuteTime": {
     "end_time": "2021-07-22T03:48:37.364223Z",
     "start_time": "2021-07-22T03:48:37.360397Z"
    }
   },
   "outputs": [],
   "source": [
    "# 공공임대(10년), 공공임대(50년), 공공임대(5년), 공공임대(분납) -> 공공임대\n",
    "def merge_type_cat(type):\n",
    "    if type.startswith('A_공공임대'):\n",
    "        return 'A_공공임대'\n",
    "    else:\n",
    "        return type"
   ]
  },
  {
   "cell_type": "code",
   "execution_count": 20,
   "id": "c237b452",
   "metadata": {
    "ExecuteTime": {
     "end_time": "2021-07-22T03:53:49.008922Z",
     "start_time": "2021-07-22T03:53:49.002613Z"
    }
   },
   "outputs": [],
   "source": [
    "# 자격_공급 유형 컬럼 추가\n",
    "def add_new_type(df):\n",
    "    df['자격_공급'] = df['자격유형'] + '_' + df['공급유형']\n",
    "    return df"
   ]
  },
  {
   "cell_type": "code",
   "execution_count": 23,
   "id": "525c5d26",
   "metadata": {
    "ExecuteTime": {
     "end_time": "2021-07-22T03:55:00.817366Z",
     "start_time": "2021-07-22T03:55:00.814900Z"
    }
   },
   "outputs": [],
   "source": [
    "train = add_new_type(train)\n",
    "type_lists = list(train['자격_공급'].unique()) # 전역(train/test)"
   ]
  },
  {
   "cell_type": "code",
   "execution_count": 22,
   "id": "330692d6",
   "metadata": {
    "ExecuteTime": {
     "end_time": "2021-07-22T03:54:50.543628Z",
     "start_time": "2021-07-22T03:54:50.539231Z"
    }
   },
   "outputs": [],
   "source": [
    "# 중복 제거된 데이터프레임에 자격_공급 카테고리 컬럼 추가\n",
    "def add_type_column(df, df_new):\n",
    "\n",
    "    # df_new - 자격_공급 유형 새로운 열 추가\n",
    "    for type in type_lists:\n",
    "        df_new[type]=0\n",
    "\n",
    "    for code in df_new.index:\n",
    "        for type in type_lists:\n",
    "            df_new[type][code] = len(df[(df['자격_공급']==type) & (df['단지코드']==code)])\n",
    "            \n",
    "    return df_new"
   ]
  },
  {
   "cell_type": "code",
   "execution_count": 24,
   "id": "ddd3b2f8",
   "metadata": {
    "ExecuteTime": {
     "end_time": "2021-07-22T03:55:27.816588Z",
     "start_time": "2021-07-22T03:55:23.630194Z"
    }
   },
   "outputs": [
    {
     "data": {
      "text/html": [
       "<div>\n",
       "<style scoped>\n",
       "    .dataframe tbody tr th:only-of-type {\n",
       "        vertical-align: middle;\n",
       "    }\n",
       "\n",
       "    .dataframe tbody tr th {\n",
       "        vertical-align: top;\n",
       "    }\n",
       "\n",
       "    .dataframe thead th {\n",
       "        text-align: right;\n",
       "    }\n",
       "</style>\n",
       "<table border=\"1\" class=\"dataframe\">\n",
       "  <thead>\n",
       "    <tr style=\"text-align: right;\">\n",
       "      <th></th>\n",
       "      <th>총세대수</th>\n",
       "      <th>지역</th>\n",
       "      <th>공가수</th>\n",
       "      <th>도보 10분거리 내 지하철역 수(환승노선 수 반영)</th>\n",
       "      <th>도보 10분거리 내 버스정류장 수</th>\n",
       "      <th>단지내주차면수</th>\n",
       "      <th>등록차량수</th>\n",
       "      <th>임대건물구분_상가</th>\n",
       "      <th>임대건물구분_아파트</th>\n",
       "      <th>A_국민임대</th>\n",
       "      <th>...</th>\n",
       "      <th>I_영구임대</th>\n",
       "      <th>D_공공분양</th>\n",
       "      <th>A_영구임대</th>\n",
       "      <th>J_행복주택</th>\n",
       "      <th>K_행복주택</th>\n",
       "      <th>L_행복주택</th>\n",
       "      <th>A_공공임대(5년)</th>\n",
       "      <th>M_행복주택</th>\n",
       "      <th>N_행복주택</th>\n",
       "      <th>O_행복주택</th>\n",
       "    </tr>\n",
       "    <tr>\n",
       "      <th>단지코드</th>\n",
       "      <th></th>\n",
       "      <th></th>\n",
       "      <th></th>\n",
       "      <th></th>\n",
       "      <th></th>\n",
       "      <th></th>\n",
       "      <th></th>\n",
       "      <th></th>\n",
       "      <th></th>\n",
       "      <th></th>\n",
       "      <th></th>\n",
       "      <th></th>\n",
       "      <th></th>\n",
       "      <th></th>\n",
       "      <th></th>\n",
       "      <th></th>\n",
       "      <th></th>\n",
       "      <th></th>\n",
       "      <th></th>\n",
       "      <th></th>\n",
       "      <th></th>\n",
       "    </tr>\n",
       "  </thead>\n",
       "  <tbody>\n",
       "    <tr>\n",
       "      <th>C2483</th>\n",
       "      <td>900</td>\n",
       "      <td>경상북도</td>\n",
       "      <td>38.0</td>\n",
       "      <td>0.0</td>\n",
       "      <td>3.0</td>\n",
       "      <td>1425.0</td>\n",
       "      <td>1015.0</td>\n",
       "      <td>0</td>\n",
       "      <td>1</td>\n",
       "      <td>8</td>\n",
       "      <td>...</td>\n",
       "      <td>0</td>\n",
       "      <td>0</td>\n",
       "      <td>0</td>\n",
       "      <td>0</td>\n",
       "      <td>0</td>\n",
       "      <td>0</td>\n",
       "      <td>0</td>\n",
       "      <td>0</td>\n",
       "      <td>0</td>\n",
       "      <td>0</td>\n",
       "    </tr>\n",
       "    <tr>\n",
       "      <th>C2515</th>\n",
       "      <td>545</td>\n",
       "      <td>경상남도</td>\n",
       "      <td>17.0</td>\n",
       "      <td>0.0</td>\n",
       "      <td>3.0</td>\n",
       "      <td>624.0</td>\n",
       "      <td>205.0</td>\n",
       "      <td>0</td>\n",
       "      <td>1</td>\n",
       "      <td>7</td>\n",
       "      <td>...</td>\n",
       "      <td>0</td>\n",
       "      <td>0</td>\n",
       "      <td>0</td>\n",
       "      <td>0</td>\n",
       "      <td>0</td>\n",
       "      <td>0</td>\n",
       "      <td>0</td>\n",
       "      <td>0</td>\n",
       "      <td>0</td>\n",
       "      <td>0</td>\n",
       "    </tr>\n",
       "    <tr>\n",
       "      <th>C1407</th>\n",
       "      <td>1216</td>\n",
       "      <td>대전광역시</td>\n",
       "      <td>13.0</td>\n",
       "      <td>1.0</td>\n",
       "      <td>1.0</td>\n",
       "      <td>1285.0</td>\n",
       "      <td>1064.0</td>\n",
       "      <td>0</td>\n",
       "      <td>1</td>\n",
       "      <td>11</td>\n",
       "      <td>...</td>\n",
       "      <td>0</td>\n",
       "      <td>0</td>\n",
       "      <td>0</td>\n",
       "      <td>0</td>\n",
       "      <td>0</td>\n",
       "      <td>0</td>\n",
       "      <td>0</td>\n",
       "      <td>0</td>\n",
       "      <td>0</td>\n",
       "      <td>0</td>\n",
       "    </tr>\n",
       "    <tr>\n",
       "      <th>C1945</th>\n",
       "      <td>755</td>\n",
       "      <td>경기도</td>\n",
       "      <td>6.0</td>\n",
       "      <td>1.0</td>\n",
       "      <td>3.0</td>\n",
       "      <td>734.0</td>\n",
       "      <td>730.0</td>\n",
       "      <td>0</td>\n",
       "      <td>1</td>\n",
       "      <td>0</td>\n",
       "      <td>...</td>\n",
       "      <td>0</td>\n",
       "      <td>0</td>\n",
       "      <td>0</td>\n",
       "      <td>0</td>\n",
       "      <td>0</td>\n",
       "      <td>0</td>\n",
       "      <td>0</td>\n",
       "      <td>0</td>\n",
       "      <td>0</td>\n",
       "      <td>0</td>\n",
       "    </tr>\n",
       "    <tr>\n",
       "      <th>C1470</th>\n",
       "      <td>696</td>\n",
       "      <td>전라북도</td>\n",
       "      <td>14.0</td>\n",
       "      <td>0.0</td>\n",
       "      <td>2.0</td>\n",
       "      <td>645.0</td>\n",
       "      <td>553.0</td>\n",
       "      <td>0</td>\n",
       "      <td>1</td>\n",
       "      <td>4</td>\n",
       "      <td>...</td>\n",
       "      <td>0</td>\n",
       "      <td>0</td>\n",
       "      <td>0</td>\n",
       "      <td>0</td>\n",
       "      <td>0</td>\n",
       "      <td>0</td>\n",
       "      <td>0</td>\n",
       "      <td>0</td>\n",
       "      <td>0</td>\n",
       "      <td>0</td>\n",
       "    </tr>\n",
       "  </tbody>\n",
       "</table>\n",
       "<p>5 rows × 32 columns</p>\n",
       "</div>"
      ],
      "text/plain": [
       "       총세대수     지역   공가수  도보 10분거리 내 지하철역 수(환승노선 수 반영)  도보 10분거리 내 버스정류장 수  \\\n",
       "단지코드                                                                         \n",
       "C2483   900   경상북도  38.0                           0.0                 3.0   \n",
       "C2515   545   경상남도  17.0                           0.0                 3.0   \n",
       "C1407  1216  대전광역시  13.0                           1.0                 1.0   \n",
       "C1945   755    경기도   6.0                           1.0                 3.0   \n",
       "C1470   696   전라북도  14.0                           0.0                 2.0   \n",
       "\n",
       "       단지내주차면수   등록차량수  임대건물구분_상가  임대건물구분_아파트  A_국민임대  ...  I_영구임대  D_공공분양  \\\n",
       "단지코드                                                   ...                   \n",
       "C2483   1425.0  1015.0          0           1       8  ...       0       0   \n",
       "C2515    624.0   205.0          0           1       7  ...       0       0   \n",
       "C1407   1285.0  1064.0          0           1      11  ...       0       0   \n",
       "C1945    734.0   730.0          0           1       0  ...       0       0   \n",
       "C1470    645.0   553.0          0           1       4  ...       0       0   \n",
       "\n",
       "       A_영구임대  J_행복주택  K_행복주택  L_행복주택  A_공공임대(5년)  M_행복주택  N_행복주택  O_행복주택  \n",
       "단지코드                                                                       \n",
       "C2483       0       0       0       0           0       0       0       0  \n",
       "C2515       0       0       0       0           0       0       0       0  \n",
       "C1407       0       0       0       0           0       0       0       0  \n",
       "C1945       0       0       0       0           0       0       0       0  \n",
       "C1470       0       0       0       0           0       0       0       0  \n",
       "\n",
       "[5 rows x 32 columns]"
      ]
     },
     "execution_count": 24,
     "metadata": {},
     "output_type": "execute_result"
    }
   ],
   "source": [
    "train_new = add_type_column(train, train_new)\n",
    "train_new.head()"
   ]
  },
  {
   "cell_type": "markdown",
   "id": "8626a3fd",
   "metadata": {},
   "source": [
    "<br>\n",
    "\n",
    "#### 전용면적"
   ]
  },
  {
   "cell_type": "code",
   "execution_count": null,
   "id": "1882e0c9",
   "metadata": {},
   "outputs": [],
   "source": [
    "def"
   ]
  },
  {
   "cell_type": "code",
   "execution_count": null,
   "id": "21910e23",
   "metadata": {},
   "outputs": [],
   "source": []
  },
  {
   "cell_type": "markdown",
   "id": "a4eb61cd",
   "metadata": {},
   "source": [
    "<br>\n",
    "\n",
    "#### 전용면적별 세대수"
   ]
  },
  {
   "cell_type": "code",
   "execution_count": null,
   "id": "35dfc714",
   "metadata": {},
   "outputs": [],
   "source": []
  },
  {
   "cell_type": "code",
   "execution_count": null,
   "id": "c139c3de",
   "metadata": {},
   "outputs": [],
   "source": []
  },
  {
   "cell_type": "code",
   "execution_count": null,
   "id": "d79e607f",
   "metadata": {},
   "outputs": [],
   "source": []
  },
  {
   "cell_type": "markdown",
   "id": "253f70e2",
   "metadata": {},
   "source": [
    "<br>\n",
    "\n",
    "#### 임대료"
   ]
  },
  {
   "cell_type": "code",
   "execution_count": null,
   "id": "c5fbc63c",
   "metadata": {},
   "outputs": [],
   "source": []
  },
  {
   "cell_type": "code",
   "execution_count": null,
   "id": "0f01c65c",
   "metadata": {},
   "outputs": [],
   "source": []
  },
  {
   "cell_type": "code",
   "execution_count": null,
   "id": "a5359c5d",
   "metadata": {},
   "outputs": [],
   "source": []
  },
  {
   "cell_type": "markdown",
   "id": "0180ccd0",
   "metadata": {},
   "source": [
    "<br>\n",
    "\n",
    "#### 임대보증금"
   ]
  },
  {
   "cell_type": "code",
   "execution_count": null,
   "id": "b6b7d3ca",
   "metadata": {},
   "outputs": [],
   "source": []
  },
  {
   "cell_type": "code",
   "execution_count": null,
   "id": "77b2192e",
   "metadata": {},
   "outputs": [],
   "source": []
  },
  {
   "cell_type": "markdown",
   "id": "e170ae50",
   "metadata": {},
   "source": [
    "<br>\n",
    "\n",
    "### 결측치 제거"
   ]
  },
  {
   "cell_type": "code",
   "execution_count": null,
   "id": "a7ec1112",
   "metadata": {},
   "outputs": [],
   "source": [
    "train_copy = train.copy()\n",
    "train = train_new"
   ]
  },
  {
   "cell_type": "code",
   "execution_count": null,
   "id": "493843df",
   "metadata": {},
   "outputs": [],
   "source": [
    "msno.matrix(train, figsize=(15,10))"
   ]
  },
  {
   "cell_type": "code",
   "execution_count": null,
   "id": "a161db36",
   "metadata": {},
   "outputs": [],
   "source": [
    "msno.heatmap(train)"
   ]
  },
  {
   "cell_type": "code",
   "execution_count": null,
   "id": "2ca23d82",
   "metadata": {},
   "outputs": [],
   "source": [
    "train.isnull().sum()"
   ]
  },
  {
   "cell_type": "markdown",
   "id": "84b440c6",
   "metadata": {},
   "source": [
    "#### 도보 10분거리 내 지하철역 수(환승노선 수 반영)"
   ]
  },
  {
   "cell_type": "code",
   "execution_count": null,
   "id": "2f61894c",
   "metadata": {},
   "outputs": [],
   "source": [
    "train['도보 10분거리 내 지하철역 수(환승노선 수 반영)'].fillna(0, inplace=True)\n",
    "train['도보 10분거리 내 지하철역 수(환승노선 수 반영)'].isnull().sum()"
   ]
  },
  {
   "cell_type": "code",
   "execution_count": null,
   "id": "6e58fb14",
   "metadata": {},
   "outputs": [],
   "source": []
  },
  {
   "cell_type": "code",
   "execution_count": null,
   "id": "98eea198",
   "metadata": {},
   "outputs": [],
   "source": []
  },
  {
   "cell_type": "markdown",
   "id": "2a41d9ba",
   "metadata": {},
   "source": [
    "<br>\n",
    "\n",
    "### 추가자료"
   ]
  },
  {
   "cell_type": "markdown",
   "id": "6f04b56a",
   "metadata": {},
   "source": [
    "#### 2020년_12월_자동차_등록자료_통계.xlsx"
   ]
  },
  {
   "cell_type": "markdown",
   "id": "c035f722",
   "metadata": {},
   "source": [
    "https://www.index.go.kr/potal/main/EachDtlPageDetail.do?idx_cd=1257"
   ]
  },
  {
   "cell_type": "markdown",
   "id": "ae46359a",
   "metadata": {},
   "source": [
    "지역별 인구수와 자동차 등록 통계자료 이용하여 지역 점수 부과"
   ]
  },
  {
   "cell_type": "code",
   "execution_count": null,
   "id": "903a2c38",
   "metadata": {},
   "outputs": [],
   "source": [
    "# 추가자료 - 2020년 12월 자동차 등록 통계자료\n",
    "car = pd.read_excel('data/자동차_등록자료_통계.xlsx', index_col='구분')\n",
    "car = car.iloc[:,:16]\n",
    "car.head()"
   ]
  },
  {
   "cell_type": "code",
   "execution_count": null,
   "id": "5a4efa3d",
   "metadata": {},
   "outputs": [],
   "source": [
    "# dacon 제공자료 - 지역별 & 성별 & 연령별 인구 데이터\n",
    "age = pd.read_csv('data/age_gender_info.csv', encoding='utf-8',index_col = '지역')\n",
    "age.head()"
   ]
  },
  {
   "cell_type": "code",
   "execution_count": null,
   "id": "bcff8863",
   "metadata": {},
   "outputs": [],
   "source": [
    "temp_lst = set()\n",
    "\n",
    "for x in car.columns:\n",
    "    temp_lst.add(x)\n",
    "    \n",
    "temp_lst = list(temp_lst)\n",
    "temp_lst.sort()\n",
    "\n",
    "np.score = np.array(age.sort_index()) * np.array(car.transpose().sort_index())\n",
    "df_score = pd.DataFrame(np.score)\n",
    "df_score['지역'] = temp_lst\n",
    "df_score['지역점수'] = df_score.transpose().iloc[:22,:].sum().transpose()"
   ]
  },
  {
   "cell_type": "code",
   "execution_count": null,
   "id": "4045b0b2",
   "metadata": {},
   "outputs": [],
   "source": [
    "df_score[['지역', '지역점수', 0, 1, 2, 3, 4, 5, 6, 7, 8, 9]].head()"
   ]
  },
  {
   "cell_type": "code",
   "execution_count": null,
   "id": "3b151610",
   "metadata": {},
   "outputs": [],
   "source": [
    "df_score = df_score[['지역', '지역점수']]\n",
    "\n",
    "train = pd.merge(train, df_score, how='left', on='지역')\n",
    "test = pd.merge(test, df_score, how='left', on='지역')"
   ]
  },
  {
   "cell_type": "code",
   "execution_count": null,
   "id": "b84ef57e",
   "metadata": {},
   "outputs": [],
   "source": [
    "train.head()"
   ]
  },
  {
   "cell_type": "code",
   "execution_count": null,
   "id": "cd00e8f7",
   "metadata": {},
   "outputs": [],
   "source": []
  },
  {
   "cell_type": "code",
   "execution_count": null,
   "id": "8f4bceb8",
   "metadata": {},
   "outputs": [],
   "source": []
  },
  {
   "cell_type": "code",
   "execution_count": null,
   "id": "43cb3dbe",
   "metadata": {},
   "outputs": [],
   "source": []
  },
  {
   "cell_type": "markdown",
   "id": "d6d221d5",
   "metadata": {},
   "source": [
    "<br>\n",
    "\n",
    "## 테스트 데이터 전처리"
   ]
  },
  {
   "cell_type": "code",
   "execution_count": 29,
   "id": "27880c68",
   "metadata": {
    "ExecuteTime": {
     "end_time": "2021-07-22T04:05:02.299783Z",
     "start_time": "2021-07-22T04:05:02.279508Z"
    }
   },
   "outputs": [
    {
     "data": {
      "text/html": [
       "<div>\n",
       "<style scoped>\n",
       "    .dataframe tbody tr th:only-of-type {\n",
       "        vertical-align: middle;\n",
       "    }\n",
       "\n",
       "    .dataframe tbody tr th {\n",
       "        vertical-align: top;\n",
       "    }\n",
       "\n",
       "    .dataframe thead th {\n",
       "        text-align: right;\n",
       "    }\n",
       "</style>\n",
       "<table border=\"1\" class=\"dataframe\">\n",
       "  <thead>\n",
       "    <tr style=\"text-align: right;\">\n",
       "      <th></th>\n",
       "      <th>단지코드</th>\n",
       "      <th>총세대수</th>\n",
       "      <th>임대건물구분</th>\n",
       "      <th>지역</th>\n",
       "      <th>공급유형</th>\n",
       "      <th>전용면적</th>\n",
       "      <th>전용면적별세대수</th>\n",
       "      <th>공가수</th>\n",
       "      <th>자격유형</th>\n",
       "      <th>임대보증금</th>\n",
       "      <th>임대료</th>\n",
       "      <th>도보 10분거리 내 지하철역 수(환승노선 수 반영)</th>\n",
       "      <th>도보 10분거리 내 버스정류장 수</th>\n",
       "      <th>단지내주차면수</th>\n",
       "    </tr>\n",
       "  </thead>\n",
       "  <tbody>\n",
       "    <tr>\n",
       "      <th>0</th>\n",
       "      <td>C1072</td>\n",
       "      <td>754</td>\n",
       "      <td>아파트</td>\n",
       "      <td>경기도</td>\n",
       "      <td>국민임대</td>\n",
       "      <td>39.79</td>\n",
       "      <td>116</td>\n",
       "      <td>14.0</td>\n",
       "      <td>H</td>\n",
       "      <td>22830000</td>\n",
       "      <td>189840</td>\n",
       "      <td>0.0</td>\n",
       "      <td>2.0</td>\n",
       "      <td>683.0</td>\n",
       "    </tr>\n",
       "    <tr>\n",
       "      <th>1</th>\n",
       "      <td>C1072</td>\n",
       "      <td>754</td>\n",
       "      <td>아파트</td>\n",
       "      <td>경기도</td>\n",
       "      <td>국민임대</td>\n",
       "      <td>46.81</td>\n",
       "      <td>30</td>\n",
       "      <td>14.0</td>\n",
       "      <td>A</td>\n",
       "      <td>36048000</td>\n",
       "      <td>249930</td>\n",
       "      <td>0.0</td>\n",
       "      <td>2.0</td>\n",
       "      <td>683.0</td>\n",
       "    </tr>\n",
       "    <tr>\n",
       "      <th>2</th>\n",
       "      <td>C1072</td>\n",
       "      <td>754</td>\n",
       "      <td>아파트</td>\n",
       "      <td>경기도</td>\n",
       "      <td>국민임대</td>\n",
       "      <td>46.90</td>\n",
       "      <td>112</td>\n",
       "      <td>14.0</td>\n",
       "      <td>H</td>\n",
       "      <td>36048000</td>\n",
       "      <td>249930</td>\n",
       "      <td>0.0</td>\n",
       "      <td>2.0</td>\n",
       "      <td>683.0</td>\n",
       "    </tr>\n",
       "    <tr>\n",
       "      <th>3</th>\n",
       "      <td>C1072</td>\n",
       "      <td>754</td>\n",
       "      <td>아파트</td>\n",
       "      <td>경기도</td>\n",
       "      <td>국민임대</td>\n",
       "      <td>46.90</td>\n",
       "      <td>120</td>\n",
       "      <td>14.0</td>\n",
       "      <td>H</td>\n",
       "      <td>36048000</td>\n",
       "      <td>249930</td>\n",
       "      <td>0.0</td>\n",
       "      <td>2.0</td>\n",
       "      <td>683.0</td>\n",
       "    </tr>\n",
       "    <tr>\n",
       "      <th>4</th>\n",
       "      <td>C1072</td>\n",
       "      <td>754</td>\n",
       "      <td>아파트</td>\n",
       "      <td>경기도</td>\n",
       "      <td>국민임대</td>\n",
       "      <td>51.46</td>\n",
       "      <td>60</td>\n",
       "      <td>14.0</td>\n",
       "      <td>H</td>\n",
       "      <td>43497000</td>\n",
       "      <td>296780</td>\n",
       "      <td>0.0</td>\n",
       "      <td>2.0</td>\n",
       "      <td>683.0</td>\n",
       "    </tr>\n",
       "  </tbody>\n",
       "</table>\n",
       "</div>"
      ],
      "text/plain": [
       "    단지코드  총세대수 임대건물구분   지역  공급유형   전용면적  전용면적별세대수   공가수 자격유형     임대보증금  \\\n",
       "0  C1072   754    아파트  경기도  국민임대  39.79       116  14.0    H  22830000   \n",
       "1  C1072   754    아파트  경기도  국민임대  46.81        30  14.0    A  36048000   \n",
       "2  C1072   754    아파트  경기도  국민임대  46.90       112  14.0    H  36048000   \n",
       "3  C1072   754    아파트  경기도  국민임대  46.90       120  14.0    H  36048000   \n",
       "4  C1072   754    아파트  경기도  국민임대  51.46        60  14.0    H  43497000   \n",
       "\n",
       "      임대료  도보 10분거리 내 지하철역 수(환승노선 수 반영)  도보 10분거리 내 버스정류장 수  단지내주차면수  \n",
       "0  189840                           0.0                 2.0    683.0  \n",
       "1  249930                           0.0                 2.0    683.0  \n",
       "2  249930                           0.0                 2.0    683.0  \n",
       "3  249930                           0.0                 2.0    683.0  \n",
       "4  296780                           0.0                 2.0    683.0  "
      ]
     },
     "execution_count": 29,
     "metadata": {},
     "output_type": "execute_result"
    }
   ],
   "source": [
    "test.head()"
   ]
  },
  {
   "cell_type": "markdown",
   "id": "c60bbd86",
   "metadata": {},
   "source": [
    "### 단지코드 중복제거"
   ]
  },
  {
   "cell_type": "code",
   "execution_count": null,
   "id": "47bc61c9",
   "metadata": {},
   "outputs": [],
   "source": [
    "test_new = test.set_index('단지코드')[unique_cols].drop_duplicates()\n"
   ]
  },
  {
   "cell_type": "code",
   "execution_count": null,
   "id": "13e1095d",
   "metadata": {},
   "outputs": [],
   "source": []
  },
  {
   "cell_type": "code",
   "execution_count": null,
   "id": "9cc9fb70",
   "metadata": {},
   "outputs": [],
   "source": []
  },
  {
   "cell_type": "code",
   "execution_count": null,
   "id": "cb6fe6b4",
   "metadata": {},
   "outputs": [],
   "source": []
  },
  {
   "cell_type": "code",
   "execution_count": null,
   "id": "2ab55143",
   "metadata": {},
   "outputs": [],
   "source": []
  },
  {
   "cell_type": "markdown",
   "id": "0d62c2e5",
   "metadata": {},
   "source": [
    "<br>\n",
    "\n",
    "# 머신러닝"
   ]
  },
  {
   "cell_type": "code",
   "execution_count": null,
   "id": "038ed1c5",
   "metadata": {},
   "outputs": [],
   "source": []
  }
 ],
 "metadata": {
  "kernelspec": {
   "display_name": "Python 3 (ipykernel)",
   "language": "python",
   "name": "python3"
  },
  "language_info": {
   "codemirror_mode": {
    "name": "ipython",
    "version": 3
   },
   "file_extension": ".py",
   "mimetype": "text/x-python",
   "name": "python",
   "nbconvert_exporter": "python",
   "pygments_lexer": "ipython3",
   "version": "3.8.10"
  },
  "toc": {
   "base_numbering": 1,
   "nav_menu": {},
   "number_sections": true,
   "sideBar": true,
   "skip_h1_title": false,
   "title_cell": "Table of Contents",
   "title_sidebar": "Contents",
   "toc_cell": false,
   "toc_position": {},
   "toc_section_display": true,
   "toc_window_display": true
  }
 },
 "nbformat": 4,
 "nbformat_minor": 5
}
